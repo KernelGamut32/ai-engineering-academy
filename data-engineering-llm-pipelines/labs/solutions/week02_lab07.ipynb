{
 "cells": [
  {
   "cell_type": "markdown",
   "id": "45269376",
   "metadata": {},
   "source": [
    "# Lab 07 — Clean & Standardize + Join & Aggregate\n",
    "\n",
    "**Focus Areas:** Clean & standardize (prices, dates, countries, vectorized `is_adult`) and join & aggregate (orders↔customers, per‑segment summaries)\n",
    "\n",
    "---\n",
    "\n",
    "## Outcomes\n",
    "\n",
    "By the end of this lab, you will be able to:\n",
    "\n",
    "1. Build a **reproducible cleaning pipeline** for currency, date parsing, and categorical normalization against a **reference dimension**.\n",
    "2. Create **vectorized features** (e.g., `is_adult`, `high_value_user`) without `apply` loops.\n",
    "3. Perform **inner joins** between orders and customers; diagnose missing keys (anti‑join), and validate cardinality to avoid fan‑out.\n",
    "4. Produce **per‑segment** summaries via `groupby().agg` and export tidy Parquet artifacts for downstream LLM steps."
   ]
  },
  {
   "cell_type": "markdown",
   "id": "91caaee0",
   "metadata": {},
   "source": [
    "## Prerequisites & Setup\n",
    "\n",
    "- Python 3.13 with `pandas`, `numpy`, `pyarrow`, `matplotlib` installed.\n",
    "- JupyterLab or VS Code with Jupyter extension."
   ]
  },
  {
   "cell_type": "markdown",
   "id": "a2173a79",
   "metadata": {},
   "source": [
    "### Synthetic fallback data\n",
    "\n",
    "Generate synthetic data for this lab."
   ]
  },
  {
   "cell_type": "code",
   "execution_count": null,
   "id": "d02b34ea",
   "metadata": {},
   "outputs": [],
   "source": [
    "import numpy as np\n",
    "import pandas as pd\n",
    "import pyarrow.parquet as pq\n",
    "import pyarrow as pa\n",
    "from pathlib import Path\n",
    "import matplotlib.pyplot as plt\n",
    "\n",
    "rng = np.random.default_rng(7)\n",
    "\n",
    "# Customers profile\n",
    "n = 1200\n",
    "users = pd.DataFrame({\n",
    "    'user_id': np.arange(n),\n",
    "    'CustomerID': [f'C{i:05d}' for i in range(n)],\n",
    "    'email': [f'user{i}@example.com' if rng.random() > 0.02 else None for i in range(n)],\n",
    "    'age': rng.integers(16, 80, size=n).astype('Float64'),\n",
    "    'country': rng.choice(['US','U.S.A.','usa','SG','DE','Brasil','United States', 'N/A'], size=n,\n",
    "                          p=[.35,.05,.05,.15,.15,.15,.08,.02]),\n",
    "    'signup_date': rng.choice(['2025-01-05','01/06/2025','06-01-2025','2025/01/07', None], size=n,\n",
    "                              p=[.25,.25,.25,.2,.05]),\n",
    "    'lifetime_value': rng.choice(['$1,234.50','€45,00','1,234','USD 99.95','$0.00','', None], size=n,\n",
    "                                 p=[.25,.15,.25,.15,.15,.03,.02])\n",
    "})\n",
    "\n",
    "# Orders facts\n",
    "m = 4000\n",
    "orders = pd.DataFrame({\n",
    "    'OrderID': np.arange(10_000, 10_000 + m),\n",
    "    'CustomerID': rng.choice(users['CustomerID'], size=m, replace=True),\n",
    "    'OrderDate': rng.choice(['2025-01-06','2025/01/07','01/08/2025','2025-01-09'], size=m),\n",
    "    'ShipCountry': rng.choice(['USA','DE','SG','BR','SE'], size=m, p=[.6,.12,.12,.1,.06]),\n",
    "    'Freight': rng.lognormal(mean=3.3, sigma=0.6, size=m).round(2)\n",
    "})\n",
    "\n",
    "customers = users[['CustomerID','email','age','country','signup_date','lifetime_value']].copy()\n",
    "\n",
    "print(\"Users shape:\", users.shape)\n",
    "print(\"Orders shape:\", orders.shape)\n",
    "print(\"Customers shape:\", customers.shape)\n",
    "display(users.head())\n",
    "display(orders.head())\n",
    "display(customers.head())"
   ]
  },
  {
   "cell_type": "markdown",
   "id": "252e0255",
   "metadata": {},
   "source": [
    "### Country reference dimension (for normalization)"
   ]
  },
  {
   "cell_type": "code",
   "execution_count": null,
   "id": "cea17bf5",
   "metadata": {},
   "outputs": [],
   "source": [
    "country_dim = pd.DataFrame({\n",
    "    'raw': ['USA','U.S.A.','United States','US','usa','U. S. A.','Brasil','BR','Germany','DE','sg','Singapore','N/A'],\n",
    "    'canonical': ['USA','USA','USA','USA','USA','USA','BR','BR','DE','DE','SG','SG','UNKNOWN']\n",
    "})\n",
    "display(country_dim)"
   ]
  },
  {
   "cell_type": "markdown",
   "id": "74e50c69",
   "metadata": {},
   "source": [
    "---\n",
    "\n",
    "## Part A — Clean & Standardize\n",
    "\n",
    "### A1. Inspect & guardrails"
   ]
  },
  {
   "cell_type": "code",
   "execution_count": null,
   "id": "fc11a22f",
   "metadata": {},
   "outputs": [],
   "source": [
    "users.info()"
   ]
  },
  {
   "cell_type": "code",
   "execution_count": null,
   "id": "ba02f273",
   "metadata": {},
   "outputs": [],
   "source": [
    "users.isna().mean().sort_values(ascending=False).head(10)"
   ]
  },
  {
   "cell_type": "markdown",
   "id": "50893990",
   "metadata": {},
   "source": [
    "**Checkpoint:** Drop rows with missing required columns (user_id, email)"
   ]
  },
  {
   "cell_type": "code",
   "execution_count": null,
   "id": "8f068151",
   "metadata": {},
   "outputs": [],
   "source": [
    "required = ['user_id','email']\n",
    "users1 = users.dropna(subset=required)\n",
    "print(f\"Original users: {len(users)}, After dropna: {len(users1)}\")"
   ]
  },
  {
   "cell_type": "markdown",
   "id": "62ae13e1",
   "metadata": {},
   "source": [
    "### A2. Normalize countries using the reference table"
   ]
  },
  {
   "cell_type": "code",
   "execution_count": null,
   "id": "0adaab47",
   "metadata": {},
   "outputs": [],
   "source": [
    "# prep reference by normalizing its 'raw' to a matching key\n",
    "norm_key = (lambda s: s.astype('string')\n",
    "                     .str.replace('.','', regex=False)\n",
    "                     .str.replace(' ','', regex=False)\n",
    "                     .str.upper())\n",
    "\n",
    "ref = country_dim.assign(raw_key = norm_key(country_dim['raw']))[['raw_key','canonical']]\n",
    "users1 = users1.assign(country_key = norm_key(users1['country']))\n",
    "users1 = users1.merge(ref, left_on='country_key', right_on='raw_key', how='left')\n",
    "users1['country_norm'] = users1['canonical'].fillna('UNKNOWN')\n",
    "users1.drop(columns=['raw_key','canonical'], inplace=True)\n",
    "display(users1['country_norm'].value_counts().head())"
   ]
  },
  {
   "cell_type": "markdown",
   "id": "23661b21",
   "metadata": {},
   "source": [
    "### A3. Currency strings → numeric (`lifetime_value`)"
   ]
  },
  {
   "cell_type": "code",
   "execution_count": null,
   "id": "5b6242da",
   "metadata": {},
   "outputs": [],
   "source": [
    "s = users1['lifetime_value'].astype('string').str.strip()\n",
    "# Strip codes/symbols/spaces\n",
    "s1 = (s.str.replace('USD','',regex=False)\n",
    "        .str.replace('EUR','',regex=False)\n",
    "        .str.replace('$','',regex=False)\n",
    "        .str.replace('€','',regex=False)\n",
    "        .str.replace('£','',regex=False)\n",
    "        .str.replace(' ','',regex=False))\n",
    "# Heuristics for decimal separators\n",
    "mask_comma_decimal = s1.str.fullmatch(r'\\d+,\\d{1,2}')\n",
    "mask_both = s1.str.contains(r'\\d+[\\.,]\\d{3,}.*,\\d{1,2}$')\n",
    "\n",
    "s2 = s1.where(~mask_comma_decimal, s1.str.replace(',', '.', regex=False))\n",
    "s2 = s2.where(~mask_both, s2.str.replace('.', '', regex=False).str.replace(',', '.', regex=False))\n",
    "s2 = s2.str.replace(',', '', regex=False)\n",
    "\n",
    "users1['ltv_usd'] = pd.to_numeric(s2, errors='coerce')\n",
    "\n",
    "# Group‑wise impute by normalized country; then fallback 0.0\n",
    "med = users1.groupby('country_norm')['ltv_usd'].transform('median')\n",
    "users1['ltv_usd'] = users1['ltv_usd'].fillna(med).fillna(0.0)\n",
    "display(users1['ltv_usd'].describe())"
   ]
  },
  {
   "cell_type": "markdown",
   "id": "1e8b2dfd",
   "metadata": {},
   "source": [
    "### A4. Dates → `datetime64[ns]`; vectorized `is_adult` and a second feature"
   ]
  },
  {
   "cell_type": "code",
   "execution_count": null,
   "id": "6b15fcc5",
   "metadata": {},
   "outputs": [],
   "source": [
    "users1['signup_dt'] = pd.to_datetime(users1['signup_date'], errors='coerce', infer_datetime_format=True)\n",
    "# Drop rows lacking sequencing dates if needed for later incremental logic\n",
    "users2 = users1.dropna(subset=['signup_dt']).copy()\n",
    "\n",
    "# Vectorized booleans\n",
    "users2['is_adult'] = (users2['age'] >= 18)\n",
    "q90 = users2['ltv_usd'].quantile(0.90)\n",
    "users2['is_high_value'] = users2['ltv_usd'] >= q90\n",
    "\n",
    "display(users2[['age','is_adult','ltv_usd','is_high_value']].head())\n",
    "print(f\"\\nUsers after date filtering: {len(users2)}\")\n",
    "print(f\"90th percentile LTV threshold: ${q90:.2f}\")"
   ]
  },
  {
   "cell_type": "markdown",
   "id": "955e05a3",
   "metadata": {},
   "source": [
    "**Checkpoint:** Why avoid `apply` here? What's the advantage of vectorization and `quantile`‑based thresholds?\n",
    "\n",
    "**Answer:** Vectorized operations are significantly faster than `apply` because they operate on entire arrays at once using optimized C code, rather than iterating through each row with Python loops. Quantile-based thresholds automatically adapt to the data distribution, making the feature more robust to outliers and data changes over time."
   ]
  },
  {
   "cell_type": "markdown",
   "id": "15a7cdd4",
   "metadata": {},
   "source": [
    "### A5. Export cleaned users for joins"
   ]
  },
  {
   "cell_type": "code",
   "execution_count": null,
   "id": "8d489689",
   "metadata": {},
   "outputs": [],
   "source": [
    "out = Path('artifacts/clean')\n",
    "out.mkdir(parents=True, exist_ok=True)\n",
    "pq.write_table(pa.Table.from_pandas(users2, preserve_index=False), out / 'users2_clean.parquet')\n",
    "print(f\"File exists: {(out / 'users2_clean.parquet').exists()}, Rows: {len(users2)}\")"
   ]
  },
  {
   "cell_type": "markdown",
   "id": "cbe8aa94",
   "metadata": {},
   "source": [
    "---\n",
    "\n",
    "## Part B — Join & Aggregate\n",
    "\n",
    "### B1. Prepare orders & customers, and join"
   ]
  },
  {
   "cell_type": "code",
   "execution_count": null,
   "id": "3e3c57bb",
   "metadata": {},
   "outputs": [],
   "source": [
    "# Ensure dtypes\n",
    "orders['OrderDate'] = pd.to_datetime(orders['OrderDate'], errors='coerce')\n",
    "customers = users2[['CustomerID','email','country_norm','signup_dt','is_adult','is_high_value']].copy()\n",
    "\n",
    "# Inner join: realized orders with matched customers\n",
    "joined = orders.merge(customers, on='CustomerID', how='inner', validate='many_to_one')\n",
    "print(f\"Orders: {len(orders)}, Joined: {len(joined)}\")\n",
    "display(joined.head())"
   ]
  },
  {
   "cell_type": "markdown",
   "id": "9c6acede",
   "metadata": {},
   "source": [
    "> **Why inner?** We're building metrics about **realized orders**; missing customers are excluded here. We'll still inspect them via anti‑join next."
   ]
  },
  {
   "cell_type": "markdown",
   "id": "4aa7e66b",
   "metadata": {},
   "source": [
    "### B2. Diagnose missing keys (anti‑join)"
   ]
  },
  {
   "cell_type": "code",
   "execution_count": null,
   "id": "a3d0ba42",
   "metadata": {},
   "outputs": [],
   "source": [
    "left = orders.merge(customers, on='CustomerID', how='left', indicator=True)\n",
    "anti = left[left['_merge'] == 'left_only'][['OrderID','CustomerID']]\n",
    "print(f\"Unmatched orders: {len(anti)}\")\n",
    "display(anti.head())"
   ]
  },
  {
   "cell_type": "markdown",
   "id": "396bde94",
   "metadata": {},
   "source": [
    "**Checkpoint:** If `anti` is non‑empty, list potential causes and remediation (e.g., stale CustomerID, case mismatches, missing profile rows).\n",
    "\n",
    "**Answer:** Potential causes include:\n",
    "- Stale CustomerIDs in orders that no longer exist in the customer database\n",
    "- Case sensitivity mismatches in CustomerID strings\n",
    "- Missing customer profile rows due to earlier data quality filters (e.g., missing email or signup_date)\n",
    "- Data sync issues between orders and customer systems\n",
    "- Customer records deleted but orders retained for historical purposes"
   ]
  },
  {
   "cell_type": "markdown",
   "id": "91699cd7",
   "metadata": {},
   "source": [
    "### B3. Per‑segment aggregates"
   ]
  },
  {
   "cell_type": "code",
   "execution_count": null,
   "id": "ad2ca581",
   "metadata": {},
   "outputs": [],
   "source": [
    "seg = joined.assign(\n",
    "    year = joined['OrderDate'].dt.year,\n",
    "    segment = np.select(\n",
    "        [ joined['is_high_value'], joined['is_adult'] ],\n",
    "        [ 'high_value', 'adult' ],\n",
    "        default='general')\n",
    ")\n",
    "\n",
    "per_segment = (seg\n",
    "    .groupby(['country_norm','segment'], as_index=False)\n",
    "    .agg(orders=('OrderID','count'),\n",
    "         freight_mean=('Freight','mean'),\n",
    "         freight_sum=('Freight','sum'),\n",
    "         customers=('CustomerID','nunique'))\n",
    "    .sort_values(['country_norm','orders'], ascending=[True, False]))\n",
    "display(per_segment.head())\n",
    "print(f\"\\nTotal segment groups: {len(per_segment)}\")"
   ]
  },
  {
   "cell_type": "markdown",
   "id": "159edc1b",
   "metadata": {},
   "source": [
    "### B4. Per‑customer aggregates + join back to attributes"
   ]
  },
  {
   "cell_type": "code",
   "execution_count": null,
   "id": "3e37369f",
   "metadata": {},
   "outputs": [],
   "source": [
    "per_cust = (joined\n",
    "    .groupby('CustomerID', as_index=False)\n",
    "    .agg(n_orders=('OrderID','count'),\n",
    "         freight_mean=('Freight','mean'),\n",
    "         freight_sum=('Freight','sum')))\n",
    "\n",
    "per_cust_enriched = per_cust.merge(customers, on='CustomerID', how='left', validate='one_to_one')\n",
    "display(per_cust_enriched.head())\n",
    "print(f\"\\nUnique customers with orders: {len(per_cust_enriched)}\")"
   ]
  },
  {
   "cell_type": "markdown",
   "id": "ff57068a",
   "metadata": {},
   "source": [
    "### B5. Persist artifacts"
   ]
  },
  {
   "cell_type": "code",
   "execution_count": null,
   "id": "9c9057ac",
   "metadata": {},
   "outputs": [],
   "source": [
    "pq.write_table(pa.Table.from_pandas(per_segment, preserve_index=False), out / 'per_segment.parquet')\n",
    "pq.write_table(pa.Table.from_pandas(per_cust_enriched, preserve_index=False), out / 'per_customer_enriched.parquet')\n",
    "print(\"Artifacts saved successfully!\")\n",
    "print(f\"- per_segment.parquet: {len(per_segment)} rows\")\n",
    "print(f\"- per_customer_enriched.parquet: {len(per_cust_enriched)} rows\")"
   ]
  },
  {
   "cell_type": "markdown",
   "id": "14a16672",
   "metadata": {},
   "source": [
    "---\n",
    "\n",
    "## Part C — Wrap‑Up\n",
    "\n",
    "### Summary and Analysis"
   ]
  },
  {
   "cell_type": "markdown",
   "id": "da0dbf45",
   "metadata": {},
   "source": [
    "**1. Country normalization approach:**\n",
    "\n",
    "We used a reference dimension table (`country_dim`) to normalize country values. The approach:\n",
    "- Created a normalized key by removing punctuation, spaces, and converting to uppercase\n",
    "- Performed a left join between the users table and the reference dimension\n",
    "- Mapped unmapped values to 'UNKNOWN'\n",
    "\n",
    "To expand the reference table:\n",
    "- Monitor unmapped values through coverage reports\n",
    "- Add new raw→canonical mappings as new variations appear\n",
    "- Consider maintaining this as a versioned data asset\n",
    "- Implement automated alerts when unmapped rate exceeds a threshold\n",
    "\n",
    "**2. Why inner join was the right choice:**\n",
    "\n",
    "Inner join was appropriate because:\n",
    "- We're calculating metrics for realized orders with known customer attributes\n",
    "- We need complete information (both order and customer data) for accurate segmentation\n",
    "- Unmatched orders were separately diagnosed via anti-join for data quality monitoring\n",
    "\n",
    "**When left join is preferred:**\n",
    "- When you want to retain all orders even without customer data (e.g., for order volume reporting)\n",
    "- When analyzing data completeness issues\n",
    "- When the left table is the \"source of truth\" and you need to preserve all its records\n",
    "\n",
    "**3. Key metrics from per_segment:**\n",
    "\n",
    "Let's examine two important metrics:"
   ]
  },
  {
   "cell_type": "code",
   "execution_count": null,
   "id": "29057d67",
   "metadata": {},
   "outputs": [],
   "source": [
    "# Top segments by total freight\n",
    "top_segments = per_segment.nlargest(5, 'freight_sum')[['country_norm', 'segment', 'orders', 'freight_sum', 'customers']]\n",
    "print(\"\\nTop 5 segments by total freight:\")\n",
    "display(top_segments)\n",
    "\n",
    "# Average freight per order by segment\n",
    "print(\"\\nAverage freight by segment type (across all countries):\")\n",
    "segment_avg = (per_segment.groupby('segment')\n",
    "               .agg(total_orders=('orders', 'sum'),\n",
    "                    total_freight=('freight_sum', 'sum'))\n",
    "               .assign(avg_freight_per_order=lambda x: x['total_freight'] / x['total_orders']))\n",
    "display(segment_avg)"
   ]
  },
  {
   "cell_type": "markdown",
   "id": "e0d657f2",
   "metadata": {},
   "source": [
    "**Interpretation:**\n",
    "\n",
    "1. **Total freight by segment** reveals which customer segments generate the most shipping revenue. High-value customers likely have higher order volumes or larger shipments, making them a priority for retention and special handling.\n",
    "\n",
    "2. **Average freight per order by segment** helps identify segment-specific shipping patterns. If high-value customers have higher per-order freight costs, this could indicate they purchase larger/heavier items or prefer premium shipping, informing pricing and logistics strategies."
   ]
  },
  {
   "cell_type": "markdown",
   "id": "2d5d58ec",
   "metadata": {},
   "source": [
    "---\n",
    "\n",
    "## Stretch Goals\n",
    "\n",
    "## 1) Reference table coverage report"
   ]
  },
  {
   "cell_type": "code",
   "execution_count": null,
   "id": "8a66d4cc",
   "metadata": {},
   "outputs": [],
   "source": [
    "def norm_key_series(s: pd.Series) -> pd.Series:\n",
    "    return (s.astype('string')\n",
    "             .str.replace('.','', regex=False)\n",
    "             .str.replace(' ','', regex=False)\n",
    "             .str.upper())\n",
    "\n",
    "ref = country_dim.assign(raw_key = norm_key_series(country_dim['raw']))[['raw_key','canonical']]\n",
    "observed_keys = norm_key_series(users2['country']).value_counts()\n",
    "covered = users2.merge(ref, left_on=norm_key_series(users2['country']), right_on='raw_key', how='left')\n",
    "coverage_rate = 1.0 - covered['canonical'].isna().mean()\n",
    "print(f\"Coverage rate: {coverage_rate:.2%}\")\n",
    "print(f\"\\nObserved country keys:\")\n",
    "display(observed_keys)"
   ]
  },
  {
   "cell_type": "code",
   "execution_count": null,
   "id": "07533fc8",
   "metadata": {},
   "outputs": [],
   "source": [
    "# List unmapped keys and generate suggested patch\n",
    "unmapped_counts = (covered[covered['canonical'].isna()]\n",
    "                   .assign(country_key=norm_key_series(covered['country']))['country_key']\n",
    "                   .value_counts())\n",
    "print(f\"Unmapped country keys: {len(unmapped_counts)}\")\n",
    "display(unmapped_counts.head(10))\n",
    "\n",
    "# Draft a patch mapping for instructors to review\n",
    "suggested_patch = {k: 'UNKNOWN' for k in unmapped_counts.index}\n",
    "print(\"\\nSuggested patch dictionary:\")\n",
    "print(suggested_patch)"
   ]
  },
  {
   "cell_type": "markdown",
   "id": "732e9eaa",
   "metadata": {},
   "source": [
    "## 2) Segment stability over time (rolling trends)"
   ]
  },
  {
   "cell_type": "code",
   "execution_count": null,
   "id": "a89998a9",
   "metadata": {},
   "outputs": [],
   "source": [
    "# Prepare daily series per segment\n",
    "seg = joined.assign(\n",
    "    segment = np.select([joined['is_high_value'], joined['is_adult']], ['high_value','adult'], default='general')\n",
    ")\n",
    "seg['day'] = seg['OrderDate'].dt.floor('D')\n",
    "\n",
    "# Aggregate to daily totals per segment\n",
    "daily = (seg.groupby(['segment','day'], as_index=False)\n",
    "          .agg(freight_sum=('Freight','sum'), orders=('OrderID','count'))\n",
    "          .sort_values(['segment','day']))\n",
    "display(daily.head())\n",
    "print(f\"\\nDaily segment records: {len(daily)}\")"
   ]
  },
  {
   "cell_type": "code",
   "execution_count": null,
   "id": "193e2ea9",
   "metadata": {},
   "outputs": [],
   "source": [
    "# Compute rolling 7‑day sums\n",
    "rolled = (daily.set_index('day')\n",
    "               .groupby('segment', group_keys=False)\n",
    "               .apply(lambda g: g.sort_index()\n",
    "                                 .assign(freight_sum_7d=g['freight_sum'].rolling(7, min_periods=1).sum(),\n",
    "                                         orders_7d=g['orders'].rolling(7, min_periods=1).sum()))\n",
    "               .reset_index())\n",
    "display(rolled.head(10))"
   ]
  },
  {
   "cell_type": "code",
   "execution_count": null,
   "id": "742212e0",
   "metadata": {},
   "outputs": [],
   "source": [
    "# Quick visualization\n",
    "fig, axes = plt.subplots(1, 3, figsize=(15, 4))\n",
    "for idx, (seg_name, g) in enumerate(rolled.groupby('segment')):\n",
    "    g_sorted = g.sort_values('day')\n",
    "    axes[idx].plot(g_sorted['day'], g_sorted['freight_sum_7d'], marker='o')\n",
    "    axes[idx].set_title(f'7-day Freight Sum — {seg_name}')\n",
    "    axes[idx].set_xlabel('Date')\n",
    "    axes[idx].set_ylabel('7-day Freight Sum')\n",
    "    axes[idx].tick_params(axis='x', rotation=45)\n",
    "plt.tight_layout()\n",
    "plt.show()"
   ]
  },
  {
   "cell_type": "markdown",
   "id": "9999300c",
   "metadata": {},
   "source": [
    "## 3) Quantile bands (deciles/tertiles)"
   ]
  },
  {
   "cell_type": "code",
   "execution_count": null,
   "id": "c4f47326",
   "metadata": {},
   "outputs": [],
   "source": [
    "# Create deciles on ltv_usd\n",
    "metric = users2['ltv_usd'].clip(lower=0)\n",
    "users2 = users2.assign(ltv_decile=pd.qcut(metric, q=10, labels=[f'd{i}' for i in range(1,11)], duplicates='drop'))\n",
    "decile_counts = users2['ltv_decile'].value_counts().sort_index()\n",
    "print(\"LTV Decile distribution:\")\n",
    "display(decile_counts)\n",
    "\n",
    "# Visualize\n",
    "plt.figure(figsize=(10, 5))\n",
    "decile_counts.plot(kind='bar', color='steelblue')\n",
    "plt.title('Customer Distribution by LTV Decile')\n",
    "plt.xlabel('LTV Decile')\n",
    "plt.ylabel('Number of Customers')\n",
    "plt.xticks(rotation=0)\n",
    "plt.tight_layout()\n",
    "plt.show()"
   ]
  },
  {
   "cell_type": "code",
   "execution_count": null,
   "id": "762d0cab",
   "metadata": {},
   "outputs": [],
   "source": [
    "# Use bands in downstream joins/segments\n",
    "cust_attrs = users2[['CustomerID','country_norm','is_adult','ltv_decile']].copy()\n",
    "joined2 = orders.merge(cust_attrs, on='CustomerID', how='inner', validate='many_to_one')\n",
    "per_decile = (joined2.groupby('ltv_decile', as_index=False)\n",
    "              .agg(orders=('OrderID','count'), \n",
    "                   freight_mean=('Freight','mean'), \n",
    "                   freight_sum=('Freight','sum'))\n",
    "              .sort_values('ltv_decile'))\n",
    "print(\"\\nMetrics by LTV Decile:\")\n",
    "display(per_decile)"
   ]
  },
  {
   "cell_type": "markdown",
   "id": "d27d5043",
   "metadata": {},
   "source": [
    "## 4) Join validation tests"
   ]
  },
  {
   "cell_type": "code",
   "execution_count": null,
   "id": "53dfab65",
   "metadata": {},
   "outputs": [],
   "source": [
    "# Test 1: Anti‑join rate threshold\n",
    "left = orders.merge(users2[['CustomerID']], on='CustomerID', how='left', indicator=True)\n",
    "anti_rate = (left['_merge'] == 'left_only').mean()\n",
    "print(f\"Anti-join rate: {anti_rate:.2%}\")\n",
    "assert anti_rate <= 0.01, f\"Anti-join rate too high: {anti_rate:.2%} (>1%)\"\n",
    "print(\"✓ Anti-join rate test passed\")"
   ]
  },
  {
   "cell_type": "code",
   "execution_count": null,
   "id": "a652a5b8",
   "metadata": {},
   "outputs": [],
   "source": [
    "# Test 2: Cardinality validation (avoid fan‑out)\n",
    "try:\n",
    "    _ = orders.merge(users2[['CustomerID']], on='CustomerID', how='inner', validate='many_to_one')\n",
    "    print(\"✓ Cardinality validation passed (many_to_one)\")\n",
    "except Exception as e:\n",
    "    print(f\"✗ Cardinality validation failed: {e}\")"
   ]
  },
  {
   "cell_type": "code",
   "execution_count": null,
   "id": "a351d41c",
   "metadata": {},
   "outputs": [],
   "source": [
    "# Test 3: Aggregates shouldn't be NaN in required metrics\n",
    "per_segment_test = (joined.groupby('CustomerID', as_index=False)\n",
    "                    .agg(n_orders=('OrderID','count'), freight_sum=('Freight','sum')))\n",
    "assert per_segment_test['n_orders'].notna().all(), 'n_orders contains NaN'\n",
    "assert per_segment_test['freight_sum'].notna().all(), 'freight_sum contains NaN'\n",
    "print(\"✓ Aggregate NaN test passed\")\n",
    "print(f\"\\nAll validation tests passed successfully!\")"
   ]
  },
  {
   "cell_type": "markdown",
   "id": "3deb5b28",
   "metadata": {},
   "source": [
    "## 5) Partitioned output"
   ]
  },
  {
   "cell_type": "code",
   "execution_count": null,
   "id": "48d46eb4",
   "metadata": {},
   "outputs": [],
   "source": [
    "# Write one file per country partition\n",
    "root = out / 'per_segment'\n",
    "root.mkdir(parents=True, exist_ok=True)\n",
    "\n",
    "parts = 0\n",
    "for k, g in per_segment.groupby('country_norm'):\n",
    "    pq.write_table(pa.Table.from_pandas(g, preserve_index=False), root / f'country_norm={k}.parquet')\n",
    "    parts += 1\n",
    "\n",
    "partition_files = sorted(p.name for p in root.glob('country_norm=*.parquet'))[:5]\n",
    "print(f\"Partitions written: {parts}\")\n",
    "print(f\"Sample partition files: {partition_files}\")"
   ]
  },
  {
   "cell_type": "code",
   "execution_count": null,
   "id": "e1171dd9",
   "metadata": {},
   "outputs": [],
   "source": [
    "# Validate partition counts vs groups\n",
    "n_groups = per_segment['country_norm'].nunique()\n",
    "assert n_groups == parts, f\"Expected {n_groups} partitions, wrote {parts}\"\n",
    "print(f\"✓ Partition validation passed: {n_groups} groups = {parts} partitions\")"
   ]
  },
  {
   "cell_type": "markdown",
   "id": "11c79b3c",
   "metadata": {},
   "source": [
    "## 6) LLM‑ready summary view"
   ]
  },
  {
   "cell_type": "code",
   "execution_count": null,
   "id": "b41abf84",
   "metadata": {},
   "outputs": [],
   "source": [
    "# Build a human‑readable summary string\n",
    "sample = (per_cust_enriched\n",
    "          .assign(segment=np.where(per_cust_enriched['is_high_value'], 'high-value',\n",
    "                                    np.where(per_cust_enriched['is_adult'], 'adult', 'general')))\n",
    "          .loc[:, ['CustomerID','country_norm','n_orders','freight_sum','segment']])\n",
    "\n",
    "summary = (sample\n",
    "    .assign(summary=lambda df: (\n",
    "        'Customer ' + df['CustomerID'] + ' is a ' + df['segment'] + ' buyer in ' + df['country_norm'] +\n",
    "        ' with ' + df['n_orders'].astype(str) + ' orders and total freight $' + df['freight_sum'].round(2).astype(str)\n",
    "    )))\n",
    "\n",
    "print(\"LLM-ready customer summaries:\")\n",
    "display(summary.head(5))\n",
    "print(\"\\nSample summaries:\")\n",
    "for s in summary['summary'].head(3):\n",
    "    print(f\"  • {s}\")"
   ]
  },
  {
   "cell_type": "code",
   "execution_count": null,
   "id": "a3099a9f",
   "metadata": {},
   "outputs": [],
   "source": [
    "# Persist the LLM view\n",
    "pq.write_table(pa.Table.from_pandas(summary, preserve_index=False), out / 'per_customer_summary.parquet')\n",
    "print(f\"✓ LLM-ready summary saved: {len(summary)} rows\")"
   ]
  },
  {
   "cell_type": "markdown",
   "id": "3a47d959",
   "metadata": {},
   "source": [
    "---\n",
    "\n",
    "## Final Summary\n",
    "\n",
    "This notebook completed all sections of Lab 07:\n",
    "\n",
    "**Part A - Clean & Standardize:**\n",
    "- ✓ Inspected data and applied guardrails\n",
    "- ✓ Normalized countries using reference dimension table\n",
    "- ✓ Cleaned currency strings to numeric values\n",
    "- ✓ Parsed dates and created vectorized features\n",
    "- ✓ Exported cleaned artifacts\n",
    "\n",
    "**Part B - Join & Aggregate:**\n",
    "- ✓ Performed inner join between orders and customers\n",
    "- ✓ Diagnosed missing keys via anti-join\n",
    "- ✓ Created per-segment aggregates\n",
    "- ✓ Built per-customer aggregates with attributes\n",
    "- ✓ Persisted all artifacts\n",
    "\n",
    "**Part C - Analysis:**\n",
    "- ✓ Summarized country normalization approach\n",
    "- ✓ Explained join strategy choices\n",
    "- ✓ Analyzed key segment metrics\n",
    "\n",
    "**Stretch Goals:**\n",
    "1. ✓ Reference table coverage report with unmapped value detection\n",
    "2. ✓ 7-day rolling segment stability trends with visualization\n",
    "3. ✓ Quantile-based segmentation (deciles) with analysis\n",
    "4. ✓ Comprehensive join validation tests\n",
    "5. ✓ Partitioned parquet output by country\n",
    "6. ✓ LLM-ready natural language summary generation\n",
    "\n",
    "**Key Takeaways:**\n",
    "- Vectorized operations are significantly faster than apply loops\n",
    "- Reference dimension tables provide maintainable, scalable normalization\n",
    "- Join validation (anti-join, cardinality checks) catches data quality issues early\n",
    "- Partitioned outputs improve downstream query performance\n",
    "- Quantile-based thresholds adapt to data distribution changes"
   ]
  }
 ],
 "metadata": {
  "language_info": {
   "name": "python"
  }
 },
 "nbformat": 4,
 "nbformat_minor": 5
}
