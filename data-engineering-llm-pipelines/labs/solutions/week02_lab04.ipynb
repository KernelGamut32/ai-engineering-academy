{
 "cells": [
  {
   "cell_type": "markdown",
   "id": "fe90bab4",
   "metadata": {},
   "source": [
    "# Lab 04 — Pandas Selection & Filtering\n",
    "\n",
    "**Focus Area:** Turning messy raw data into consistent, joined datasets using Pandas selection & filtering (`loc`, boolean masks, `query`, chained masks)\n",
    "\n",
    "## Outcomes\n",
    "\n",
    "By the end of this lab, you will be able to:\n",
    "\n",
    "1. Construct correct boolean masks using `&`, `|`, and `~` with parentheses.\n",
    "2. Select rows/columns using `df.loc[row_mask, col_list]` vs. positional `iloc`.\n",
    "3. Apply chained masks safely without the chained‑assignment trap.\n",
    "4. Use `DataFrame.query` for readable filters (and when to prefer it vs. masks).\n",
    "5. Build reusable filter functions and compose them for clarity."
   ]
  },
  {
   "cell_type": "markdown",
   "id": "7ad2d90c",
   "metadata": {},
   "source": [
    "## Prerequisites & Setup\n",
    "\n",
    "Create a synthetic dataset for practicing selection and filtering operations."
   ]
  },
  {
   "cell_type": "code",
   "execution_count": null,
   "id": "1606d559",
   "metadata": {},
   "outputs": [],
   "source": [
    "import numpy as np\n",
    "import pandas as pd\n",
    "import matplotlib.pyplot as plt\n",
    "from pathlib import Path\n",
    "\n",
    "# Set random seed for reproducibility\n",
    "rng = np.random.default_rng(42)\n",
    "n = 1000\n",
    "\n",
    "# Create synthetic users dataset\n",
    "users = pd.DataFrame({\n",
    "    'user_id': np.arange(n),\n",
    "    'age': rng.integers(16, 80, size=n),\n",
    "    'country': rng.choice(['US','U.S.A.','USA','SG','DE','BR','IN'], size=n, p=[.25,.05,.1,.15,.15,.15,.15]),\n",
    "    'sessions': rng.poisson(3, size=n),\n",
    "    'avg_session_sec': rng.normal(300, 60, size=n).clip(30, 1500),\n",
    "    'spend_usd': np.round(rng.lognormal(mean=3.0, sigma=0.7, size=n), 2)\n",
    "})\n",
    "\n",
    "print(f\"Created dataset with {len(users)} users\")\n",
    "users.head()"
   ]
  },
  {
   "cell_type": "markdown",
   "id": "46593284",
   "metadata": {},
   "source": [
    "## Part A — Boolean Masks & Parentheses\n",
    "\n",
    "### A1. Build masks correctly\n",
    "\n",
    "We'll create boolean masks for different conditions and combine them using `&` (AND), `|` (OR), and `~` (NOT) operators.\n",
    "\n",
    "**Important:** Always use parentheses when combining masks!"
   ]
  },
  {
   "cell_type": "code",
   "execution_count": null,
   "id": "5d1033e0",
   "metadata": {},
   "outputs": [],
   "source": [
    "# Create individual boolean masks\n",
    "adults = users['age'] >= 18\n",
    "heavy_users = users['sessions'] >= 5\n",
    "us_like = users['country'].isin(['US','U.S.A.','USA'])\n",
    "\n",
    "# Combine with parentheses!\n",
    "mask = adults & heavy_users & us_like\n",
    "\n",
    "# Select rows and a subset of columns\n",
    "view = users.loc[mask, ['user_id','age','country','sessions','avg_session_sec']]\n",
    "print(f\"Filtered to {len(view)} users out of {len(users)}\")\n",
    "print(f\"\\nShape: {view.shape}\")\n",
    "view.head()"
   ]
  },
  {
   "cell_type": "markdown",
   "id": "fea54190",
   "metadata": {},
   "source": [
    "**Checkpoint:** Why are parentheses required?\n",
    "\n",
    "- Parentheses are required because of operator precedence. Without them, comparison operators like `==` have different precedence than boolean operators like `&`.\n",
    "- `adults & heavy_users == True` would be evaluated as `adults & (heavy_users == True)`, which is not what we want.\n",
    "- Always use parentheses to make the order of operations explicit: `(adults) & (heavy_users) & (us_like)`"
   ]
  },
  {
   "cell_type": "markdown",
   "id": "a03df753",
   "metadata": {},
   "source": [
    "### A2. Negation and OR\n",
    "\n",
    "Using the negation operator `~` and the OR operator `|`."
   ]
  },
  {
   "cell_type": "code",
   "execution_count": null,
   "id": "70cb0b08",
   "metadata": {},
   "outputs": [],
   "source": [
    "# Create filters for low engagement or non-US users\n",
    "low_engagement = users['sessions'] <= 1\n",
    "non_us = ~us_like\n",
    "\n",
    "# Combine with OR operator\n",
    "subset = users.loc[low_engagement | non_us, ['user_id','country','sessions']]\n",
    "\n",
    "print(f\"Found {len(subset)} users with low engagement or non-US\")\n",
    "print(f\"\\nBreakdown:\")\n",
    "print(f\"  Low engagement users: {low_engagement.sum()}\")\n",
    "print(f\"  Non-US users: {non_us.sum()}\")\n",
    "print(f\"  Combined (with OR): {len(subset)}\")\n",
    "\n",
    "subset.sample(5, random_state=1)"
   ]
  },
  {
   "cell_type": "markdown",
   "id": "20ab7c86",
   "metadata": {},
   "source": [
    "**Quick note:** The `~` operator negates a boolean Series. Ensure the operand has boolean dtype, otherwise you'll get unexpected results."
   ]
  },
  {
   "cell_type": "markdown",
   "id": "fb2a12cb",
   "metadata": {},
   "source": [
    "## Part B — `loc` vs `iloc` & Avoiding Chained Assignment\n",
    "\n",
    "### B1. Label vs positional selection"
   ]
  },
  {
   "cell_type": "code",
   "execution_count": null,
   "id": "0132e192",
   "metadata": {},
   "outputs": [],
   "source": [
    "# loc uses labels (row indices and column names)\n",
    "first_10_by_label = users.loc[0:9, ['user_id','age']]\n",
    "\n",
    "# iloc uses integer positions (0-based, exclusive end)\n",
    "first_10_by_pos = users.iloc[0:10, [0,1]]  # same rows; columns by index\n",
    "\n",
    "print(\"Using .loc (label-based, inclusive):\")\n",
    "print(f\"Shape: {first_10_by_label.shape}\")\n",
    "display(first_10_by_label.head())\n",
    "\n",
    "print(\"\\nUsing .iloc (position-based, exclusive):\")\n",
    "print(f\"Shape: {first_10_by_pos.shape}\")\n",
    "display(first_10_by_pos.head())\n",
    "\n",
    "# Verify they're the same\n",
    "print(f\"\\nAre they equal? {first_10_by_label.equals(first_10_by_pos)}\")"
   ]
  },
  {
   "cell_type": "markdown",
   "id": "2755b305",
   "metadata": {},
   "source": [
    "### Correct single-column assignment with loc\n",
    "\n",
    "This demonstrates the **correct** way to add or modify a column based on a condition."
   ]
  },
  {
   "cell_type": "code",
   "execution_count": null,
   "id": "a9206dc1",
   "metadata": {},
   "outputs": [],
   "source": [
    "# Correct way: use loc to avoid chained assignment\n",
    "users.loc[adults, 'is_adult'] = True\n",
    "users.loc[~adults, 'is_adult'] = False\n",
    "\n",
    "print(\"Added 'is_adult' column:\")\n",
    "print(users[['age','is_adult']].head(10))\n",
    "print(f\"\\nAdults: {users['is_adult'].sum()}\")\n",
    "print(f\"Minors: {(~users['is_adult']).sum()}\")"
   ]
  },
  {
   "cell_type": "markdown",
   "id": "feb8fb4b",
   "metadata": {},
   "source": [
    "### B2. Chained assignment trap demo\n",
    "\n",
    "#### What the \"chained assignment trap\" is\n",
    "\n",
    "In pandas, expressions like `df[cond][col] = value` may operate on a temporary view or a temporary copy of your data. If it's a copy, the assignment modifies only the temporary object — not the original `df`. Because pandas has to balance speed and memory, whether you get a view or a copy is not guaranteed across versions/operations. That uncertainty is the \"trap.\"\n",
    "\n",
    "- **Chaining = two indexing steps** (e.g., `df[cond][col]`) instead of a single `.loc` step.\n",
    "- **Symptom:** You see a `SettingWithCopyWarning` (often), or worse, *no warning* but the change silently doesn't stick."
   ]
  },
  {
   "cell_type": "code",
   "execution_count": null,
   "id": "ebcf99f2",
   "metadata": {},
   "outputs": [],
   "source": [
    "# Demonstrate the trap - create a copy of users to avoid modifying original\n",
    "users_test = users.copy()\n",
    "\n",
    "# BAD: Chained assignment (may or may not modify users_test)\n",
    "print(\"=== BAD APPROACH: Chained Assignment ===\")\n",
    "tmp = users_test[users_test['sessions'] > 5]\n",
    "tmp['flag_bad'] = 1\n",
    "print(f\"Rows in tmp: {len(tmp)}\")\n",
    "print(f\"Non-null flags in tmp: {tmp['flag_bad'].notna().sum()}\")\n",
    "\n",
    "# Check if users_test was modified\n",
    "if 'flag_bad' not in users_test.columns:\n",
    "    print(\"❌ 'flag_bad' column doesn't exist in users_test - assignment failed!\")\n",
    "else:\n",
    "    print(f\"NaN count in users_test['flag_bad']: {users_test['flag_bad'].isna().sum()}\")\n",
    "    print(\"❌ Assignment may have worked on copy, not original!\")"
   ]
  },
  {
   "cell_type": "code",
   "execution_count": null,
   "id": "f022a063",
   "metadata": {},
   "outputs": [],
   "source": [
    "# GOOD: Direct assignment with loc\n",
    "print(\"=== GOOD APPROACH: Using .loc ===\")\n",
    "users_test.loc[users_test['sessions'] > 5, 'flag_good'] = 1\n",
    "print(f\"Non-null flags: {users_test['flag_good'].notna().sum()}\")\n",
    "print(f\"NaN count: {users_test['flag_good'].isna().sum()}\")\n",
    "print(\"✅ Assignment worked correctly!\")\n",
    "\n",
    "# Compare the results\n",
    "print(\"\\nComparison:\")\n",
    "print(f\"Sessions > 5: {(users_test['sessions'] > 5).sum()} users\")\n",
    "print(f\"flag_good set: {users_test['flag_good'].notna().sum()} users\")"
   ]
  },
  {
   "cell_type": "markdown",
   "id": "74438693",
   "metadata": {},
   "source": [
    "**Checkpoint:** Why does `tmp['flag'] = 1` may not modify `users`?\n",
    "\n",
    "**Answer:** \n",
    "- `tmp = users[users['sessions'] > 5]` creates a temporary object that *might* be a view or *might* be a copy of the data.\n",
    "- When you assign `tmp['flag'] = 1`, you're modifying `tmp`, but if `tmp` is a copy, the original `users` DataFrame remains unchanged.\n",
    "- Pandas cannot always guarantee whether you get a view or a copy, which is why this pattern is unreliable.\n",
    "- The **correct** approach is to use `.loc` with a single indexing operation: `users.loc[users['sessions'] > 5, 'flag'] = 1`"
   ]
  },
  {
   "cell_type": "markdown",
   "id": "bbb81502",
   "metadata": {},
   "source": [
    "#### How to avoid the chained assignment trap\n",
    "\n",
    "**Rules of thumb:**\n",
    "\n",
    "1. **Use `.loc` for assignment:** `df.loc[row_mask, 'col'] = value`\n",
    "2. **If working on a subset, make it explicit:** `subset = df[cond].copy()`\n",
    "3. **Don't chain when assigning** (reading is fine): Prefer `df.loc[cond, 'col']` over `df[cond]['col']`\n",
    "4. **Normalize complex conditions into variables:**"
   ]
  },
  {
   "cell_type": "code",
   "execution_count": null,
   "id": "e6bd14f1",
   "metadata": {},
   "outputs": [],
   "source": [
    "# Good pattern: normalize complex conditions\n",
    "m = (users['age'] > 30) & (users['country'] == 'US')\n",
    "users.loc[m, 'segment'] = 'US_30plus'\n",
    "\n",
    "# Alternative safe patterns\n",
    "users.loc[:, 'segment2'] = np.where(m, 'US_30plus', 'Other')\n",
    "\n",
    "# Using assign (creates new DataFrame)\n",
    "users_with_segment = users.assign(segment3=np.where(m, 'US_30plus', 'Other'))\n",
    "\n",
    "print(\"Different safe assignment patterns:\")\n",
    "print(users[['age', 'country', 'segment', 'segment2']].head(10))"
   ]
  },
  {
   "cell_type": "markdown",
   "id": "b3286b43",
   "metadata": {},
   "source": [
    "## Part C — Chained Masks & Reusable Filters\n",
    "\n",
    "### C1. Compose filters\n",
    "\n",
    "Create reusable filter functions that can be combined for complex queries."
   ]
  },
  {
   "cell_type": "code",
   "execution_count": null,
   "id": "203b6127",
   "metadata": {},
   "outputs": [],
   "source": [
    "def f_is_adult(df):\n",
    "    \"\"\"Filter for adult users (age >= 18)\"\"\"\n",
    "    return df['age'] >= 18\n",
    "\n",
    "def f_high_value(df, p=90):\n",
    "    \"\"\"Filter for high-value users (top p percentile by spend)\"\"\"\n",
    "    thr = df['spend_usd'].quantile(p/100)\n",
    "    return df['spend_usd'] >= thr\n",
    "\n",
    "def f_core_markets(df):\n",
    "    \"\"\"Filter for core market countries\"\"\"\n",
    "    return df['country'].isin(['US','SG','DE'])\n",
    "\n",
    "# Combine filters\n",
    "mask = f_is_adult(users) & f_high_value(users, 85) & f_core_markets(users)\n",
    "hv_core = users.loc[mask, ['user_id','age','country','spend_usd']]\n",
    "\n",
    "print(f\"High-value core market adults: {len(hv_core)} users\")\n",
    "print(f\"Average spend: ${hv_core['spend_usd'].mean():.2f}\")\n",
    "print(f\"Minimum spend (85th percentile): ${users['spend_usd'].quantile(0.85):.2f}\")\n",
    "hv_core.head()"
   ]
  },
  {
   "cell_type": "markdown",
   "id": "4839ede6",
   "metadata": {},
   "source": [
    "### C2. Multi-condition with between/isin/str.contains\n",
    "\n",
    "Using pandas' convenient methods for range checks and string matching."
   ]
  },
  {
   "cell_type": "code",
   "execution_count": null,
   "id": "739574da",
   "metadata": {},
   "outputs": [],
   "source": [
    "# Using between and isin\n",
    "mask2 = users['age'].between(25, 40) & users['country'].isin(['US','SG'])\n",
    "print(f\"Users aged 25-40 in US or SG: {mask2.sum()}\")\n",
    "\n",
    "# String contains - naive approach\n",
    "mask3 = users['country'].str.contains('US', regex=False)\n",
    "print(f\"\\nCountries containing 'US' (naive): {mask3.sum()}\")\n",
    "print(f\"Unique countries matched: {users.loc[mask3, 'country'].unique()}\")"
   ]
  },
  {
   "cell_type": "markdown",
   "id": "84cde092",
   "metadata": {},
   "source": [
    "**Note:** The naive `contains('US')` approach only matches exact substring 'US', not 'U.S.A.'. Let's normalize first for better matching."
   ]
  },
  {
   "cell_type": "code",
   "execution_count": null,
   "id": "0312ab08",
   "metadata": {},
   "outputs": [],
   "source": [
    "# Safer normalization before contains\n",
    "norm = users['country'].str.replace('.', '', regex=False).str.upper()\n",
    "mask3b = norm.str.contains('USA')\n",
    "\n",
    "print(f\"After normalization:\")\n",
    "print(f\"Countries containing 'USA': {mask3b.sum()}\")\n",
    "print(f\"Unique normalized countries matched: {norm[mask3b].unique()}\")\n",
    "\n",
    "# Combine all masks\n",
    "filtered = users.loc[mask2 & mask3b]\n",
    "print(f\"\\nFinal filtered count: {len(filtered)}\")\n",
    "filtered.head()"
   ]
  },
  {
   "cell_type": "markdown",
   "id": "5c1c8061",
   "metadata": {},
   "source": [
    "**Checkpoint:** Why normalize before `contains`?\n",
    "\n",
    "**Answer:** The raw data has inconsistent country codes: 'US', 'U.S.A.', and 'USA'. Without normalization:\n",
    "- `contains('US')` matches 'US' only\n",
    "- After removing dots and uppercasing, `contains('USA')` matches all three variants\n",
    "- This ensures we capture all US-related entries regardless of formatting"
   ]
  },
  {
   "cell_type": "code",
   "execution_count": null,
   "id": "5bdfc7a1",
   "metadata": {},
   "outputs": [],
   "source": [
    "# Show the difference in counts\n",
    "print(\"Comparison of matching approaches:\")\n",
    "print(f\"  Raw 'US' contains: {mask3.sum()} matches\")\n",
    "print(f\"  Normalized 'USA' contains: {mask3b.sum()} matches\")\n",
    "print(f\"  Difference: {mask3b.sum() - mask3.sum()} additional matches captured\")\n",
    "print(f\"\\nCountries in original data:\")\n",
    "print(users['country'].value_counts().sort_index())"
   ]
  },
  {
   "cell_type": "markdown",
   "id": "a1a79992",
   "metadata": {},
   "source": [
    "## Part D — `DataFrame.query` & `eval`\n",
    "\n",
    "### D1. Using `query`\n",
    "\n",
    "The `query` method provides a more readable syntax for filtering, especially with complex conditions."
   ]
  },
  {
   "cell_type": "code",
   "execution_count": null,
   "id": "c8ffae54",
   "metadata": {},
   "outputs": [],
   "source": [
    "# Query understands column names directly; use @ for Python variables\n",
    "min_sess = 3\n",
    "q1 = users.query('(age >= 18) & (sessions >= @min_sess) & country in [\"US\", \"U.S.A.\", \"USA\"]')\n",
    "\n",
    "print(f\"Query results: {len(q1)} users\")\n",
    "print(f\"Matches adults with >= {min_sess} sessions in US variants\")\n",
    "q1[['user_id','age','country','sessions']].head()"
   ]
  },
  {
   "cell_type": "markdown",
   "id": "80d109af",
   "metadata": {},
   "source": [
    "### D2. When to choose query vs masks\n",
    "\n",
    "**Prefer masks when:**\n",
    "- You need IDE/type support and autocomplete\n",
    "- Refactoring code (easier to find/replace)\n",
    "- Complex Python expressions or custom functions\n",
    "- Need to reuse the mask multiple times\n",
    "\n",
    "**Prefer `query` when:**\n",
    "- Readability is important (notebooks, presentations)\n",
    "- Complex boolean logic across many columns\n",
    "- Working interactively with data exploration\n",
    "- Want to write SQL-like expressions"
   ]
  },
  {
   "cell_type": "code",
   "execution_count": null,
   "id": "df7bf7ea",
   "metadata": {},
   "outputs": [],
   "source": [
    "# Example: Compare readability\n",
    "# Using masks\n",
    "mask_version = users.loc[\n",
    "    (users['age'] >= 18) & \n",
    "    (users['sessions'] >= 3) & \n",
    "    (users['spend_usd'] >= 20) & \n",
    "    users['country'].isin(['US', 'SG', 'DE'])\n",
    "]\n",
    "\n",
    "# Using query\n",
    "query_version = users.query(\n",
    "    '(age >= 18) and (sessions >= 3) and (spend_usd >= 20) and country in [\"US\", \"SG\", \"DE\"]'\n",
    ")\n",
    "\n",
    "print(f\"Mask version: {len(mask_version)} results\")\n",
    "print(f\"Query version: {len(query_version)} results\")\n",
    "print(f\"Results match: {len(mask_version) == len(query_version)}\")"
   ]
  },
  {
   "cell_type": "markdown",
   "id": "b6cfa945",
   "metadata": {},
   "source": [
    "### D3. Bonus: `eval` for computed columns in‑place\n",
    "\n",
    "The `eval` method can be faster for large DataFrames and avoids creating temporary objects."
   ]
  },
  {
   "cell_type": "code",
   "execution_count": null,
   "id": "80ad4da3",
   "metadata": {},
   "outputs": [],
   "source": [
    "# Using eval to create a computed column\n",
    "users = users.eval('engagement = sessions * avg_session_sec')\n",
    "\n",
    "print(\"Created 'engagement' column:\")\n",
    "print(users[['sessions', 'avg_session_sec', 'engagement']].head())\n",
    "\n",
    "# Now use query with the new column\n",
    "engagement_threshold = users.engagement.quantile(0.9)\n",
    "crit = users.query('engagement >= @engagement_threshold')\n",
    "\n",
    "print(f\"\\nTop 10% by engagement: {len(crit)} users\")\n",
    "print(f\"Engagement threshold (90th percentile): {engagement_threshold:.0f}\")\n",
    "crit[['user_id', 'sessions', 'avg_session_sec', 'engagement']].head()"
   ]
  },
  {
   "cell_type": "markdown",
   "id": "31cb6891",
   "metadata": {},
   "source": [
    "## Part E — Bonus (Optional) — Filter orders Parquet artifacts\n",
    "\n",
    "This section uses partitioned Parquet files from Lab 03. If you don't have these files, skip this section or run Lab 03 first."
   ]
  },
  {
   "cell_type": "code",
   "execution_count": null,
   "id": "33339b90",
   "metadata": {},
   "outputs": [],
   "source": [
    "# Check if the artifacts exist\n",
    "from pathlib import Path\n",
    "\n",
    "p = Path('artifacts/parquet/orders')\n",
    "if p.exists():\n",
    "    files = sorted(p.glob('shipcountry=*.parquet'))\n",
    "    print(f\"Found {len(files)} parquet files\")\n",
    "    if files:\n",
    "        orders = pd.concat([pd.read_parquet(f) for f in files], ignore_index=True)\n",
    "        print(f\"Loaded {len(orders)} orders\")\n",
    "        print(orders.head())\n",
    "    else:\n",
    "        print(\"No parquet files found in directory\")\n",
    "        orders = None\n",
    "else:\n",
    "    print(f\"Directory '{p}' does not exist. Skipping Part E.\")\n",
    "    print(\"Run Lab 03 first to create the parquet artifacts.\")\n",
    "    orders = None"
   ]
  },
  {
   "cell_type": "markdown",
   "id": "4396a8f6",
   "metadata": {},
   "source": [
    "### E2. Boolean masks vs `query` on orders data\n",
    "\n",
    "Let's compare both approaches on the orders dataset (if available)."
   ]
  },
  {
   "cell_type": "code",
   "execution_count": null,
   "id": "255fed4b",
   "metadata": {},
   "outputs": [],
   "source": [
    "if orders is not None:\n",
    "    # Approach 1: Boolean masks\n",
    "    m_country = orders['ShipCountry'].isin(['USA','Germany'])\n",
    "    m_date = pd.to_datetime(orders['OrderDate'], errors='coerce').between('1997-01-01','1998-12-31')\n",
    "    m_freight = orders['Freight'] >= orders['Freight'].quantile(0.9)\n",
    "    \n",
    "    subset_mask = orders.loc[\n",
    "        m_country & m_date & m_freight, \n",
    "        ['OrderID','CustomerID','ShipCountry','OrderDate','Freight']\n",
    "    ]\n",
    "    \n",
    "    print(f\"=== Mask approach ===\")\n",
    "    print(f\"Found {len(subset_mask)} orders\")\n",
    "    print(f\"  Country filter: {m_country.sum()} orders\")\n",
    "    print(f\"  Date filter: {m_date.sum()} orders\")\n",
    "    print(f\"  Freight filter: {m_freight.sum()} orders\")\n",
    "    print(f\"  Combined: {len(subset_mask)} orders\")\n",
    "    \n",
    "    # Approach 2: Query\n",
    "    orders2 = orders.assign(OrderDate=pd.to_datetime(orders['OrderDate'], errors='coerce'))\n",
    "    freight_threshold = orders2['Freight'].quantile(0.9)\n",
    "    \n",
    "    q = orders2.query(\n",
    "        'ShipCountry in [\"USA\",\"Germany\"] and '\n",
    "        '(OrderDate >= @pd.Timestamp(\"1997-01-01\")) and '\n",
    "        '(OrderDate <= @pd.Timestamp(\"1998-12-31\")) and '\n",
    "        'Freight >= @freight_threshold'\n",
    "    )\n",
    "    subset_query = q[['OrderID','CustomerID','ShipCountry','OrderDate','Freight']]\n",
    "    \n",
    "    print(f\"\\n=== Query approach ===\")\n",
    "    print(f\"Found {len(subset_query)} orders\")\n",
    "    print(f\"\\nResults match: {len(subset_mask) == len(subset_query)}\")\n",
    "    \n",
    "    display(subset_mask.head())\n",
    "else:\n",
    "    print(\"Skipping - no orders data available\")"
   ]
  },
  {
   "cell_type": "markdown",
   "id": "0f19c909",
   "metadata": {},
   "source": [
    "### E3. Group & sanity‑check"
   ]
  },
  {
   "cell_type": "code",
   "execution_count": null,
   "id": "9ea64f60",
   "metadata": {},
   "outputs": [],
   "source": [
    "if orders is not None and 'subset_mask' in locals():\n",
    "    print(\"Orders by country:\")\n",
    "    country_counts = subset_mask.groupby('ShipCountry').size().sort_values(ascending=False)\n",
    "    print(country_counts)\n",
    "    \n",
    "    print(f\"\\nFreight statistics:\")\n",
    "    print(subset_mask['Freight'].describe())\n",
    "else:\n",
    "    print(\"Skipping - no filtered orders available\")"
   ]
  },
  {
   "cell_type": "markdown",
   "id": "86b5f0ba",
   "metadata": {},
   "source": [
    "**Checkpoint:** Confirm mask and query produce the same number of rows. If not, inspect dtype differences and how dates were handled."
   ]
  },
  {
   "cell_type": "markdown",
   "id": "0899e90e",
   "metadata": {},
   "source": [
    "## Part F — Wrap‑Up\n",
    "\n",
    "### Summary Questions\n",
    "\n",
    "1. **Show two equivalent filters: one with masks and one with `query`**\n",
    "2. **Why is `df.loc[mask, 'col'] = ...` preferred over chained assignment?**\n",
    "3. **When might `eval` or `query` *not* be appropriate?**"
   ]
  },
  {
   "cell_type": "markdown",
   "id": "21a3f2a4",
   "metadata": {},
   "source": [
    "### Answer 1: Equivalent filters"
   ]
  },
  {
   "cell_type": "code",
   "execution_count": null,
   "id": "dc0eeea9",
   "metadata": {},
   "outputs": [],
   "source": [
    "# Mask approach\n",
    "mask = (users['age'] >= 18) & users['sessions'].between(3, 10) & users['country'].isin(['US','U.S.A.','USA'])\n",
    "sol_mask = users.loc[mask, ['user_id','age','sessions','country']]\n",
    "\n",
    "# Query approach\n",
    "sol_query = users.query(\n",
    "    '(age >= 18) and (sessions >= 3) and (sessions <= 10) and country in [\"US\",\"U.S.A.\",\"USA\"]'\n",
    ").loc[:, ['user_id','age','sessions','country']]\n",
    "\n",
    "print(\"Mask approach:\")\n",
    "print(f\"  Results: {len(sol_mask)}\")\n",
    "display(sol_mask.head())\n",
    "\n",
    "print(\"\\nQuery approach:\")\n",
    "print(f\"  Results: {len(sol_query)}\")\n",
    "display(sol_query.head())\n",
    "\n",
    "print(f\"\\nBoth produce same count: {len(sol_mask) == len(sol_query)}\")"
   ]
  },
  {
   "cell_type": "markdown",
   "id": "6339c85c",
   "metadata": {},
   "source": [
    "### Answer 2: Why use `.loc` for assignment?\n",
    "\n",
    "**`df.loc[mask, 'col'] = ...` is preferred because:**\n",
    "\n",
    "1. **Reliability:** It always modifies the original DataFrame, not a temporary copy\n",
    "2. **Single indexing operation:** Uses one step instead of chained indexing\n",
    "3. **Clear intent:** Explicitly shows you're modifying the DataFrame in place\n",
    "4. **No warnings:** Avoids `SettingWithCopyWarning`\n",
    "5. **Predictable behavior:** Works consistently across pandas versions\n",
    "\n",
    "**Chained assignment problems:**\n",
    "- `df[condition]['column'] = value` uses two indexing operations\n",
    "- First `df[condition]` might return a view OR a copy (unpredictable)\n",
    "- Second `['column'] = value` might modify a temporary object\n",
    "- The original DataFrame might not be updated at all"
   ]
  },
  {
   "cell_type": "markdown",
   "id": "3518fe61",
   "metadata": {},
   "source": [
    "### Answer 3: When NOT to use `eval` or `query`\n",
    "\n",
    "**Avoid `eval`/`query` when:**\n",
    "\n",
    "1. **Dynamic column names:** Column names determined at runtime or from variables\n",
    "   ```python\n",
    "   col = 'age'  # Query can't use @col as column name\n",
    "   ```\n",
    "\n",
    "2. **Complex Python functions:** Custom functions or methods not supported\n",
    "   ```python\n",
    "   # This won't work in query\n",
    "   users.query('my_custom_function(age) > 18')\n",
    "   ```\n",
    "\n",
    "3. **Need IDE support:** Type checking, autocomplete, refactoring tools\n",
    "4. **String operations:** Complex string methods like `str.extract()`, regex patterns\n",
    "5. **Performance for small DataFrames:** Overhead of parsing string expressions\n",
    "6. **Debugging:** Stack traces are less clear with string expressions\n",
    "7. **Column names with spaces/special chars:** Require backticks, less readable\n",
    "8. **Need to reuse masks:** Can't easily save and reuse query strings as variables\n",
    "\n",
    "**Example where masks are better:**"
   ]
  },
  {
   "cell_type": "code",
   "execution_count": null,
   "id": "1ef93083",
   "metadata": {},
   "outputs": [],
   "source": [
    "# Dynamic column selection - can't use query\n",
    "cols_to_check = ['age', 'sessions']\n",
    "thresholds = {'age': 18, 'sessions': 3}\n",
    "\n",
    "# Must use masks\n",
    "mask = pd.Series(True, index=users.index)\n",
    "for col in cols_to_check:\n",
    "    mask &= users[col] >= thresholds[col]\n",
    "\n",
    "result = users.loc[mask]\n",
    "print(f\"Dynamic filtering: {len(result)} results\")\n",
    "\n",
    "# Custom function - can't use query\n",
    "def is_high_engagement(row):\n",
    "    return row['sessions'] * row['avg_session_sec'] > 1000\n",
    "\n",
    "high_eng = users.apply(is_high_engagement, axis=1)\n",
    "print(f\"Custom function: {high_eng.sum()} high-engagement users\")"
   ]
  },
  {
   "cell_type": "markdown",
   "id": "6885e3c3",
   "metadata": {},
   "source": [
    "### Common Pitfalls Summary\n",
    "\n",
    "**1. Missing parentheses in boolean combinations:**\n",
    "```python\n",
    "# Wrong: (comparison has lower precedence than &)\n",
    "mask = users['age'] >= 18 & users['sessions'] > 3  # ERROR!\n",
    "\n",
    "# Correct:\n",
    "mask = (users['age'] >= 18) & (users['sessions'] > 3)\n",
    "```\n",
    "\n",
    "**2. Confusing `and`/`or` with `&`/`|`:**\n",
    "```python\n",
    "# Wrong: 'and' is for scalar boolean, not Series\n",
    "mask = (users['age'] >= 18) and (users['sessions'] > 3)  # ERROR!\n",
    "\n",
    "# Correct: use & for element-wise boolean operations\n",
    "mask = (users['age'] >= 18) & (users['sessions'] > 3)\n",
    "```\n",
    "\n",
    "**3. Chained assignment:**\n",
    "```python\n",
    "# Wrong: might not modify original\n",
    "users[users['age'] > 18]['category'] = 'adult'  # WARNING!\n",
    "\n",
    "# Correct: use .loc\n",
    "users.loc[users['age'] > 18, 'category'] = 'adult'\n",
    "```"
   ]
  },
  {
   "cell_type": "markdown",
   "id": "9c77f214",
   "metadata": {},
   "source": [
    "## Conclusion\n",
    "\n",
    "In this lab, we covered:\n",
    "\n",
    "✅ Boolean mask construction with proper use of `&`, `|`, `~`, and parentheses  \n",
    "✅ Difference between `.loc` (label-based) and `.iloc` (position-based) indexing  \n",
    "✅ Avoiding the chained assignment trap by using `.loc` for all assignments  \n",
    "✅ Using `.query()` for readable filtering when appropriate  \n",
    "✅ Building reusable filter functions for complex logic  \n",
    "✅ Understanding when to prefer masks vs. query vs. eval  \n",
    "\n",
    "**Key Takeaways:**\n",
    "- Always use parentheses with boolean operators\n",
    "- Use `.loc` for reliable assignment operations\n",
    "- Choose the right tool: masks for flexibility, query for readability\n",
    "- Normalize data before string matching operations\n",
    "- Create reusable filter functions for maintainable code"
   ]
  },
  {
   "cell_type": "markdown",
   "id": "86ac5993",
   "metadata": {},
   "source": [
    "## Bonus: Additional Examples and Visualizations"
   ]
  },
  {
   "cell_type": "code",
   "execution_count": null,
   "id": "ba938219",
   "metadata": {},
   "outputs": [],
   "source": [
    "# Visualize the effect of different filters\n",
    "fig, axes = plt.subplots(2, 2, figsize=(12, 10))\n",
    "\n",
    "# Plot 1: Age distribution with adult filter\n",
    "axes[0, 0].hist(users['age'], bins=30, alpha=0.5, label='All users')\n",
    "axes[0, 0].hist(users.loc[adults, 'age'], bins=30, alpha=0.5, label='Adults (>=18)')\n",
    "axes[0, 0].axvline(18, color='red', linestyle='--', label='Age 18')\n",
    "axes[0, 0].set_xlabel('Age')\n",
    "axes[0, 0].set_ylabel('Count')\n",
    "axes[0, 0].set_title('Age Distribution with Adult Filter')\n",
    "axes[0, 0].legend()\n",
    "\n",
    "# Plot 2: Sessions distribution\n",
    "axes[0, 1].hist(users['sessions'], bins=20, alpha=0.5, label='All users')\n",
    "axes[0, 1].hist(users.loc[heavy_users, 'sessions'], bins=20, alpha=0.5, label='Heavy users (>=5)')\n",
    "axes[0, 1].axvline(5, color='red', linestyle='--', label='5 sessions')\n",
    "axes[0, 1].set_xlabel('Sessions')\n",
    "axes[0, 1].set_ylabel('Count')\n",
    "axes[0, 1].set_title('Session Distribution with Heavy User Filter')\n",
    "axes[0, 1].legend()\n",
    "\n",
    "# Plot 3: Country distribution\n",
    "country_counts = users['country'].value_counts()\n",
    "axes[1, 0].bar(range(len(country_counts)), country_counts.values)\n",
    "axes[1, 0].set_xticks(range(len(country_counts)))\n",
    "axes[1, 0].set_xticklabels(country_counts.index, rotation=45)\n",
    "axes[1, 0].set_xlabel('Country')\n",
    "axes[1, 0].set_ylabel('Count')\n",
    "axes[1, 0].set_title('Country Distribution')\n",
    "\n",
    "# Plot 4: Spend distribution\n",
    "axes[1, 1].hist(users['spend_usd'], bins=50, alpha=0.7)\n",
    "axes[1, 1].axvline(users['spend_usd'].quantile(0.85), color='red', linestyle='--', \n",
    "                   label='85th percentile')\n",
    "axes[1, 1].set_xlabel('Spend (USD)')\n",
    "axes[1, 1].set_ylabel('Count')\n",
    "axes[1, 1].set_title('Spend Distribution')\n",
    "axes[1, 1].legend()\n",
    "\n",
    "plt.tight_layout()\n",
    "plt.show()\n",
    "\n",
    "print(\"Filter Statistics:\")\n",
    "print(f\"  Total users: {len(users)}\")\n",
    "print(f\"  Adults: {adults.sum()} ({adults.sum()/len(users)*100:.1f}%)\")\n",
    "print(f\"  Heavy users: {heavy_users.sum()} ({heavy_users.sum()/len(users)*100:.1f}%)\")\n",
    "print(f\"  US-like countries: {us_like.sum()} ({us_like.sum()/len(users)*100:.1f}%)\")\n",
    "print(f\"  Combined filter: {mask.sum()} ({mask.sum()/len(users)*100:.1f}%)\")"
   ]
  },
  {
   "cell_type": "code",
   "execution_count": null,
   "id": "bb2f004e",
   "metadata": {},
   "outputs": [],
   "source": [
    "# Create a comparison table of different filtering approaches\n",
    "comparison_data = {\n",
    "    'Filter Description': [\n",
    "        'All users',\n",
    "        'Adults (age >= 18)',\n",
    "        'Heavy users (sessions >= 5)',\n",
    "        'US-like countries',\n",
    "        'Adults AND Heavy AND US',\n",
    "        'Low engagement OR Non-US',\n",
    "        'Age 25-40 AND (US or SG)',\n",
    "        'Top 10% engagement'\n",
    "    ],\n",
    "    'Count': [\n",
    "        len(users),\n",
    "        adults.sum(),\n",
    "        heavy_users.sum(),\n",
    "        us_like.sum(),\n",
    "        mask.sum(),\n",
    "        (low_engagement | non_us).sum(),\n",
    "        mask2.sum(),\n",
    "        len(crit)\n",
    "    ]\n",
    "}\n",
    "\n",
    "comparison_df = pd.DataFrame(comparison_data)\n",
    "comparison_df['Percentage'] = (comparison_df['Count'] / len(users) * 100).round(1)\n",
    "comparison_df['Bar'] = comparison_df['Percentage'].apply(lambda x: '█' * int(x/2))\n",
    "\n",
    "print(\"\\nFilter Comparison Summary:\")\n",
    "print(\"=\"*80)\n",
    "display(comparison_df)"
   ]
  }
 ],
 "metadata": {
  "language_info": {
   "name": "python"
  }
 },
 "nbformat": 4,
 "nbformat_minor": 5
}
