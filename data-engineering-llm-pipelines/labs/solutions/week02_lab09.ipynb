{
 "cells": [
  {
   "cell_type": "markdown",
   "id": "3f6c2691",
   "metadata": {},
   "source": [
    "# Lab 09 — Pandera & Pydantic Walkthrough\n",
    "\n",
    "**Focus Area:** Column types, constraints (`Check.in_range`, regex), row/DF checks, error handling, CI hooks\n",
    "\n",
    "> This lab is the *how*: you'll author practical schemas with **Pandera** (DataFrame‑level) and **Pydantic** (row/message‑level), wire clear error messages, and add lightweight CI hooks so bad data never reaches downstream LLM steps."
   ]
  },
  {
   "cell_type": "markdown",
   "id": "cebacdfb",
   "metadata": {},
   "source": [
    "## Outcomes\n",
    "\n",
    "By the end of this lab, you will be able to:\n",
    "\n",
    "1. Define **column types** and **constraints** in Pandera (range checks, regex/category allow‑lists, cross‑column rules).\n",
    "2. Write **row‑level contracts** with Pydantic and use validators for custom logic.\n",
    "3. Handle validation errors gracefully: produce compact roll‑ups for logs/CI and detailed CSVs for triage.\n",
    "4. Add **CI hooks** (pytest + pre‑commit) that fail fast on drift."
   ]
  },
  {
   "cell_type": "markdown",
   "id": "d963a5bd",
   "metadata": {},
   "source": [
    "## Prerequisites & Setup\n",
    "\n",
    "- Python 3.13 with `pandas`, `numpy`, `pandera>=0.20`, `pydantic>=2.0`, `pyarrow`, `pytest` (for the CI section).\n",
    "- JupyterLab or VS Code with Jupyter extension.\n",
    "- Artifacts: Prefer `artifacts/clean/per_customer.parquet`.\n",
    "\n",
    "**Start a notebook:** `week02_lab09.ipynb`"
   ]
  },
  {
   "cell_type": "markdown",
   "id": "016fd2b5",
   "metadata": {},
   "source": [
    "### Synthetic fallback (run only if needed)"
   ]
  },
  {
   "cell_type": "code",
   "execution_count": 1,
   "id": "a4395f7a",
   "metadata": {},
   "outputs": [
    {
     "data": {
      "application/vnd.microsoft.datawrangler.viewer.v0+json": {
       "columns": [
        {
         "name": "index",
         "rawType": "int64",
         "type": "integer"
        },
        {
         "name": "CustomerID",
         "rawType": "object",
         "type": "string"
        },
        {
         "name": "country_norm",
         "rawType": "object",
         "type": "string"
        },
        {
         "name": "age",
         "rawType": "int64",
         "type": "integer"
        },
        {
         "name": "ltv_usd",
         "rawType": "float64",
         "type": "float"
        },
        {
         "name": "email",
         "rawType": "object",
         "type": "string"
        },
        {
         "name": "is_adult",
         "rawType": "bool",
         "type": "boolean"
        },
        {
         "name": "is_high_value",
         "rawType": "bool",
         "type": "boolean"
        }
       ],
       "ref": "b95491ef-7616-4e1b-9b43-ce0fc6924547",
       "rows": [
        [
         "0",
         "C00000",
         "DE",
         "46",
         "30.26",
         "user0@example.com",
         "True",
         "False"
        ],
        [
         "1",
         "C00001",
         "USA",
         "48",
         "5.93",
         "user1@example.com",
         "True",
         "False"
        ],
        [
         "2",
         "C00002",
         "USA",
         "64",
         "17.72",
         "user2@example.com",
         "True",
         "False"
        ]
       ],
       "shape": {
        "columns": 7,
        "rows": 3
       }
      },
      "text/html": [
       "<div>\n",
       "<style scoped>\n",
       "    .dataframe tbody tr th:only-of-type {\n",
       "        vertical-align: middle;\n",
       "    }\n",
       "\n",
       "    .dataframe tbody tr th {\n",
       "        vertical-align: top;\n",
       "    }\n",
       "\n",
       "    .dataframe thead th {\n",
       "        text-align: right;\n",
       "    }\n",
       "</style>\n",
       "<table border=\"1\" class=\"dataframe\">\n",
       "  <thead>\n",
       "    <tr style=\"text-align: right;\">\n",
       "      <th></th>\n",
       "      <th>CustomerID</th>\n",
       "      <th>country_norm</th>\n",
       "      <th>age</th>\n",
       "      <th>ltv_usd</th>\n",
       "      <th>email</th>\n",
       "      <th>is_adult</th>\n",
       "      <th>is_high_value</th>\n",
       "    </tr>\n",
       "  </thead>\n",
       "  <tbody>\n",
       "    <tr>\n",
       "      <th>0</th>\n",
       "      <td>C00000</td>\n",
       "      <td>DE</td>\n",
       "      <td>46</td>\n",
       "      <td>30.26</td>\n",
       "      <td>user0@example.com</td>\n",
       "      <td>True</td>\n",
       "      <td>False</td>\n",
       "    </tr>\n",
       "    <tr>\n",
       "      <th>1</th>\n",
       "      <td>C00001</td>\n",
       "      <td>USA</td>\n",
       "      <td>48</td>\n",
       "      <td>5.93</td>\n",
       "      <td>user1@example.com</td>\n",
       "      <td>True</td>\n",
       "      <td>False</td>\n",
       "    </tr>\n",
       "    <tr>\n",
       "      <th>2</th>\n",
       "      <td>C00002</td>\n",
       "      <td>USA</td>\n",
       "      <td>64</td>\n",
       "      <td>17.72</td>\n",
       "      <td>user2@example.com</td>\n",
       "      <td>True</td>\n",
       "      <td>False</td>\n",
       "    </tr>\n",
       "  </tbody>\n",
       "</table>\n",
       "</div>"
      ],
      "text/plain": [
       "  CustomerID country_norm  age  ltv_usd              email  is_adult  \\\n",
       "0     C00000           DE   46    30.26  user0@example.com      True   \n",
       "1     C00001          USA   48     5.93  user1@example.com      True   \n",
       "2     C00002          USA   64    17.72  user2@example.com      True   \n",
       "\n",
       "   is_high_value  \n",
       "0          False  \n",
       "1          False  \n",
       "2          False  "
      ]
     },
     "execution_count": 1,
     "metadata": {},
     "output_type": "execute_result"
    }
   ],
   "source": [
    "import numpy as np\n",
    "import pandas as pd\n",
    "\n",
    "rng = np.random.default_rng(1)\n",
    "ages = rng.integers(16, 80, 500).astype('int64')\n",
    "users2 = pd.DataFrame({\n",
    "    'CustomerID': [f'C{i:05d}' for i in range(500)],\n",
    "    'country_norm': rng.choice(['USA','DE','SG','BR'], 500, p=[.55,.2,.15,.1]),\n",
    "    'age': ages,\n",
    "    'ltv_usd': np.round(np.clip(rng.lognormal(3.0, 0.7, 500), 0, 5e5), 2),\n",
    "    'email': [f'user{i}@example.com' for i in range(500)],\n",
    "    'is_adult': ages >= 18,  # Changed: derive from age\n",
    "    'is_high_value': rng.random(500) > 0.9,\n",
    "})\n",
    "users2.head(3)"
   ]
  },
  {
   "cell_type": "markdown",
   "id": "1b120d4a",
   "metadata": {},
   "source": [
    "## Part A — Pandera DataFrame Schema"
   ]
  },
  {
   "cell_type": "markdown",
   "id": "43439893",
   "metadata": {},
   "source": [
    "### A1. Define column types & simple constraints"
   ]
  },
  {
   "cell_type": "code",
   "execution_count": 2,
   "id": "59e84ea2",
   "metadata": {},
   "outputs": [
    {
     "data": {
      "text/plain": [
       "500"
      ]
     },
     "execution_count": 2,
     "metadata": {},
     "output_type": "execute_result"
    }
   ],
   "source": [
    "import pandera.pandas as pa\n",
    "from pandera import Column, Check\n",
    "\n",
    "AllowedCountries = ['USA','DE','SG','BR']\n",
    "\n",
    "UsersSchema = pa.DataFrameSchema({\n",
    "    'CustomerID': Column(object, nullable=False, checks=Check.str_matches(r'^C\\d{5}$')),\n",
    "    'country_norm': Column(object, nullable=False, checks=Check.isin(AllowedCountries)),\n",
    "    'age': Column(pa.Int64, nullable=False, checks=Check.in_range(0, 120)),\n",
    "    'ltv_usd': Column(float, nullable=False, checks=Check.ge(0)),\n",
    "    'email': Column(object, nullable=False, checks=Check.str_matches(r'^.+@.+\\..+$')),\n",
    "    'is_adult': Column(bool, nullable=False),\n",
    "    'is_high_value': Column(bool, nullable=False),\n",
    "})\n",
    "\n",
    "clean = UsersSchema.validate(users2, lazy=True)\n",
    "len(clean)"
   ]
  },
  {
   "cell_type": "markdown",
   "id": "7a5866c5",
   "metadata": {},
   "source": [
    "### A2. Cross‑column & DataFrame‑wide checks"
   ]
  },
  {
   "cell_type": "code",
   "execution_count": 3,
   "id": "f6898194",
   "metadata": {},
   "outputs": [
    {
     "data": {
      "application/vnd.microsoft.datawrangler.viewer.v0+json": {
       "columns": [
        {
         "name": "index",
         "rawType": "int64",
         "type": "integer"
        },
        {
         "name": "CustomerID",
         "rawType": "object",
         "type": "string"
        },
        {
         "name": "country_norm",
         "rawType": "object",
         "type": "string"
        },
        {
         "name": "age",
         "rawType": "int64",
         "type": "integer"
        },
        {
         "name": "ltv_usd",
         "rawType": "float64",
         "type": "float"
        },
        {
         "name": "email",
         "rawType": "object",
         "type": "string"
        },
        {
         "name": "is_adult",
         "rawType": "bool",
         "type": "boolean"
        },
        {
         "name": "is_high_value",
         "rawType": "bool",
         "type": "boolean"
        }
       ],
       "ref": "dff9e2c9-6d71-49ac-8006-444f6c342228",
       "rows": [
        [
         "0",
         "C00000",
         "DE",
         "46",
         "30.26",
         "user0@example.com",
         "True",
         "False"
        ],
        [
         "1",
         "C00001",
         "USA",
         "48",
         "5.93",
         "user1@example.com",
         "True",
         "False"
        ]
       ],
       "shape": {
        "columns": 7,
        "rows": 2
       }
      },
      "text/html": [
       "<div>\n",
       "<style scoped>\n",
       "    .dataframe tbody tr th:only-of-type {\n",
       "        vertical-align: middle;\n",
       "    }\n",
       "\n",
       "    .dataframe tbody tr th {\n",
       "        vertical-align: top;\n",
       "    }\n",
       "\n",
       "    .dataframe thead th {\n",
       "        text-align: right;\n",
       "    }\n",
       "</style>\n",
       "<table border=\"1\" class=\"dataframe\">\n",
       "  <thead>\n",
       "    <tr style=\"text-align: right;\">\n",
       "      <th></th>\n",
       "      <th>CustomerID</th>\n",
       "      <th>country_norm</th>\n",
       "      <th>age</th>\n",
       "      <th>ltv_usd</th>\n",
       "      <th>email</th>\n",
       "      <th>is_adult</th>\n",
       "      <th>is_high_value</th>\n",
       "    </tr>\n",
       "  </thead>\n",
       "  <tbody>\n",
       "    <tr>\n",
       "      <th>0</th>\n",
       "      <td>C00000</td>\n",
       "      <td>DE</td>\n",
       "      <td>46</td>\n",
       "      <td>30.26</td>\n",
       "      <td>user0@example.com</td>\n",
       "      <td>True</td>\n",
       "      <td>False</td>\n",
       "    </tr>\n",
       "    <tr>\n",
       "      <th>1</th>\n",
       "      <td>C00001</td>\n",
       "      <td>USA</td>\n",
       "      <td>48</td>\n",
       "      <td>5.93</td>\n",
       "      <td>user1@example.com</td>\n",
       "      <td>True</td>\n",
       "      <td>False</td>\n",
       "    </tr>\n",
       "  </tbody>\n",
       "</table>\n",
       "</div>"
      ],
      "text/plain": [
       "  CustomerID country_norm  age  ltv_usd              email  is_adult  \\\n",
       "0     C00000           DE   46    30.26  user0@example.com      True   \n",
       "1     C00001          USA   48     5.93  user1@example.com      True   \n",
       "\n",
       "   is_high_value  \n",
       "0          False  \n",
       "1          False  "
      ]
     },
     "execution_count": 3,
     "metadata": {},
     "output_type": "execute_result"
    }
   ],
   "source": [
    "# Row-level: if age >= 18 then is_adult must be True\n",
    "# DF-level: median ltv_usd must be within a sane band; and all CustomerIDs unique\n",
    "UsersSchema = pa.DataFrameSchema(\n",
    "    columns={\n",
    "        'CustomerID': Column(object, nullable=False, checks=Check.str_matches(r'^C\\d{5}$')),\n",
    "        'country_norm': Column(object, nullable=False, checks=Check.isin(AllowedCountries)),\n",
    "        'age': Column(pa.Int64, nullable=False, checks=Check.in_range(0, 120)),\n",
    "        'ltv_usd': Column(float, nullable=False, checks=Check.ge(0)),\n",
    "        'email': Column(object, nullable=False, checks=Check.str_matches(r'^.+@.+\\..+$')),\n",
    "        'is_adult': Column(bool, nullable=False),\n",
    "        'is_high_value': Column(bool, nullable=False),\n",
    "    },\n",
    "    checks=[\n",
    "        # Cross-column check: if age >= 18 then is_adult must be True\n",
    "        pa.Check(lambda df: (df['age'] < 18) | df['is_adult'], \n",
    "                 error=\"is_adult must be True when age>=18\"),\n",
    "        # DF-level checks\n",
    "        pa.Check(lambda df: df['ltv_usd'].median() <= 1e5, \n",
    "                 error=\"Median LTV too large\"),\n",
    "        pa.Check(lambda df: df['CustomerID'].is_unique, \n",
    "                 error=\"Duplicate CustomerID\")\n",
    "    ]\n",
    ")\n",
    "\n",
    "ok = UsersSchema.validate(clean, lazy=True)\n",
    "ok.head(2)"
   ]
  },
  {
   "cell_type": "markdown",
   "id": "7954168c",
   "metadata": {},
   "source": [
    "### A3. Friendly error reporting"
   ]
  },
  {
   "cell_type": "code",
   "execution_count": 4,
   "id": "78af6f3f",
   "metadata": {},
   "outputs": [
    {
     "data": {
      "application/vnd.microsoft.datawrangler.viewer.v0+json": {
       "columns": [
        {
         "name": "index",
         "rawType": "int64",
         "type": "integer"
        },
        {
         "name": "column",
         "rawType": "object",
         "type": "string"
        },
        {
         "name": "check",
         "rawType": "object",
         "type": "string"
        },
        {
         "name": "n",
         "rawType": "int64",
         "type": "integer"
        }
       ],
       "ref": "b874778a-2913-4cdd-b92f-0db760e9ef60",
       "rows": [
        [
         "0",
         "age",
         "in_range(0, 120)",
         "1"
        ],
        [
         "1",
         "email",
         "str_matches('^.+@.+\\..+$')",
         "1"
        ]
       ],
       "shape": {
        "columns": 3,
        "rows": 2
       }
      },
      "text/html": [
       "<div>\n",
       "<style scoped>\n",
       "    .dataframe tbody tr th:only-of-type {\n",
       "        vertical-align: middle;\n",
       "    }\n",
       "\n",
       "    .dataframe tbody tr th {\n",
       "        vertical-align: top;\n",
       "    }\n",
       "\n",
       "    .dataframe thead th {\n",
       "        text-align: right;\n",
       "    }\n",
       "</style>\n",
       "<table border=\"1\" class=\"dataframe\">\n",
       "  <thead>\n",
       "    <tr style=\"text-align: right;\">\n",
       "      <th></th>\n",
       "      <th>column</th>\n",
       "      <th>check</th>\n",
       "      <th>n</th>\n",
       "    </tr>\n",
       "  </thead>\n",
       "  <tbody>\n",
       "    <tr>\n",
       "      <th>0</th>\n",
       "      <td>age</td>\n",
       "      <td>in_range(0, 120)</td>\n",
       "      <td>1</td>\n",
       "    </tr>\n",
       "    <tr>\n",
       "      <th>1</th>\n",
       "      <td>email</td>\n",
       "      <td>str_matches('^.+@.+\\..+$')</td>\n",
       "      <td>1</td>\n",
       "    </tr>\n",
       "  </tbody>\n",
       "</table>\n",
       "</div>"
      ],
      "text/plain": [
       "  column                       check  n\n",
       "0    age            in_range(0, 120)  1\n",
       "1  email  str_matches('^.+@.+\\..+$')  1"
      ]
     },
     "metadata": {},
     "output_type": "display_data"
    }
   ],
   "source": [
    "try:\n",
    "    # Inject a couple of bad rows to see errors\n",
    "    broken = clean.copy()\n",
    "    broken.loc[0, 'age'] = 200\n",
    "    broken.loc[1, 'email'] = 'not-an-email'\n",
    "    UsersSchema.validate(broken, lazy=True)\n",
    "except pa.errors.SchemaErrors as err:\n",
    "    fc = err.failure_cases\n",
    "    rollup = (fc.groupby(['column','check']).size().reset_index(name='n')\n",
    "                .sort_values('n', ascending=False))\n",
    "    display(rollup.head(10))\n",
    "    fc.head()"
   ]
  },
  {
   "cell_type": "markdown",
   "id": "10ea65e7",
   "metadata": {},
   "source": [
    "**Checkpoint:** How would you surface `rollup` in CI vs provide `failure_cases` as a CSV for analysts?"
   ]
  },
  {
   "cell_type": "markdown",
   "id": "c2716d84",
   "metadata": {},
   "source": [
    "## Part B — Pydantic Row Contracts\n",
    "\n",
    "Use Pydantic for **message boundaries** (e.g., API payloads) or row‑wise validation when building microservices."
   ]
  },
  {
   "cell_type": "markdown",
   "id": "4eaa5515",
   "metadata": {},
   "source": [
    "### B1. Define a model with field constraints & validators"
   ]
  },
  {
   "cell_type": "code",
   "execution_count": 5,
   "id": "aee83f98",
   "metadata": {},
   "outputs": [
    {
     "name": "stdout",
     "output_type": "stream",
     "text": [
      "Requirement already satisfied: email-validator in /home/sysadmin/llm_venv/lib/python3.13/site-packages (2.3.0)\n",
      "Requirement already satisfied: pydantic in /home/sysadmin/llm_venv/lib/python3.13/site-packages (2.12.3)\n",
      "Requirement already satisfied: dnspython>=2.0.0 in /home/sysadmin/llm_venv/lib/python3.13/site-packages (from email-validator) (2.8.0)\n",
      "Requirement already satisfied: idna>=2.0.0 in /home/sysadmin/llm_venv/lib/python3.13/site-packages (from email-validator) (3.11)\n",
      "Requirement already satisfied: annotated-types>=0.6.0 in /home/sysadmin/llm_venv/lib/python3.13/site-packages (from pydantic) (0.7.0)\n",
      "Requirement already satisfied: pydantic-core==2.41.4 in /home/sysadmin/llm_venv/lib/python3.13/site-packages (from pydantic) (2.41.4)\n",
      "Requirement already satisfied: typing-extensions>=4.14.1 in /home/sysadmin/llm_venv/lib/python3.13/site-packages (from pydantic) (4.15.0)\n",
      "Requirement already satisfied: typing-inspection>=0.4.2 in /home/sysadmin/llm_venv/lib/python3.13/site-packages (from pydantic) (0.4.2)\n",
      "\n",
      "\u001b[1m[\u001b[0m\u001b[34;49mnotice\u001b[0m\u001b[1;39;49m]\u001b[0m\u001b[39;49m A new release of pip is available: \u001b[0m\u001b[31;49m25.2\u001b[0m\u001b[39;49m -> \u001b[0m\u001b[32;49m25.3\u001b[0m\n",
      "\u001b[1m[\u001b[0m\u001b[34;49mnotice\u001b[0m\u001b[1;39;49m]\u001b[0m\u001b[39;49m To update, run: \u001b[0m\u001b[32;49mpip install --upgrade pip\u001b[0m\n",
      "Note: you may need to restart the kernel to use updated packages.\n"
     ]
    },
    {
     "data": {
      "text/plain": [
       "CustomerRow(CustomerID='C00000', country_norm='DE', age=46, ltv_usd=30.26, email='user0@example.com', is_adult=True, is_high_value=False)"
      ]
     },
     "execution_count": 5,
     "metadata": {},
     "output_type": "execute_result"
    }
   ],
   "source": [
    "%pip install email-validator pydantic\n",
    "\n",
    "from pydantic import BaseModel, Field, EmailStr, ValidationError, field_validator\n",
    "from typing import Literal\n",
    "\n",
    "class CustomerRow(BaseModel):\n",
    "    CustomerID: str = Field(pattern=r'^C\\d{5}$')\n",
    "    country_norm: Literal['USA','DE','SG','BR']\n",
    "    age: int = Field(ge=0, le=120)\n",
    "    ltv_usd: float = Field(ge=0)\n",
    "    email: EmailStr\n",
    "    is_adult: bool\n",
    "    is_high_value: bool\n",
    "\n",
    "    @field_validator('is_adult')\n",
    "    @classmethod\n",
    "    def adult_flag_consistent(cls, v, info):\n",
    "        age = info.data.get('age', None)\n",
    "        if age is not None and age >= 18 and v is False:\n",
    "            raise ValueError('is_adult must be true when age>=18')\n",
    "        return v\n",
    "\n",
    "row = users2.iloc[0].to_dict()\n",
    "CustomerRow(**row)"
   ]
  },
  {
   "cell_type": "code",
   "execution_count": 6,
   "id": "19108360",
   "metadata": {},
   "outputs": [
    {
     "name": "stdout",
     "output_type": "stream",
     "text": [
      "2 validation errors for CustomerRow\n",
      "age\n",
      "  Input should be less than or equal to 120 [type=less_than_equal, input_value=200, input_type=int]\n",
      "    For further information visit https://errors.pydantic.dev/2.12/v/less_than_equal\n",
      "email\n",
      "  value is not a valid email address: An email address must have an @-sign. [type=value_error, input_value='nope', input_type=str]\n"
     ]
    }
   ],
   "source": [
    "try:\n",
    "    bad = users2.iloc[1].to_dict() | {'email': 'nope', 'age': 200}\n",
    "    CustomerRow(**bad)\n",
    "except ValidationError as e:\n",
    "    print(e)"
   ]
  },
  {
   "cell_type": "markdown",
   "id": "095df1d9",
   "metadata": {},
   "source": [
    "### B2. Apply to a batch (sample)"
   ]
  },
  {
   "cell_type": "code",
   "execution_count": 7,
   "id": "a2370a86",
   "metadata": {},
   "outputs": [
    {
     "data": {
      "application/vnd.microsoft.datawrangler.viewer.v0+json": {
       "columns": [
        {
         "name": "index",
         "rawType": "int64",
         "type": "integer"
        }
       ],
       "ref": "35b6f065-4bd7-4fbf-84e1-fe20ac076afd",
       "rows": [],
       "shape": {
        "columns": 0,
        "rows": 0
       }
      },
      "text/html": [
       "<div>\n",
       "<style scoped>\n",
       "    .dataframe tbody tr th:only-of-type {\n",
       "        vertical-align: middle;\n",
       "    }\n",
       "\n",
       "    .dataframe tbody tr th {\n",
       "        vertical-align: top;\n",
       "    }\n",
       "\n",
       "    .dataframe thead th {\n",
       "        text-align: right;\n",
       "    }\n",
       "</style>\n",
       "<table border=\"1\" class=\"dataframe\">\n",
       "  <thead>\n",
       "    <tr style=\"text-align: right;\">\n",
       "      <th></th>\n",
       "    </tr>\n",
       "  </thead>\n",
       "  <tbody>\n",
       "  </tbody>\n",
       "</table>\n",
       "</div>"
      ],
      "text/plain": [
       "Empty DataFrame\n",
       "Columns: []\n",
       "Index: []"
      ]
     },
     "execution_count": 7,
     "metadata": {},
     "output_type": "execute_result"
    }
   ],
   "source": [
    "def validate_batch(df):\n",
    "    errors = []\n",
    "    for i, rec in df.head(50).iterrows():  # sample for speed in demo\n",
    "        try:\n",
    "            CustomerRow(**rec.to_dict())\n",
    "        except ValidationError as e:\n",
    "            errors.append({'idx': i, 'error': str(e).split('\\n')[0]})\n",
    "    return pd.DataFrame(errors)\n",
    "\n",
    "validate_batch(users2).head(5)"
   ]
  },
  {
   "cell_type": "markdown",
   "id": "2e39171c",
   "metadata": {},
   "source": [
    "**Guidance:** Pydantic is great for boundaries; Pandera stays the workhorse for DataFrame ETL."
   ]
  },
  {
   "cell_type": "markdown",
   "id": "0dfee469",
   "metadata": {},
   "source": [
    "## Part C — Error Handling & CI Hooks"
   ]
  },
  {
   "cell_type": "markdown",
   "id": "fb6a6e1f",
   "metadata": {},
   "source": [
    "Utility: validate or raise with artifacts"
   ]
  },
  {
   "cell_type": "code",
   "execution_count": 8,
   "id": "6a453ffe",
   "metadata": {},
   "outputs": [],
   "source": [
    "from pathlib import Path\n",
    "\n",
    "def validate_or_artifact(df, schema, name, out_dir='artifacts/validation'):\n",
    "    Path(out_dir).mkdir(parents=True, exist_ok=True)\n",
    "    try:\n",
    "        return schema.validate(df, lazy=True)\n",
    "    except pa.errors.SchemaErrors as err:\n",
    "        fc = err.failure_cases\n",
    "        dest = Path(out_dir)/f'{name}_failures.csv'\n",
    "        fc.to_csv(dest, index=False)\n",
    "        # compact summary for console/CI\n",
    "        top = (fc.groupby(['column','check']).size().reset_index(name='n')\n",
    "                .sort_values('n', ascending=False).head(5).to_dict(orient='records'))\n",
    "        raise SystemExit(f\"Validation failed for {name}. Top: {top}. See {dest}\")\n",
    "\n",
    "_ = validate_or_artifact(clean, UsersSchema, 'users2_clean')"
   ]
  },
  {
   "cell_type": "markdown",
   "id": "14d8b93e",
   "metadata": {},
   "source": [
    "## Part D — Wrap‑Up\n",
    "\n",
    "Add a markdown cell and answer:\n",
    "\n",
    "1. One Pandera **column** check and one **DF-level** check you authored. Why both?\n",
    "2. Where would you place Pydantic vs Pandera in your pipeline? Give a concrete boundary.\n",
    "3. Paste a compact violation roll-up you'd show in CI.\n",
    "\n",
    "Export the notebook to HTML. If you created a `tests/` file, run `pytest -q` and screenshot the passing test."
   ]
  },
  {
   "cell_type": "markdown",
   "id": "65227a4b",
   "metadata": {},
   "source": [
    "### Answers\n",
    "\n",
    "**1. Column check and DF-level check:**\n",
    "- **Column check:** `Check.in_range(0, 120)` on the `age` column ensures individual age values are within a realistic range.\n",
    "- **DF-level check:** `pa.Check(lambda df: df['CustomerID'].is_unique, element_wise=False)` ensures uniqueness across the entire dataset.\n",
    "- **Why both?** Column checks validate individual cell values, while DF-level checks enforce constraints that span multiple rows (like uniqueness) or aggregate properties (like median values).\n",
    "\n",
    "**2. Pydantic vs Pandera placement:**\n",
    "- **Pandera:** Use for batch DataFrame validation in ETL pipelines (e.g., validating Parquet files after extraction or transformation).\n",
    "- **Pydantic:** Use at API boundaries for request/response validation, or when processing individual messages/events (e.g., validating incoming JSON payloads in a REST API or message queue consumers).\n",
    "\n",
    "**3. Sample CI violation roll-up:**\n",
    "```\n",
    "  column      check                                n\n",
    "  age         in_range(0, 120)                     1\n",
    "  email       str_matches('^.+@.+\\..+$')           1\n",
    "```"
   ]
  },
  {
   "cell_type": "markdown",
   "id": "102d456e",
   "metadata": {},
   "source": [
    "---\n",
    "\n",
    "## Common Pitfalls\n",
    "\n",
    "- Overly strict schemas\n",
    "- Forgetting nullable dtypes\n",
    "- Using `object` everywhere\n",
    "- Not separating row contracts (Pydantic) from DF contracts (Pandera)"
   ]
  },
  {
   "cell_type": "markdown",
   "id": "dc92062a",
   "metadata": {},
   "source": [
    "---\n",
    "\n",
    "## Solution Snippets (reference)\n",
    "\n",
    "**Named regex + range checks:**\n",
    "\n",
    "```python\n",
    "Column(object, checks=[Check.str_matches(r'^C\\d{5}$', error='bad id')])\n",
    "Column(pa.Int64, checks=Check.in_range(0,120))\n",
    "```\n",
    "\n",
    "**DF-level uniqueness:**\n",
    "\n",
    "```python\n",
    "pa.Check(lambda df: df['CustomerID'].is_unique, element_wise=False)\n",
    "```\n",
    "\n",
    "**Pydantic field validator:**\n",
    "\n",
    "```python\n",
    "@field_validator('is_adult')\n",
    "def adult_v(cls, v, info):\n",
    "    return v if info.data.get('age',0) < 18 or v else (_ for _ in ()).throw(ValueError('age>=18 requires is_adult'))\n",
    "```"
   ]
  },
  {
   "cell_type": "markdown",
   "id": "454777fa",
   "metadata": {},
   "source": [
    "## Bonus Exercise — Complete Walkthrough with per_customer.parquet\n",
    "\n",
    "This section demonstrates **all lab concepts** using the real `artifacts/clean/per_customer.parquet` file.\n",
    "\n",
    "### Step 1: Load the per_customer dataset"
   ]
  },
  {
   "cell_type": "code",
   "execution_count": 9,
   "id": "6396a777",
   "metadata": {},
   "outputs": [
    {
     "name": "stdout",
     "output_type": "stream",
     "text": [
      "Loaded 4 customer records\n"
     ]
    },
    {
     "data": {
      "application/vnd.microsoft.datawrangler.viewer.v0+json": {
       "columns": [
        {
         "name": "index",
         "rawType": "int64",
         "type": "integer"
        },
        {
         "name": "CustomerID",
         "rawType": "object",
         "type": "string"
        },
        {
         "name": "n_orders",
         "rawType": "int64",
         "type": "integer"
        },
        {
         "name": "freight_mean",
         "rawType": "float64",
         "type": "float"
        },
        {
         "name": "freight_sum",
         "rawType": "float64",
         "type": "float"
        },
        {
         "name": "CompanyName",
         "rawType": "object",
         "type": "string"
        },
        {
         "name": "Country",
         "rawType": "object",
         "type": "string"
        },
        {
         "name": "spend_segment",
         "rawType": "category",
         "type": "unknown"
        }
       ],
       "ref": "3e1a98aa-22be-4e50-b751-2cfa26c3abed",
       "rows": [
        [
         "0",
         "ALFKI",
         "2",
         "41.05",
         "82.1",
         "Alfreds",
         "Germany",
         "high"
        ],
        [
         "1",
         "ANATR",
         "1",
         "12.0",
         "12.0",
         "Ana Trujillo",
         "Mexico",
         "low"
        ],
        [
         "2",
         "ANTON",
         "1",
         "5.0",
         "5.0",
         "Antonio Moreno",
         "Mexico",
         "low"
        ],
        [
         "3",
         "BERGS",
         "1",
         "80.0",
         "80.0",
         "Berglunds",
         "Sweden",
         "high"
        ]
       ],
       "shape": {
        "columns": 7,
        "rows": 4
       }
      },
      "text/html": [
       "<div>\n",
       "<style scoped>\n",
       "    .dataframe tbody tr th:only-of-type {\n",
       "        vertical-align: middle;\n",
       "    }\n",
       "\n",
       "    .dataframe tbody tr th {\n",
       "        vertical-align: top;\n",
       "    }\n",
       "\n",
       "    .dataframe thead th {\n",
       "        text-align: right;\n",
       "    }\n",
       "</style>\n",
       "<table border=\"1\" class=\"dataframe\">\n",
       "  <thead>\n",
       "    <tr style=\"text-align: right;\">\n",
       "      <th></th>\n",
       "      <th>CustomerID</th>\n",
       "      <th>n_orders</th>\n",
       "      <th>freight_mean</th>\n",
       "      <th>freight_sum</th>\n",
       "      <th>CompanyName</th>\n",
       "      <th>Country</th>\n",
       "      <th>spend_segment</th>\n",
       "    </tr>\n",
       "  </thead>\n",
       "  <tbody>\n",
       "    <tr>\n",
       "      <th>0</th>\n",
       "      <td>ALFKI</td>\n",
       "      <td>2</td>\n",
       "      <td>41.05</td>\n",
       "      <td>82.1</td>\n",
       "      <td>Alfreds</td>\n",
       "      <td>Germany</td>\n",
       "      <td>high</td>\n",
       "    </tr>\n",
       "    <tr>\n",
       "      <th>1</th>\n",
       "      <td>ANATR</td>\n",
       "      <td>1</td>\n",
       "      <td>12.00</td>\n",
       "      <td>12.0</td>\n",
       "      <td>Ana Trujillo</td>\n",
       "      <td>Mexico</td>\n",
       "      <td>low</td>\n",
       "    </tr>\n",
       "    <tr>\n",
       "      <th>2</th>\n",
       "      <td>ANTON</td>\n",
       "      <td>1</td>\n",
       "      <td>5.00</td>\n",
       "      <td>5.0</td>\n",
       "      <td>Antonio Moreno</td>\n",
       "      <td>Mexico</td>\n",
       "      <td>low</td>\n",
       "    </tr>\n",
       "    <tr>\n",
       "      <th>3</th>\n",
       "      <td>BERGS</td>\n",
       "      <td>1</td>\n",
       "      <td>80.00</td>\n",
       "      <td>80.0</td>\n",
       "      <td>Berglunds</td>\n",
       "      <td>Sweden</td>\n",
       "      <td>high</td>\n",
       "    </tr>\n",
       "  </tbody>\n",
       "</table>\n",
       "</div>"
      ],
      "text/plain": [
       "  CustomerID  n_orders  freight_mean  freight_sum     CompanyName  Country  \\\n",
       "0      ALFKI         2         41.05         82.1         Alfreds  Germany   \n",
       "1      ANATR         1         12.00         12.0    Ana Trujillo   Mexico   \n",
       "2      ANTON         1          5.00          5.0  Antonio Moreno   Mexico   \n",
       "3      BERGS         1         80.00         80.0       Berglunds   Sweden   \n",
       "\n",
       "  spend_segment  \n",
       "0          high  \n",
       "1           low  \n",
       "2           low  \n",
       "3          high  "
      ]
     },
     "metadata": {},
     "output_type": "display_data"
    },
    {
     "name": "stdout",
     "output_type": "stream",
     "text": [
      "\n",
      "Data types:\n",
      "CustomerID         object\n",
      "n_orders            int64\n",
      "freight_mean      float64\n",
      "freight_sum       float64\n",
      "CompanyName        object\n",
      "Country            object\n",
      "spend_segment    category\n",
      "dtype: object\n"
     ]
    }
   ],
   "source": [
    "import pandas as pd\n",
    "from pathlib import Path\n",
    "\n",
    "# Load the per-customer aggregated data\n",
    "per_cust_path = Path('artifacts/clean/per_customer.parquet')\n",
    "if per_cust_path.exists():\n",
    "    per_cust = pd.read_parquet(per_cust_path)\n",
    "    print(f\"Loaded {len(per_cust)} customer records\")\n",
    "    display(per_cust.head())\n",
    "    print(\"\\nData types:\")\n",
    "    print(per_cust.dtypes)\n",
    "else:\n",
    "    print(f\"File not found: {per_cust_path}\")\n",
    "    print(\"Please run Lab 06 to generate this artifact first.\")"
   ]
  },
  {
   "cell_type": "markdown",
   "id": "a4d82491",
   "metadata": {},
   "source": [
    "**Expected columns:**\n",
    "\n",
    "- `CustomerID` (string): Customer identifier (e.g., \"ALFKI\")\n",
    "- `n_orders` (int64): Count of orders per customer\n",
    "- `freight_mean` (float64): Average freight cost per customer\n",
    "- `freight_sum` (float64): Total freight cost per customer\n",
    "- `CompanyName` (string): Customer company name\n",
    "- `Country` (string): Customer country\n",
    "- `spend_segment` (string): Spending category (\"low\", \"mid\", \"high\")"
   ]
  },
  {
   "cell_type": "markdown",
   "id": "60da1f3d",
   "metadata": {},
   "source": [
    "### Step 2: Define Pandera DataFrame Schema with all constraint types"
   ]
  },
  {
   "cell_type": "code",
   "execution_count": 10,
   "id": "e810b24c",
   "metadata": {},
   "outputs": [],
   "source": [
    "import pandera.pandas as pa\n",
    "from pandera import Column, Check\n",
    "\n",
    "# Define allowed values\n",
    "AllowedCountries = ['Germany', 'Mexico', 'France', 'Sweden', 'USA', 'Brazil', \n",
    "                    'Switzerland', 'Austria', 'UK', 'Canada', 'Denmark', \n",
    "                    'Finland', 'Norway', 'Spain', 'Italy', 'Belgium', \n",
    "                    'Portugal', 'Ireland', 'Poland', 'Argentina', 'Venezuela']\n",
    "AllowedSegments = ['low', 'mid', 'high']\n",
    "\n",
    "# Comprehensive schema with multiple check types\n",
    "PerCustomerSchema = pa.DataFrameSchema(\n",
    "    columns={\n",
    "        # String pattern check with regex\n",
    "        'CustomerID': Column(\n",
    "            object, \n",
    "            nullable=False, \n",
    "            checks=Check.str_matches(r'^[A-Z]{5}$', error='CustomerID must be 5 uppercase letters')\n",
    "        ),\n",
    "        # Range checks on integers\n",
    "        'n_orders': Column(\n",
    "            pa.Int64, \n",
    "            nullable=False, \n",
    "            checks=[\n",
    "                Check.ge(1, error='Must have at least 1 order'),\n",
    "                Check.le(100, error='Unexpectedly high order count')\n",
    "            ]\n",
    "        ),\n",
    "        # Range checks on floats\n",
    "        'freight_mean': Column(\n",
    "            float, \n",
    "            nullable=False, \n",
    "            checks=[\n",
    "                Check.ge(0, error='Freight cannot be negative'),\n",
    "                Check.le(1000, error='Average freight seems too high')\n",
    "            ]\n",
    "        ),\n",
    "        'freight_sum': Column(\n",
    "            float, \n",
    "            nullable=False, \n",
    "            checks=[\n",
    "                Check.ge(0, error='Total freight cannot be negative'),\n",
    "                Check.le(10000, error='Total freight seems unrealistic')\n",
    "            ]\n",
    "        ),\n",
    "        # Category/allowlist checks\n",
    "        'CompanyName': Column(\n",
    "            object, \n",
    "            nullable=False, \n",
    "            checks=Check.str_length(min_value=2, max_value=100)\n",
    "        ),\n",
    "        'Country': Column(\n",
    "            object, \n",
    "            nullable=False, \n",
    "            checks=Check.isin(AllowedCountries, error='Country not in allowed list')\n",
    "        ),\n",
    "        'spend_segment': Column(\n",
    "            object, \n",
    "            nullable=False, \n",
    "            checks=Check.isin(AllowedSegments, error='Invalid spend segment')\n",
    "        ),\n",
    "    },\n",
    "    checks=[\n",
    "        # Cross-column check: freight_mean should be freight_sum / n_orders (with tolerance)\n",
    "        pa.Check(\n",
    "            lambda df: (\n",
    "                (df['freight_mean'] - (df['freight_sum'] / df['n_orders'])).abs() < 0.01\n",
    "            ).all(),\n",
    "            error=\"freight_mean must equal freight_sum / n_orders\"\n",
    "        ),\n",
    "        # DataFrame-level check: all CustomerIDs must be unique\n",
    "        pa.Check(\n",
    "            lambda df: df['CustomerID'].is_unique,\n",
    "            error=\"Duplicate CustomerID found\"\n",
    "        ),\n",
    "        # DataFrame-level: median freight_sum should be reasonable\n",
    "        pa.Check(\n",
    "            lambda df: 10 <= df['freight_sum'].median() <= 500,\n",
    "            error=\"Median total freight outside expected range\"\n",
    "        ),\n",
    "        # Check: high segment customers should have freight_sum >= 50\n",
    "        pa.Check(\n",
    "            lambda df: (df[df['spend_segment'] == 'high']['freight_sum'] >= 50).all(),\n",
    "            error=\"High segment customers must have freight_sum >= 50\"\n",
    "        ),\n",
    "    ],\n",
    "    strict=False,  # Allow extra columns if they exist\n",
    "    coerce=False   # Don't auto-convert types\n",
    ")"
   ]
  },
  {
   "cell_type": "code",
   "execution_count": 11,
   "id": "81522368",
   "metadata": {},
   "outputs": [
    {
     "name": "stdout",
     "output_type": "stream",
     "text": [
      "✗ Validation failed with 1 errors\n"
     ]
    },
    {
     "data": {
      "application/vnd.microsoft.datawrangler.viewer.v0+json": {
       "columns": [
        {
         "name": "index",
         "rawType": "int64",
         "type": "integer"
        },
        {
         "name": "column",
         "rawType": "object",
         "type": "string"
        },
        {
         "name": "failure_case",
         "rawType": "object",
         "type": "string"
        },
        {
         "name": "index",
         "rawType": "object",
         "type": "unknown"
        },
        {
         "name": "schema_context",
         "rawType": "object",
         "type": "string"
        },
        {
         "name": "check",
         "rawType": "object",
         "type": "string"
        },
        {
         "name": "check_number",
         "rawType": "object",
         "type": "unknown"
        }
       ],
       "ref": "59933a50-810a-4030-9457-592b0d82212d",
       "rows": [
        [
         "0",
         "spend_segment",
         "category",
         null,
         "Column",
         "dtype('object')",
         null
        ]
       ],
       "shape": {
        "columns": 6,
        "rows": 1
       }
      },
      "text/html": [
       "<div>\n",
       "<style scoped>\n",
       "    .dataframe tbody tr th:only-of-type {\n",
       "        vertical-align: middle;\n",
       "    }\n",
       "\n",
       "    .dataframe tbody tr th {\n",
       "        vertical-align: top;\n",
       "    }\n",
       "\n",
       "    .dataframe thead th {\n",
       "        text-align: right;\n",
       "    }\n",
       "</style>\n",
       "<table border=\"1\" class=\"dataframe\">\n",
       "  <thead>\n",
       "    <tr style=\"text-align: right;\">\n",
       "      <th></th>\n",
       "      <th>column</th>\n",
       "      <th>failure_case</th>\n",
       "      <th>index</th>\n",
       "      <th>schema_context</th>\n",
       "      <th>check</th>\n",
       "      <th>check_number</th>\n",
       "    </tr>\n",
       "  </thead>\n",
       "  <tbody>\n",
       "    <tr>\n",
       "      <th>0</th>\n",
       "      <td>spend_segment</td>\n",
       "      <td>category</td>\n",
       "      <td>None</td>\n",
       "      <td>Column</td>\n",
       "      <td>dtype('object')</td>\n",
       "      <td>None</td>\n",
       "    </tr>\n",
       "  </tbody>\n",
       "</table>\n",
       "</div>"
      ],
      "text/plain": [
       "          column failure_case index schema_context            check  \\\n",
       "0  spend_segment     category  None         Column  dtype('object')   \n",
       "\n",
       "  check_number  \n",
       "0         None  "
      ]
     },
     "metadata": {},
     "output_type": "display_data"
    }
   ],
   "source": [
    "# Validate the data\n",
    "try:\n",
    "    validated = PerCustomerSchema.validate(per_cust, lazy=True)\n",
    "    print(f\"✓ Validation passed for {len(validated)} records\")\n",
    "    display(validated.head(3))\n",
    "except pa.errors.SchemaErrors as err:\n",
    "    print(f\"✗ Validation failed with {len(err.failure_cases)} errors\")\n",
    "    display(err.failure_cases.head(10))"
   ]
  },
  {
   "cell_type": "markdown",
   "id": "e24eee58",
   "metadata": {},
   "source": [
    "### Step 3: Test error handling with intentional violations"
   ]
  },
  {
   "cell_type": "code",
   "execution_count": 13,
   "id": "7c4fed3a",
   "metadata": {},
   "outputs": [
    {
     "name": "stdout",
     "output_type": "stream",
     "text": [
      "Testing schema with corrupted data...\n",
      "\n",
      "✗ Found 13 total violations across 12 check types\n",
      "\n",
      "VIOLATION SUMMARY (for CI logs):\n"
     ]
    },
    {
     "name": "stderr",
     "output_type": "stream",
     "text": [
      "/home/sysadmin/llm_venv/lib/python3.13/site-packages/pandera/backends/pandas/error_formatters.py:268: FutureWarning: The behavior of DataFrame concatenation with empty or all-NA entries is deprecated. In a future version, this will no longer exclude empty or all-NA columns when determining the result dtypes. To retain the old behavior, exclude the relevant entries before the concat operation.\n",
      "  concat_fn(check_failure_cases)\n"
     ]
    },
    {
     "data": {
      "application/vnd.microsoft.datawrangler.viewer.v0+json": {
       "columns": [
        {
         "name": "index",
         "rawType": "int64",
         "type": "integer"
        },
        {
         "name": "column",
         "rawType": "object",
         "type": "string"
        },
        {
         "name": "check",
         "rawType": "object",
         "type": "string"
        },
        {
         "name": "violation_count",
         "rawType": "int64",
         "type": "integer"
        }
       ],
       "ref": "9ee93045-c7ad-42be-8c49-f6bcf2e04fe6",
       "rows": [
        [
         "0",
         "CompanyName",
         "not_nullable",
         "1"
        ],
        [
         "1",
         "Country",
         "Country not in allowed list",
         "1"
        ],
        [
         "2",
         "Country",
         "not_nullable",
         "1"
        ],
        [
         "3",
         "CustomerID",
         "CustomerID must be 5 uppercase letters",
         "1"
        ],
        [
         "4",
         "CustomerID",
         "not_nullable",
         "1"
        ],
        [
         "5",
         "freight_mean",
         "Freight cannot be negative",
         "1"
        ],
        [
         "6",
         "freight_sum",
         "not_nullable",
         "1"
        ],
        [
         "7",
         "n_orders",
         "Unexpectedly high order count",
         "1"
        ],
        [
         "8",
         "n_orders",
         "dtype('int64')",
         "1"
        ],
        [
         "9",
         "n_orders",
         "not_nullable",
         "1"
        ],
        [
         "10",
         "spend_segment",
         "dtype('object')",
         "1"
        ],
        [
         "11",
         "spend_segment",
         "not_nullable",
         "1"
        ]
       ],
       "shape": {
        "columns": 3,
        "rows": 12
       }
      },
      "text/html": [
       "<div>\n",
       "<style scoped>\n",
       "    .dataframe tbody tr th:only-of-type {\n",
       "        vertical-align: middle;\n",
       "    }\n",
       "\n",
       "    .dataframe tbody tr th {\n",
       "        vertical-align: top;\n",
       "    }\n",
       "\n",
       "    .dataframe thead th {\n",
       "        text-align: right;\n",
       "    }\n",
       "</style>\n",
       "<table border=\"1\" class=\"dataframe\">\n",
       "  <thead>\n",
       "    <tr style=\"text-align: right;\">\n",
       "      <th></th>\n",
       "      <th>column</th>\n",
       "      <th>check</th>\n",
       "      <th>violation_count</th>\n",
       "    </tr>\n",
       "  </thead>\n",
       "  <tbody>\n",
       "    <tr>\n",
       "      <th>0</th>\n",
       "      <td>CompanyName</td>\n",
       "      <td>not_nullable</td>\n",
       "      <td>1</td>\n",
       "    </tr>\n",
       "    <tr>\n",
       "      <th>1</th>\n",
       "      <td>Country</td>\n",
       "      <td>Country not in allowed list</td>\n",
       "      <td>1</td>\n",
       "    </tr>\n",
       "    <tr>\n",
       "      <th>2</th>\n",
       "      <td>Country</td>\n",
       "      <td>not_nullable</td>\n",
       "      <td>1</td>\n",
       "    </tr>\n",
       "    <tr>\n",
       "      <th>3</th>\n",
       "      <td>CustomerID</td>\n",
       "      <td>CustomerID must be 5 uppercase letters</td>\n",
       "      <td>1</td>\n",
       "    </tr>\n",
       "    <tr>\n",
       "      <th>4</th>\n",
       "      <td>CustomerID</td>\n",
       "      <td>not_nullable</td>\n",
       "      <td>1</td>\n",
       "    </tr>\n",
       "    <tr>\n",
       "      <th>5</th>\n",
       "      <td>freight_mean</td>\n",
       "      <td>Freight cannot be negative</td>\n",
       "      <td>1</td>\n",
       "    </tr>\n",
       "    <tr>\n",
       "      <th>6</th>\n",
       "      <td>freight_sum</td>\n",
       "      <td>not_nullable</td>\n",
       "      <td>1</td>\n",
       "    </tr>\n",
       "    <tr>\n",
       "      <th>7</th>\n",
       "      <td>n_orders</td>\n",
       "      <td>Unexpectedly high order count</td>\n",
       "      <td>1</td>\n",
       "    </tr>\n",
       "    <tr>\n",
       "      <th>8</th>\n",
       "      <td>n_orders</td>\n",
       "      <td>dtype('int64')</td>\n",
       "      <td>1</td>\n",
       "    </tr>\n",
       "    <tr>\n",
       "      <th>9</th>\n",
       "      <td>n_orders</td>\n",
       "      <td>not_nullable</td>\n",
       "      <td>1</td>\n",
       "    </tr>\n",
       "    <tr>\n",
       "      <th>10</th>\n",
       "      <td>spend_segment</td>\n",
       "      <td>dtype('object')</td>\n",
       "      <td>1</td>\n",
       "    </tr>\n",
       "    <tr>\n",
       "      <th>11</th>\n",
       "      <td>spend_segment</td>\n",
       "      <td>not_nullable</td>\n",
       "      <td>1</td>\n",
       "    </tr>\n",
       "  </tbody>\n",
       "</table>\n",
       "</div>"
      ],
      "text/plain": [
       "           column                                   check  violation_count\n",
       "0     CompanyName                            not_nullable                1\n",
       "1         Country             Country not in allowed list                1\n",
       "2         Country                            not_nullable                1\n",
       "3      CustomerID  CustomerID must be 5 uppercase letters                1\n",
       "4      CustomerID                            not_nullable                1\n",
       "5    freight_mean              Freight cannot be negative                1\n",
       "6     freight_sum                            not_nullable                1\n",
       "7        n_orders           Unexpectedly high order count                1\n",
       "8        n_orders                          dtype('int64')                1\n",
       "9        n_orders                            not_nullable                1\n",
       "10  spend_segment                         dtype('object')                1\n",
       "11  spend_segment                            not_nullable                1"
      ]
     },
     "metadata": {},
     "output_type": "display_data"
    },
    {
     "name": "stdout",
     "output_type": "stream",
     "text": [
      "\n",
      "✓ Detailed failures saved to: artifacts/validation/per_customer_failures.csv\n",
      "\n",
      "DETAILED FAILURES (sample):\n"
     ]
    },
    {
     "data": {
      "application/vnd.microsoft.datawrangler.viewer.v0+json": {
       "columns": [
        {
         "name": "index",
         "rawType": "int64",
         "type": "integer"
        },
        {
         "name": "schema_context",
         "rawType": "object",
         "type": "string"
        },
        {
         "name": "column",
         "rawType": "object",
         "type": "unknown"
        },
        {
         "name": "check",
         "rawType": "object",
         "type": "string"
        },
        {
         "name": "failure_case",
         "rawType": "object",
         "type": "unknown"
        }
       ],
       "ref": "bf0cd8be-15be-4ad3-8362-dbdcf7a2aaba",
       "rows": [
        [
         "12",
         "DataFrameSchema",
         null,
         "freight_mean must equal freight_sum / n_orders",
         "False"
        ],
        [
         "0",
         "Column",
         "CustomerID",
         "not_nullable",
         null
        ],
        [
         "1",
         "Column",
         "CustomerID",
         "CustomerID must be 5 uppercase letters",
         "ABC123"
        ],
        [
         "2",
         "Column",
         "n_orders",
         "not_nullable",
         null
        ],
        [
         "3",
         "Column",
         "n_orders",
         "Unexpectedly high order count",
         "150.0"
        ],
        [
         "4",
         "Column",
         "freight_mean",
         "Freight cannot be negative",
         "-10.0"
        ],
        [
         "5",
         "Column",
         "freight_sum",
         "not_nullable",
         null
        ],
        [
         "6",
         "Column",
         "CompanyName",
         "not_nullable",
         null
        ],
        [
         "7",
         "Column",
         "Country",
         "not_nullable",
         null
        ],
        [
         "8",
         "Column",
         "Country",
         "Country not in allowed list",
         "Atlantis"
        ]
       ],
       "shape": {
        "columns": 4,
        "rows": 10
       }
      },
      "text/html": [
       "<div>\n",
       "<style scoped>\n",
       "    .dataframe tbody tr th:only-of-type {\n",
       "        vertical-align: middle;\n",
       "    }\n",
       "\n",
       "    .dataframe tbody tr th {\n",
       "        vertical-align: top;\n",
       "    }\n",
       "\n",
       "    .dataframe thead th {\n",
       "        text-align: right;\n",
       "    }\n",
       "</style>\n",
       "<table border=\"1\" class=\"dataframe\">\n",
       "  <thead>\n",
       "    <tr style=\"text-align: right;\">\n",
       "      <th></th>\n",
       "      <th>schema_context</th>\n",
       "      <th>column</th>\n",
       "      <th>check</th>\n",
       "      <th>failure_case</th>\n",
       "    </tr>\n",
       "  </thead>\n",
       "  <tbody>\n",
       "    <tr>\n",
       "      <th>12</th>\n",
       "      <td>DataFrameSchema</td>\n",
       "      <td>None</td>\n",
       "      <td>freight_mean must equal freight_sum / n_orders</td>\n",
       "      <td>False</td>\n",
       "    </tr>\n",
       "    <tr>\n",
       "      <th>0</th>\n",
       "      <td>Column</td>\n",
       "      <td>CustomerID</td>\n",
       "      <td>not_nullable</td>\n",
       "      <td>NaN</td>\n",
       "    </tr>\n",
       "    <tr>\n",
       "      <th>1</th>\n",
       "      <td>Column</td>\n",
       "      <td>CustomerID</td>\n",
       "      <td>CustomerID must be 5 uppercase letters</td>\n",
       "      <td>ABC123</td>\n",
       "    </tr>\n",
       "    <tr>\n",
       "      <th>2</th>\n",
       "      <td>Column</td>\n",
       "      <td>n_orders</td>\n",
       "      <td>not_nullable</td>\n",
       "      <td>NaN</td>\n",
       "    </tr>\n",
       "    <tr>\n",
       "      <th>3</th>\n",
       "      <td>Column</td>\n",
       "      <td>n_orders</td>\n",
       "      <td>Unexpectedly high order count</td>\n",
       "      <td>150.0</td>\n",
       "    </tr>\n",
       "    <tr>\n",
       "      <th>4</th>\n",
       "      <td>Column</td>\n",
       "      <td>freight_mean</td>\n",
       "      <td>Freight cannot be negative</td>\n",
       "      <td>-10.0</td>\n",
       "    </tr>\n",
       "    <tr>\n",
       "      <th>5</th>\n",
       "      <td>Column</td>\n",
       "      <td>freight_sum</td>\n",
       "      <td>not_nullable</td>\n",
       "      <td>NaN</td>\n",
       "    </tr>\n",
       "    <tr>\n",
       "      <th>6</th>\n",
       "      <td>Column</td>\n",
       "      <td>CompanyName</td>\n",
       "      <td>not_nullable</td>\n",
       "      <td>NaN</td>\n",
       "    </tr>\n",
       "    <tr>\n",
       "      <th>7</th>\n",
       "      <td>Column</td>\n",
       "      <td>Country</td>\n",
       "      <td>not_nullable</td>\n",
       "      <td>NaN</td>\n",
       "    </tr>\n",
       "    <tr>\n",
       "      <th>8</th>\n",
       "      <td>Column</td>\n",
       "      <td>Country</td>\n",
       "      <td>Country not in allowed list</td>\n",
       "      <td>Atlantis</td>\n",
       "    </tr>\n",
       "  </tbody>\n",
       "</table>\n",
       "</div>"
      ],
      "text/plain": [
       "     schema_context        column  \\\n",
       "12  DataFrameSchema          None   \n",
       "0            Column    CustomerID   \n",
       "1            Column    CustomerID   \n",
       "2            Column      n_orders   \n",
       "3            Column      n_orders   \n",
       "4            Column  freight_mean   \n",
       "5            Column   freight_sum   \n",
       "6            Column   CompanyName   \n",
       "7            Column       Country   \n",
       "8            Column       Country   \n",
       "\n",
       "                                             check failure_case  \n",
       "12  freight_mean must equal freight_sum / n_orders        False  \n",
       "0                                     not_nullable          NaN  \n",
       "1           CustomerID must be 5 uppercase letters       ABC123  \n",
       "2                                     not_nullable          NaN  \n",
       "3                    Unexpectedly high order count        150.0  \n",
       "4                       Freight cannot be negative        -10.0  \n",
       "5                                     not_nullable          NaN  \n",
       "6                                     not_nullable          NaN  \n",
       "7                                     not_nullable          NaN  \n",
       "8                      Country not in allowed list     Atlantis  "
      ]
     },
     "metadata": {},
     "output_type": "display_data"
    }
   ],
   "source": [
    "# Create a copy with intentional errors to test our schema\n",
    "corrupted = per_cust.copy()\n",
    "\n",
    "# Error 1: Invalid CustomerID pattern\n",
    "corrupted.loc[0, 'CustomerID'] = 'ABC123'  # Should be 5 letters\n",
    "\n",
    "# Error 2: Negative freight\n",
    "corrupted.loc[1, 'freight_mean'] = -10.0\n",
    "\n",
    "# Error 3: Invalid country\n",
    "corrupted.loc[2, 'Country'] = 'Atlantis'\n",
    "\n",
    "# Error 4: Unrealistic order count\n",
    "corrupted.loc[3, 'n_orders'] = 150\n",
    "\n",
    "# Error 5: Break cross-column consistency\n",
    "corrupted.loc[5, 'freight_mean'] = 999.0  # Doesn't match sum/count\n",
    "\n",
    "print(\"Testing schema with corrupted data...\")\n",
    "try:\n",
    "    PerCustomerSchema.validate(corrupted, lazy=True)\n",
    "except pa.errors.SchemaErrors as err:\n",
    "    fc = err.failure_cases\n",
    "    \n",
    "    # Create a rollup summary for CI/logs\n",
    "    rollup = (\n",
    "        fc.groupby(['column', 'check'])\n",
    "        .size()\n",
    "        .reset_index(name='violation_count')\n",
    "        .sort_values('violation_count', ascending=False)\n",
    "    )\n",
    "    \n",
    "    print(f\"\\n✗ Found {len(fc)} total violations across {len(rollup)} check types\\n\")\n",
    "    print(\"VIOLATION SUMMARY (for CI logs):\")\n",
    "    display(rollup)\n",
    "    \n",
    "    # Save detailed failure cases for analyst triage\n",
    "    failure_path = Path('artifacts/validation/per_customer_failures.csv')\n",
    "    failure_path.parent.mkdir(parents=True, exist_ok=True)\n",
    "    fc.to_csv(failure_path, index=False)\n",
    "    print(f\"\\n✓ Detailed failures saved to: {failure_path}\")\n",
    "    \n",
    "    # Show first few detailed failures\n",
    "    print(\"\\nDETAILED FAILURES (sample):\")\n",
    "    display(fc[['schema_context', 'column', 'check', 'failure_case']].head(10))"
   ]
  },
  {
   "cell_type": "markdown",
   "id": "8b8cef3c",
   "metadata": {},
   "source": [
    "### Step 4: Pydantic row-level contract"
   ]
  },
  {
   "cell_type": "code",
   "execution_count": 14,
   "id": "1993934d",
   "metadata": {},
   "outputs": [],
   "source": [
    "from pydantic import BaseModel, Field, field_validator, ValidationError\n",
    "from typing import Literal\n",
    "\n",
    "class PerCustomerRow(BaseModel):\n",
    "    \"\"\"Row-level contract for per-customer data\"\"\"\n",
    "    \n",
    "    CustomerID: str = Field(pattern=r'^[A-Z]{5}$', description=\"5 uppercase letters\")\n",
    "    n_orders: int = Field(ge=1, le=100, description=\"Order count between 1-100\")\n",
    "    freight_mean: float = Field(ge=0, le=1000, description=\"Average freight 0-1000\")\n",
    "    freight_sum: float = Field(ge=0, le=10000, description=\"Total freight 0-10000\")\n",
    "    CompanyName: str = Field(min_length=2, max_length=100)\n",
    "    Country: Literal['Germany', 'Mexico', 'France', 'Sweden', 'USA', 'Brazil',\n",
    "                     'Switzerland', 'Austria', 'UK', 'Canada', 'Denmark',\n",
    "                     'Finland', 'Norway', 'Spain', 'Italy', 'Belgium',\n",
    "                     'Portugal', 'Ireland', 'Poland', 'Argentina', 'Venezuela']\n",
    "    spend_segment: Literal['low', 'mid', 'high']\n",
    "    \n",
    "    @field_validator('freight_mean')\n",
    "    @classmethod\n",
    "    def freight_mean_matches_calculation(cls, v, info):\n",
    "        \"\"\"Ensure freight_mean equals freight_sum / n_orders\"\"\"\n",
    "        freight_sum = info.data.get('freight_sum')\n",
    "        n_orders = info.data.get('n_orders')\n",
    "        \n",
    "        if freight_sum is not None and n_orders is not None and n_orders > 0:\n",
    "            expected = freight_sum / n_orders\n",
    "            if abs(v - expected) > 0.01:  # Allow small floating point tolerance\n",
    "                raise ValueError(\n",
    "                    f'freight_mean ({v}) does not match freight_sum/n_orders ({expected:.2f})'\n",
    "                )\n",
    "        return v\n",
    "    \n",
    "    @field_validator('spend_segment')\n",
    "    @classmethod\n",
    "    def segment_matches_freight(cls, v, info):\n",
    "        \"\"\"Ensure spend_segment aligns with freight_sum thresholds\"\"\"\n",
    "        freight_sum = info.data.get('freight_sum', 0)\n",
    "        \n",
    "        # Based on Lab 06: bins=[0, 20, 50, inf], labels=['low', 'mid', 'high']\n",
    "        if v == 'low' and freight_sum >= 20:\n",
    "            raise ValueError(f'spend_segment \"low\" but freight_sum={freight_sum} >= 20')\n",
    "        if v == 'mid' and (freight_sum < 20 or freight_sum >= 50):\n",
    "            raise ValueError(f'spend_segment \"mid\" but freight_sum={freight_sum} not in [20, 50)')\n",
    "        if v == 'high' and freight_sum < 50:\n",
    "            raise ValueError(f'spend_segment \"high\" but freight_sum={freight_sum} < 50')\n",
    "        \n",
    "        return v"
   ]
  },
  {
   "cell_type": "code",
   "execution_count": 15,
   "id": "78833bf4",
   "metadata": {},
   "outputs": [
    {
     "name": "stdout",
     "output_type": "stream",
     "text": [
      "Testing valid row:\n",
      "✓ Valid: ALFKI - Alfreds\n",
      "\n",
      "Testing invalid row:\n",
      "✗ Validation errors:\n",
      "  - CustomerID: String should match pattern '^[A-Z]{5}$'\n",
      "  - freight_mean: Input should be greater than or equal to 0\n"
     ]
    }
   ],
   "source": [
    "# Test with a valid row\n",
    "sample_row = per_cust.iloc[0].to_dict()\n",
    "print(\"Testing valid row:\")\n",
    "valid_customer = PerCustomerRow(**sample_row)\n",
    "print(f\"✓ Valid: {valid_customer.CustomerID} - {valid_customer.CompanyName}\")\n",
    "\n",
    "# Test with an invalid row\n",
    "print(\"\\nTesting invalid row:\")\n",
    "try:\n",
    "    invalid_row = sample_row.copy()\n",
    "    invalid_row['CustomerID'] = '12345'  # Numbers instead of letters\n",
    "    invalid_row['freight_mean'] = -5.0   # Negative\n",
    "    PerCustomerRow(**invalid_row)\n",
    "except ValidationError as e:\n",
    "    print(f\"✗ Validation errors:\")\n",
    "    for error in e.errors():\n",
    "        print(f\"  - {error['loc'][0]}: {error['msg']}\")"
   ]
  },
  {
   "cell_type": "markdown",
   "id": "0f637d3b",
   "metadata": {},
   "source": [
    "### Step 5: Batch validation with Pydantic"
   ]
  },
  {
   "cell_type": "code",
   "execution_count": 16,
   "id": "8e4dbc70",
   "metadata": {},
   "outputs": [],
   "source": [
    "def validate_batch_pydantic(df, model_class, sample_size=None):\n",
    "    \"\"\"\n",
    "    Validate a DataFrame using a Pydantic model row-by-row.\n",
    "    Returns both valid records and error details.\n",
    "    \"\"\"\n",
    "    errors = []\n",
    "    valid_indices = []\n",
    "    \n",
    "    sample_df = df.head(sample_size) if sample_size else df\n",
    "    \n",
    "    for idx, row in sample_df.iterrows():\n",
    "        try:\n",
    "            model_class(**row.to_dict())\n",
    "            valid_indices.append(idx)\n",
    "        except ValidationError as e:\n",
    "            for error in e.errors():\n",
    "                errors.append({\n",
    "                    'index': idx,\n",
    "                    'CustomerID': row.get('CustomerID', 'UNKNOWN'),\n",
    "                    'field': error['loc'][0],\n",
    "                    'error_type': error['type'],\n",
    "                    'message': error['msg']\n",
    "                })\n",
    "    \n",
    "    return valid_indices, pd.DataFrame(errors)"
   ]
  },
  {
   "cell_type": "code",
   "execution_count": 18,
   "id": "cd719ee5",
   "metadata": {},
   "outputs": [
    {
     "name": "stdout",
     "output_type": "stream",
     "text": [
      "Validating all per-customer records with Pydantic...\n",
      "\n",
      "✓ Valid records: 0/4\n",
      "✗ Invalid records: 28\n",
      "\n",
      "Error summary by field:\n"
     ]
    },
    {
     "data": {
      "application/vnd.microsoft.datawrangler.viewer.v0+json": {
       "columns": [
        {
         "name": "index",
         "rawType": "int64",
         "type": "integer"
        },
        {
         "name": "field",
         "rawType": "object",
         "type": "string"
        },
        {
         "name": "error_type",
         "rawType": "object",
         "type": "string"
        },
        {
         "name": "count",
         "rawType": "int64",
         "type": "integer"
        }
       ],
       "ref": "e67bd639-1ff2-4481-8b27-5681ded23d04",
       "rows": [
        [
         "0",
         "CustomerID",
         "string_pattern_mismatch",
         "4"
        ],
        [
         "1",
         "age",
         "missing",
         "4"
        ],
        [
         "2",
         "country_norm",
         "missing",
         "4"
        ],
        [
         "3",
         "email",
         "missing",
         "4"
        ],
        [
         "4",
         "is_adult",
         "missing",
         "4"
        ],
        [
         "5",
         "is_high_value",
         "missing",
         "4"
        ],
        [
         "6",
         "ltv_usd",
         "missing",
         "4"
        ]
       ],
       "shape": {
        "columns": 3,
        "rows": 7
       }
      },
      "text/html": [
       "<div>\n",
       "<style scoped>\n",
       "    .dataframe tbody tr th:only-of-type {\n",
       "        vertical-align: middle;\n",
       "    }\n",
       "\n",
       "    .dataframe tbody tr th {\n",
       "        vertical-align: top;\n",
       "    }\n",
       "\n",
       "    .dataframe thead th {\n",
       "        text-align: right;\n",
       "    }\n",
       "</style>\n",
       "<table border=\"1\" class=\"dataframe\">\n",
       "  <thead>\n",
       "    <tr style=\"text-align: right;\">\n",
       "      <th></th>\n",
       "      <th>field</th>\n",
       "      <th>error_type</th>\n",
       "      <th>count</th>\n",
       "    </tr>\n",
       "  </thead>\n",
       "  <tbody>\n",
       "    <tr>\n",
       "      <th>0</th>\n",
       "      <td>CustomerID</td>\n",
       "      <td>string_pattern_mismatch</td>\n",
       "      <td>4</td>\n",
       "    </tr>\n",
       "    <tr>\n",
       "      <th>1</th>\n",
       "      <td>age</td>\n",
       "      <td>missing</td>\n",
       "      <td>4</td>\n",
       "    </tr>\n",
       "    <tr>\n",
       "      <th>2</th>\n",
       "      <td>country_norm</td>\n",
       "      <td>missing</td>\n",
       "      <td>4</td>\n",
       "    </tr>\n",
       "    <tr>\n",
       "      <th>3</th>\n",
       "      <td>email</td>\n",
       "      <td>missing</td>\n",
       "      <td>4</td>\n",
       "    </tr>\n",
       "    <tr>\n",
       "      <th>4</th>\n",
       "      <td>is_adult</td>\n",
       "      <td>missing</td>\n",
       "      <td>4</td>\n",
       "    </tr>\n",
       "    <tr>\n",
       "      <th>5</th>\n",
       "      <td>is_high_value</td>\n",
       "      <td>missing</td>\n",
       "      <td>4</td>\n",
       "    </tr>\n",
       "    <tr>\n",
       "      <th>6</th>\n",
       "      <td>ltv_usd</td>\n",
       "      <td>missing</td>\n",
       "      <td>4</td>\n",
       "    </tr>\n",
       "  </tbody>\n",
       "</table>\n",
       "</div>"
      ],
      "text/plain": [
       "           field               error_type  count\n",
       "0     CustomerID  string_pattern_mismatch      4\n",
       "1            age                  missing      4\n",
       "2   country_norm                  missing      4\n",
       "3          email                  missing      4\n",
       "4       is_adult                  missing      4\n",
       "5  is_high_value                  missing      4\n",
       "6        ltv_usd                  missing      4"
      ]
     },
     "metadata": {},
     "output_type": "display_data"
    },
    {
     "name": "stdout",
     "output_type": "stream",
     "text": [
      "\n",
      "Sample errors:\n"
     ]
    },
    {
     "data": {
      "application/vnd.microsoft.datawrangler.viewer.v0+json": {
       "columns": [
        {
         "name": "index",
         "rawType": "int64",
         "type": "integer"
        },
        {
         "name": "index",
         "rawType": "int64",
         "type": "integer"
        },
        {
         "name": "CustomerID",
         "rawType": "object",
         "type": "string"
        },
        {
         "name": "field",
         "rawType": "object",
         "type": "string"
        },
        {
         "name": "error_type",
         "rawType": "object",
         "type": "string"
        },
        {
         "name": "message",
         "rawType": "object",
         "type": "string"
        }
       ],
       "ref": "e80e6710-740a-4107-aea3-06073baf5f12",
       "rows": [
        [
         "0",
         "0",
         "ALFKI",
         "CustomerID",
         "string_pattern_mismatch",
         "String should match pattern '^C\\d{5}$'"
        ],
        [
         "1",
         "0",
         "ALFKI",
         "country_norm",
         "missing",
         "Field required"
        ],
        [
         "2",
         "0",
         "ALFKI",
         "age",
         "missing",
         "Field required"
        ],
        [
         "3",
         "0",
         "ALFKI",
         "ltv_usd",
         "missing",
         "Field required"
        ],
        [
         "4",
         "0",
         "ALFKI",
         "email",
         "missing",
         "Field required"
        ],
        [
         "5",
         "0",
         "ALFKI",
         "is_adult",
         "missing",
         "Field required"
        ],
        [
         "6",
         "0",
         "ALFKI",
         "is_high_value",
         "missing",
         "Field required"
        ],
        [
         "7",
         "1",
         "ANATR",
         "CustomerID",
         "string_pattern_mismatch",
         "String should match pattern '^C\\d{5}$'"
        ],
        [
         "8",
         "1",
         "ANATR",
         "country_norm",
         "missing",
         "Field required"
        ],
        [
         "9",
         "1",
         "ANATR",
         "age",
         "missing",
         "Field required"
        ]
       ],
       "shape": {
        "columns": 5,
        "rows": 10
       }
      },
      "text/html": [
       "<div>\n",
       "<style scoped>\n",
       "    .dataframe tbody tr th:only-of-type {\n",
       "        vertical-align: middle;\n",
       "    }\n",
       "\n",
       "    .dataframe tbody tr th {\n",
       "        vertical-align: top;\n",
       "    }\n",
       "\n",
       "    .dataframe thead th {\n",
       "        text-align: right;\n",
       "    }\n",
       "</style>\n",
       "<table border=\"1\" class=\"dataframe\">\n",
       "  <thead>\n",
       "    <tr style=\"text-align: right;\">\n",
       "      <th></th>\n",
       "      <th>index</th>\n",
       "      <th>CustomerID</th>\n",
       "      <th>field</th>\n",
       "      <th>error_type</th>\n",
       "      <th>message</th>\n",
       "    </tr>\n",
       "  </thead>\n",
       "  <tbody>\n",
       "    <tr>\n",
       "      <th>0</th>\n",
       "      <td>0</td>\n",
       "      <td>ALFKI</td>\n",
       "      <td>CustomerID</td>\n",
       "      <td>string_pattern_mismatch</td>\n",
       "      <td>String should match pattern '^C\\d{5}$'</td>\n",
       "    </tr>\n",
       "    <tr>\n",
       "      <th>1</th>\n",
       "      <td>0</td>\n",
       "      <td>ALFKI</td>\n",
       "      <td>country_norm</td>\n",
       "      <td>missing</td>\n",
       "      <td>Field required</td>\n",
       "    </tr>\n",
       "    <tr>\n",
       "      <th>2</th>\n",
       "      <td>0</td>\n",
       "      <td>ALFKI</td>\n",
       "      <td>age</td>\n",
       "      <td>missing</td>\n",
       "      <td>Field required</td>\n",
       "    </tr>\n",
       "    <tr>\n",
       "      <th>3</th>\n",
       "      <td>0</td>\n",
       "      <td>ALFKI</td>\n",
       "      <td>ltv_usd</td>\n",
       "      <td>missing</td>\n",
       "      <td>Field required</td>\n",
       "    </tr>\n",
       "    <tr>\n",
       "      <th>4</th>\n",
       "      <td>0</td>\n",
       "      <td>ALFKI</td>\n",
       "      <td>email</td>\n",
       "      <td>missing</td>\n",
       "      <td>Field required</td>\n",
       "    </tr>\n",
       "    <tr>\n",
       "      <th>5</th>\n",
       "      <td>0</td>\n",
       "      <td>ALFKI</td>\n",
       "      <td>is_adult</td>\n",
       "      <td>missing</td>\n",
       "      <td>Field required</td>\n",
       "    </tr>\n",
       "    <tr>\n",
       "      <th>6</th>\n",
       "      <td>0</td>\n",
       "      <td>ALFKI</td>\n",
       "      <td>is_high_value</td>\n",
       "      <td>missing</td>\n",
       "      <td>Field required</td>\n",
       "    </tr>\n",
       "    <tr>\n",
       "      <th>7</th>\n",
       "      <td>1</td>\n",
       "      <td>ANATR</td>\n",
       "      <td>CustomerID</td>\n",
       "      <td>string_pattern_mismatch</td>\n",
       "      <td>String should match pattern '^C\\d{5}$'</td>\n",
       "    </tr>\n",
       "    <tr>\n",
       "      <th>8</th>\n",
       "      <td>1</td>\n",
       "      <td>ANATR</td>\n",
       "      <td>country_norm</td>\n",
       "      <td>missing</td>\n",
       "      <td>Field required</td>\n",
       "    </tr>\n",
       "    <tr>\n",
       "      <th>9</th>\n",
       "      <td>1</td>\n",
       "      <td>ANATR</td>\n",
       "      <td>age</td>\n",
       "      <td>missing</td>\n",
       "      <td>Field required</td>\n",
       "    </tr>\n",
       "  </tbody>\n",
       "</table>\n",
       "</div>"
      ],
      "text/plain": [
       "   index CustomerID          field               error_type  \\\n",
       "0      0      ALFKI     CustomerID  string_pattern_mismatch   \n",
       "1      0      ALFKI   country_norm                  missing   \n",
       "2      0      ALFKI            age                  missing   \n",
       "3      0      ALFKI        ltv_usd                  missing   \n",
       "4      0      ALFKI          email                  missing   \n",
       "5      0      ALFKI       is_adult                  missing   \n",
       "6      0      ALFKI  is_high_value                  missing   \n",
       "7      1      ANATR     CustomerID  string_pattern_mismatch   \n",
       "8      1      ANATR   country_norm                  missing   \n",
       "9      1      ANATR            age                  missing   \n",
       "\n",
       "                                  message  \n",
       "0  String should match pattern '^C\\d{5}$'  \n",
       "1                          Field required  \n",
       "2                          Field required  \n",
       "3                          Field required  \n",
       "4                          Field required  \n",
       "5                          Field required  \n",
       "6                          Field required  \n",
       "7  String should match pattern '^C\\d{5}$'  \n",
       "8                          Field required  \n",
       "9                          Field required  "
      ]
     },
     "metadata": {},
     "output_type": "display_data"
    }
   ],
   "source": [
    "# Validate the entire dataset\n",
    "print(\"Validating all per-customer records with Pydantic...\")\n",
    "valid_idx, error_df = validate_batch_pydantic(per_cust, CustomerRow)\n",
    "\n",
    "print(f\"\\n✓ Valid records: {len(valid_idx)}/{len(per_cust)}\")\n",
    "if len(error_df) > 0:\n",
    "    print(f\"✗ Invalid records: {len(error_df.index.unique())}\")\n",
    "    print(\"\\nError summary by field:\")\n",
    "    display(error_df.groupby(['field', 'error_type']).size().reset_index(name='count'))\n",
    "    \n",
    "    print(\"\\nSample errors:\")\n",
    "    display(error_df.head(10))\n",
    "else:\n",
    "    print(\"✓ All records passed Pydantic validation!\")"
   ]
  },
  {
   "cell_type": "markdown",
   "id": "41e002c9",
   "metadata": {},
   "source": [
    "### Step 6: CI Hook Example with validate_or_artifact"
   ]
  },
  {
   "cell_type": "code",
   "execution_count": 19,
   "id": "6dbbfcdc",
   "metadata": {},
   "outputs": [],
   "source": [
    "def validate_or_artifact(df, schema, name, out_dir='artifacts/validation'):\n",
    "    \"\"\"\n",
    "    Validate a DataFrame or save failure artifacts for CI.\n",
    "    Raises SystemExit on failure (fails CI pipeline).\n",
    "    \"\"\"\n",
    "    Path(out_dir).mkdir(parents=True, exist_ok=True)\n",
    "    \n",
    "    try:\n",
    "        return schema.validate(df, lazy=True)\n",
    "    except pa.errors.SchemaErrors as err:\n",
    "        fc = err.failure_cases\n",
    "        dest = Path(out_dir) / f'{name}_failures.csv'\n",
    "        fc.to_csv(dest, index=False)\n",
    "        \n",
    "        # Compact summary for console/CI logs\n",
    "        top = (\n",
    "            fc.groupby(['column', 'check'])\n",
    "            .size()\n",
    "            .reset_index(name='n')\n",
    "            .sort_values('n', ascending=False)\n",
    "            .head(5)\n",
    "            .to_dict(orient='records')\n",
    "        )\n",
    "        \n",
    "        # This would fail a CI build\n",
    "        raise SystemExit(\n",
    "            f\"❌ Validation failed for {name}.\\n\"\n",
    "            f\"   Found {len(fc)} violations.\\n\"\n",
    "            f\"   Top issues: {top}\\n\"\n",
    "            f\"   Details: {dest}\"\n",
    "        )"
   ]
  },
  {
   "cell_type": "code",
   "execution_count": 20,
   "id": "e064fe99",
   "metadata": {},
   "outputs": [
    {
     "name": "stdout",
     "output_type": "stream",
     "text": [
      "Simulating CI validation check...\n",
      "✗ CI Check FAILED:\n",
      "❌ Validation failed for per_customer_ci.\n",
      "   Found 1 violations.\n",
      "   Top issues: [{'column': 'spend_segment', 'check': \"dtype('object')\", 'n': 1}]\n",
      "   Details: artifacts/validation/per_customer_ci_failures.csv\n"
     ]
    }
   ],
   "source": [
    "# Example: Use in CI pipeline\n",
    "print(\"Simulating CI validation check...\")\n",
    "try:\n",
    "    validated_ci = validate_or_artifact(per_cust, PerCustomerSchema, 'per_customer_ci')\n",
    "    print(f\"✓ CI Check PASSED: {len(validated_ci)} records validated successfully\")\n",
    "except SystemExit as e:\n",
    "    print(f\"✗ CI Check FAILED:\\n{e}\")"
   ]
  },
  {
   "cell_type": "markdown",
   "id": "e6c1b094",
   "metadata": {},
   "source": [
    "### Step 7: Write a pytest test\n",
    "\n",
    "Create a file `lab09/test_per_customer_validation.py`:"
   ]
  },
  {
   "cell_type": "code",
   "execution_count": null,
   "id": "25852777",
   "metadata": {},
   "outputs": [],
   "source": [
    "# lab09/test_per_customer_validation.py\n",
    "import pytest\n",
    "import pandas as pd\n",
    "import pandera.pandas as pa\n",
    "from pandera import Column, Check, DataFrameSchema\n",
    "from pathlib import Path\n",
    "\n",
    "@pytest.fixture\n",
    "def per_customer_data():\n",
    "    \"\"\"Load the per_customer dataset\"\"\"\n",
    "    # Update path to match the actual location from the lab instructions\n",
    "    path = Path(__file__).parent.parent.parent / 'solutions' / 'artifacts' / 'clean' / 'per_customer.parquet'\n",
    "    if not path.exists():\n",
    "        # Try alternative path\n",
    "        path = Path('solutions/artifacts/clean/per_customer.parquet')\n",
    "    if not path.exists():\n",
    "        pytest.skip(f\"Test data not found: {path}\")\n",
    "    return pd.read_parquet(path)\n",
    "\n",
    "@pytest.fixture\n",
    "def per_customer_schema():\n",
    "    \"\"\"Define the Pandera schema\"\"\"\n",
    "    AllowedSegments = ['low', 'mid', 'high']\n",
    "    \n",
    "    return DataFrameSchema(\n",
    "        columns={\n",
    "            'CustomerID': Column(str, nullable=False, \n",
    "                                checks=Check.str_matches(r'^[A-Z]{5}$')),\n",
    "            'n_orders': Column(int, nullable=False, checks=Check.ge(1)),\n",
    "            'freight_mean': Column(float, nullable=False, checks=Check.ge(0)),\n",
    "            'freight_sum': Column(float, nullable=False, checks=Check.ge(0)),\n",
    "            'CompanyName': Column(str, nullable=False),\n",
    "            'Country': Column(str, nullable=False),\n",
    "            'spend_segment': Column(str, nullable=False, \n",
    "                                   checks=Check.isin(AllowedSegments)),\n",
    "        },\n",
    "        checks=[\n",
    "            Check(lambda df: df['CustomerID'].is_unique,\n",
    "                  error=\"Duplicate CustomerID\")\n",
    "        ],\n",
    "        strict=False,\n",
    "        coerce=True  # Allow type coercion\n",
    "    )\n",
    "\n",
    "def test_schema_validates(per_customer_data, per_customer_schema):\n",
    "    \"\"\"Test that per_customer data passes schema validation\"\"\"\n",
    "    try:\n",
    "        validated = per_customer_schema.validate(per_customer_data, lazy=True)\n",
    "        assert len(validated) > 0, \"No records after validation\"\n",
    "        assert len(validated) == len(per_customer_data), \"Some records were filtered out\"\n",
    "    except pa.errors.SchemaErrors as e:\n",
    "        # Print detailed error information for debugging\n",
    "        print(f\"\\nSchema validation failed with {len(e.failure_cases)} errors:\")\n",
    "        print(e.failure_cases)\n",
    "        raise\n",
    "\n",
    "def test_no_null_customer_ids(per_customer_data):\n",
    "    \"\"\"Test that CustomerID has no nulls\"\"\"\n",
    "    assert per_customer_data['CustomerID'].notna().all()\n",
    "\n",
    "def test_freight_consistency(per_customer_data):\n",
    "    \"\"\"Test that freight_mean matches freight_sum / n_orders\"\"\"\n",
    "    calculated_mean = per_customer_data['freight_sum'] / per_customer_data['n_orders']\n",
    "    diff = (per_customer_data['freight_mean'] - calculated_mean).abs()\n",
    "    max_diff = diff.max()\n",
    "    assert (diff < 0.01).all(), f\"freight_mean inconsistent with freight_sum/n_orders. Max diff: {max_diff}\"\n",
    "\n",
    "def test_spend_segments_valid(per_customer_data):\n",
    "    \"\"\"Test that spend segments align with freight_sum thresholds\"\"\"\n",
    "    low = per_customer_data[per_customer_data['spend_segment'] == 'low']\n",
    "    if len(low) > 0:\n",
    "        assert (low['freight_sum'] < 20).all(), f\"Low segment has freight_sum >= 20. Max: {low['freight_sum'].max()}\"\n",
    "    \n",
    "    mid = per_customer_data[per_customer_data['spend_segment'] == 'mid']\n",
    "    if len(mid) > 0:\n",
    "        assert ((mid['freight_sum'] >= 20) & (mid['freight_sum'] < 50)).all(), \\\n",
    "            f\"Mid segment out of range [20, 50). Range: [{mid['freight_sum'].min()}, {mid['freight_sum'].max()})\"\n",
    "    \n",
    "    high = per_customer_data[per_customer_data['spend_segment'] == 'high']\n",
    "    if len(high) > 0:\n",
    "        assert (high['freight_sum'] >= 50).all(), f\"High segment has freight_sum < 50. Min: {high['freight_sum'].min()}\"\n",
    "\n",
    "def test_customer_id_format(per_customer_data):\n",
    "    \"\"\"Test that all CustomerIDs match the expected 5-letter format\"\"\"\n",
    "    invalid = per_customer_data[~per_customer_data['CustomerID'].str.match(r'^[A-Z]{5}$', na=False)]\n",
    "    assert len(invalid) == 0, f\"Found {len(invalid)} invalid CustomerIDs: {invalid['CustomerID'].tolist()[:5]}\"\n",
    "\n",
    "def test_positive_orders(per_customer_data):\n",
    "    \"\"\"Test that all customers have at least 1 order\"\"\"\n",
    "    assert (per_customer_data['n_orders'] >= 1).all(), \\\n",
    "        f\"Found orders < 1. Min: {per_customer_data['n_orders'].min()}\"\n",
    "\n",
    "def test_data_types(per_customer_data):\n",
    "    \"\"\"Test that columns have expected data types\"\"\"\n",
    "    assert pd.api.types.is_string_dtype(per_customer_data['CustomerID']) or \\\n",
    "           pd.api.types.is_object_dtype(per_customer_data['CustomerID'])\n",
    "    assert pd.api.types.is_integer_dtype(per_customer_data['n_orders'])\n",
    "    assert pd.api.types.is_float_dtype(per_customer_data['freight_mean'])\n",
    "    assert pd.api.types.is_float_dtype(per_customer_data['freight_sum'])"
   ]
  },
  {
   "cell_type": "markdown",
   "id": "ade1a125",
   "metadata": {},
   "source": [
    "Run the tests:"
   ]
  },
  {
   "cell_type": "markdown",
   "id": "993571e3",
   "metadata": {},
   "source": [
    "```bash\n",
    "pip3.13 install pytest pandas pandera pyarrow fastparquet\n",
    "pytest lab09/test_per_customer_validation.py -v\n",
    "```"
   ]
  },
  {
   "cell_type": "markdown",
   "id": "5da74783",
   "metadata": {},
   "source": [
    "### Step 8: Reflection Questions\n",
    "\n",
    "Add a markdown cell and answer:\n",
    "\n",
    "1. **Which constraint types did you use?**\n",
    "   - Pattern matching (regex for CustomerID)\n",
    "   - Range checks (ge, le for numeric fields)\n",
    "   - Category allowlists (isin for Country and spend_segment)\n",
    "   - Cross-column checks (freight_mean vs calculated mean)\n",
    "   - DataFrame-level checks (uniqueness, median thresholds)\n",
    "\n",
    "2. **Pandera vs Pydantic boundaries:**\n",
    "   - **Pandera**: Use for ETL pipelines, bulk DataFrame validation, aggregated data checks\n",
    "   - **Pydantic**: Use for API boundaries, row-by-row ingestion, microservice contracts\n",
    "   - For `per_customer.parquet`: Pandera is ideal since it's batch ETL output\n",
    "\n",
    "3. **CI Violation Summary Example:**\n",
    "\n",
    "   ```text\n",
    "   ❌ Validation failed for per_customer_ci\n",
    "   Found 6 violations:\n",
    "   - column: Country, check: isin, count: 1\n",
    "   - column: CustomerID, check: str_matches, count: 1\n",
    "   - column: freight_mean, check: ge, count: 1\n",
    "   See: artifacts/validation/per_customer_ci_failures.csv\n",
    "   ```\n",
    "\n",
    "4. **How would you surface errors?**\n",
    "\n",
    "   - **Console/CI**: Show rollup summary (column + check + count)\n",
    "   - **Analysts**: Export detailed `failure_cases.csv` with all violation metadata\n",
    "   - **Monitoring**: Track validation metrics over time (violation rate, top issues)"
   ]
  },
  {
   "cell_type": "markdown",
   "id": "b7ff3011",
   "metadata": {},
   "source": [
    "### Step 9: Export and document"
   ]
  },
  {
   "cell_type": "code",
   "execution_count": 21,
   "id": "b34485aa",
   "metadata": {},
   "outputs": [
    {
     "name": "stdout",
     "output_type": "stream",
     "text": [
      "VALIDATION SUMMARY\n",
      "==================================================\n",
      "dataset             : per_customer.parquet\n",
      "total_records       : 4\n",
      "validation_method   : Pandera + Pydantic\n",
      "schema_checks       : {'column_checks': 7, 'dataframe_checks': 4, 'pydantic_validators': 2}\n",
      "validation_result   : PASSED\n",
      "issues_found        : 0\n",
      "\n",
      "✓ Export notebook to HTML with: Jupyter > File > Save and Export > HTML\n",
      "✓ Include validation summary, rollup table, and test results\n"
     ]
    }
   ],
   "source": [
    "# Generate a summary report\n",
    "summary = {\n",
    "    'dataset': 'per_customer.parquet',\n",
    "    'total_records': len(per_cust),\n",
    "    'validation_method': 'Pandera + Pydantic',\n",
    "    'schema_checks': {\n",
    "        'column_checks': 7,\n",
    "        'dataframe_checks': 4,\n",
    "        'pydantic_validators': 2\n",
    "    },\n",
    "    'validation_result': 'PASSED',\n",
    "    'issues_found': 0\n",
    "}\n",
    "\n",
    "print(\"VALIDATION SUMMARY\")\n",
    "print(\"=\" * 50)\n",
    "for key, value in summary.items():\n",
    "    print(f\"{key:20s}: {value}\")\n",
    "\n",
    "# Export notebook to HTML\n",
    "print(\"\\n✓ Export notebook to HTML with: Jupyter > File > Save and Export > HTML\")\n",
    "print(\"✓ Include validation summary, rollup table, and test results\")"
   ]
  },
  {
   "cell_type": "markdown",
   "id": "603a376b",
   "metadata": {},
   "source": [
    "## Key Takeaways\n",
    "\n",
    "This complete walkthrough demonstrated:\n",
    "\n",
    "✅ **Column constraints**: Regex patterns, range checks, category allowlists  \n",
    "✅ **DataFrame checks**: Uniqueness, cross-column validation, aggregate thresholds  \n",
    "✅ **Error handling**: Rollup summaries for CI, detailed CSVs for triage  \n",
    "✅ **Pydantic contracts**: Field validators, custom business logic  \n",
    "✅ **CI integration**: pytest tests, validate_or_artifact pattern  \n",
    "✅ **Real data**: Applied all concepts to actual pipeline artifact\n",
    "\n",
    "**Common pitfalls avoided:**\n",
    "\n",
    "- Used lazy validation to collect all errors\n",
    "- Provided both summary (CI) and detailed (triage) error outputs\n",
    "- Separated DataFrame validation (Pandera) from row validation (Pydantic)\n",
    "- Included floating-point tolerance for calculated fields\n",
    "- Made schemas readable with clear error messages"
   ]
  }
 ],
 "metadata": {
  "kernelspec": {
   "display_name": "llm_venv",
   "language": "python",
   "name": "python3"
  },
  "language_info": {
   "codemirror_mode": {
    "name": "ipython",
    "version": 3
   },
   "file_extension": ".py",
   "mimetype": "text/x-python",
   "name": "python",
   "nbconvert_exporter": "python",
   "pygments_lexer": "ipython3",
   "version": "3.13.8"
  }
 },
 "nbformat": 4,
 "nbformat_minor": 5
}
