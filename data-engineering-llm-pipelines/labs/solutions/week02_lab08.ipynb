{
 "cells": [
  {
   "cell_type": "markdown",
   "id": "147224ee",
   "metadata": {},
   "source": [
    "# Lab 08 — Why Schema Validation in ML/LLM Pipelines\n",
    "\n",
    "**Focus Area:** Why schema validation — catching upstream drift; protecting training/eval\n",
    "\n",
    "> This lab is the *why* and *show‑me* for validation. You'll simulate upstream changes (types, ranges, unexpected categories) and see how a light schema gate prevents bad data from reaching LLM‑adjacent stages.\n",
    "\n",
    "---\n",
    "\n",
    "## Outcomes\n",
    "\n",
    "By the end of this lab, you will be able to:\n",
    "\n",
    "1. Explain the difference between **structural drift** (columns/types) and **semantic drift** (values/ranges/categories), and why each harms LLM workflows.\n",
    "2. Add a **pre‑flight validation gate** that fails fast with actionable messages.\n",
    "3. Use a **minimal Pandera schema** (or Pydantic model per row) to enforce types, ranges, and categorical sets.\n",
    "4. Capture **human‑readable failure reports** for debugging, CI, and incident triage."
   ]
  },
  {
   "cell_type": "markdown",
   "id": "9859bf74",
   "metadata": {},
   "source": [
    "## Prerequisites & Setup\n",
    "\n",
    "- Python 3.13 with `pandas`, `numpy`, `pandera`, `pydantic`, `pyarrow` installed.  \n",
    "- JupyterLab or VS Code with Jupyter extension.\n",
    "- Artifacts from previous labs (optional but recommended): `artifacts/clean/per_customer.parquet` or `users_clean.parquet`  \n",
    "\n",
    "**Start a notebook:** `week02_lab08.ipynb`\n",
    "\n",
    "If you don't have prior artifacts, synthesize a small frame now:"
   ]
  },
  {
   "cell_type": "code",
   "execution_count": 2,
   "id": "91b34a32",
   "metadata": {},
   "outputs": [
    {
     "data": {
      "application/vnd.microsoft.datawrangler.viewer.v0+json": {
       "columns": [
        {
         "name": "index",
         "rawType": "int64",
         "type": "integer"
        },
        {
         "name": "CustomerID",
         "rawType": "object",
         "type": "string"
        },
        {
         "name": "country_norm",
         "rawType": "object",
         "type": "string"
        },
        {
         "name": "age",
         "rawType": "int64",
         "type": "integer"
        },
        {
         "name": "ltv_usd",
         "rawType": "float64",
         "type": "float"
        },
        {
         "name": "is_adult",
         "rawType": "bool",
         "type": "boolean"
        },
        {
         "name": "is_high_value",
         "rawType": "bool",
         "type": "boolean"
        }
       ],
       "ref": "8b2f6b6e-2a76-4d28-af14-8cd0101da705",
       "rows": [
        [
         "0",
         "C00000",
         "SG",
         "55",
         "28.0",
         "True",
         "True"
        ],
        [
         "1",
         "C00001",
         "USA",
         "65",
         "18.32",
         "True",
         "True"
        ],
        [
         "2",
         "C00002",
         "SG",
         "63",
         "5.58",
         "True",
         "True"
        ],
        [
         "3",
         "C00003",
         "DE",
         "24",
         "38.47",
         "True",
         "True"
        ],
        [
         "4",
         "C00004",
         "USA",
         "68",
         "13.15",
         "True",
         "True"
        ]
       ],
       "shape": {
        "columns": 6,
        "rows": 5
       }
      },
      "text/html": [
       "<div>\n",
       "<style scoped>\n",
       "    .dataframe tbody tr th:only-of-type {\n",
       "        vertical-align: middle;\n",
       "    }\n",
       "\n",
       "    .dataframe tbody tr th {\n",
       "        vertical-align: top;\n",
       "    }\n",
       "\n",
       "    .dataframe thead th {\n",
       "        text-align: right;\n",
       "    }\n",
       "</style>\n",
       "<table border=\"1\" class=\"dataframe\">\n",
       "  <thead>\n",
       "    <tr style=\"text-align: right;\">\n",
       "      <th></th>\n",
       "      <th>CustomerID</th>\n",
       "      <th>country_norm</th>\n",
       "      <th>age</th>\n",
       "      <th>ltv_usd</th>\n",
       "      <th>is_adult</th>\n",
       "      <th>is_high_value</th>\n",
       "    </tr>\n",
       "  </thead>\n",
       "  <tbody>\n",
       "    <tr>\n",
       "      <th>0</th>\n",
       "      <td>C00000</td>\n",
       "      <td>SG</td>\n",
       "      <td>55</td>\n",
       "      <td>28.00</td>\n",
       "      <td>True</td>\n",
       "      <td>True</td>\n",
       "    </tr>\n",
       "    <tr>\n",
       "      <th>1</th>\n",
       "      <td>C00001</td>\n",
       "      <td>USA</td>\n",
       "      <td>65</td>\n",
       "      <td>18.32</td>\n",
       "      <td>True</td>\n",
       "      <td>True</td>\n",
       "    </tr>\n",
       "    <tr>\n",
       "      <th>2</th>\n",
       "      <td>C00002</td>\n",
       "      <td>SG</td>\n",
       "      <td>63</td>\n",
       "      <td>5.58</td>\n",
       "      <td>True</td>\n",
       "      <td>True</td>\n",
       "    </tr>\n",
       "    <tr>\n",
       "      <th>3</th>\n",
       "      <td>C00003</td>\n",
       "      <td>DE</td>\n",
       "      <td>24</td>\n",
       "      <td>38.47</td>\n",
       "      <td>True</td>\n",
       "      <td>True</td>\n",
       "    </tr>\n",
       "    <tr>\n",
       "      <th>4</th>\n",
       "      <td>C00004</td>\n",
       "      <td>USA</td>\n",
       "      <td>68</td>\n",
       "      <td>13.15</td>\n",
       "      <td>True</td>\n",
       "      <td>True</td>\n",
       "    </tr>\n",
       "  </tbody>\n",
       "</table>\n",
       "</div>"
      ],
      "text/plain": [
       "  CustomerID country_norm  age  ltv_usd  is_adult  is_high_value\n",
       "0     C00000           SG   55    28.00      True           True\n",
       "1     C00001          USA   65    18.32      True           True\n",
       "2     C00002           SG   63     5.58      True           True\n",
       "3     C00003           DE   24    38.47      True           True\n",
       "4     C00004          USA   68    13.15      True           True"
      ]
     },
     "execution_count": 2,
     "metadata": {},
     "output_type": "execute_result"
    }
   ],
   "source": [
    "import numpy as np, pandas as pd\n",
    "rng = np.random.default_rng(42)\n",
    "users2 = pd.DataFrame({\n",
    "    'CustomerID': [f'C{i:05d}' for i in range(300)],\n",
    "    'country_norm': rng.choice(['USA','DE','SG','BR'], size=300, p=[.55,.2,.15,.1]),\n",
    "    'age': rng.integers(16, 80, size=300).astype('int64'),\n",
    "    'ltv_usd': np.round(np.clip(rng.lognormal(3.0, 0.7, size=300), 0, 5e4), 2),\n",
    "    'is_adult': (rng.integers(16, 80, size=300) >= 18),\n",
    "    'is_high_value': rng.random(300) > 0.85,\n",
    "})\n",
    "users2.head()"
   ]
  },
  {
   "cell_type": "markdown",
   "id": "c70a8da9",
   "metadata": {},
   "source": [
    "## Part A — What can go wrong, concretely?\n",
    "\n",
    "In LLM/ML pipelines, silent data drift can:\n",
    "\n",
    "- **Break transforms** (e.g., `to_datetime` fails after a type flip from string→int).\n",
    "- **Bias metrics** (e.g., new country labels split a cohort: `U.S.A.` appears again).\n",
    "- **Explode tokens/costs** (e.g., unexpectedly long text fields; numeric → string inflation).\n",
    "- **Poison eval/train** (e.g., negative prices; out‑of‑range ages; missing required keys).\n",
    "\n",
    "**Exercise:** Create 3 synthetic drifts."
   ]
  },
  {
   "cell_type": "code",
   "execution_count": 3,
   "id": "b37a157b",
   "metadata": {},
   "outputs": [
    {
     "name": "stderr",
     "output_type": "stream",
     "text": [
      "/tmp/ipykernel_15128/1327786686.py:3: FutureWarning: Setting an item of incompatible dtype is deprecated and will raise an error in a future version of pandas. Value '['55' '65' '63' '24' '68' '50' '36' '48' '77' '70' '69' '45' '66' '40'\n",
      " '59' '56' '31' '33' '19' '24']' has dtype incompatible with int64, please explicitly cast to a compatible dtype first.\n",
      "  broken.loc[broken.index[:20], 'age'] = broken.loc[broken.index[:20], 'age'].astype(str)\n"
     ]
    },
    {
     "data": {
      "application/vnd.microsoft.datawrangler.viewer.v0+json": {
       "columns": [
        {
         "name": "index",
         "rawType": "int64",
         "type": "integer"
        },
        {
         "name": "CustomerID",
         "rawType": "object",
         "type": "string"
        },
        {
         "name": "country_norm",
         "rawType": "object",
         "type": "string"
        },
        {
         "name": "age",
         "rawType": "object",
         "type": "string"
        },
        {
         "name": "ltv_usd",
         "rawType": "float64",
         "type": "float"
        },
        {
         "name": "is_adult",
         "rawType": "bool",
         "type": "boolean"
        },
        {
         "name": "is_high_value",
         "rawType": "bool",
         "type": "boolean"
        }
       ],
       "ref": "e8b6be9b-a453-4b7c-9003-4654dbe71731",
       "rows": [
        [
         "0",
         "C00000",
         "SG",
         "55",
         "28.0",
         "True",
         "True"
        ],
        [
         "1",
         "C00001",
         "USA",
         "65",
         "18.32",
         "True",
         "True"
        ],
        [
         "2",
         "C00002",
         "SG",
         "63",
         "5.58",
         "True",
         "True"
        ],
        [
         "3",
         "C00003",
         "DE",
         "24",
         "38.47",
         "True",
         "True"
        ],
        [
         "4",
         "C00004",
         "USA",
         "68",
         "13.15",
         "True",
         "True"
        ]
       ],
       "shape": {
        "columns": 6,
        "rows": 5
       }
      },
      "text/html": [
       "<div>\n",
       "<style scoped>\n",
       "    .dataframe tbody tr th:only-of-type {\n",
       "        vertical-align: middle;\n",
       "    }\n",
       "\n",
       "    .dataframe tbody tr th {\n",
       "        vertical-align: top;\n",
       "    }\n",
       "\n",
       "    .dataframe thead th {\n",
       "        text-align: right;\n",
       "    }\n",
       "</style>\n",
       "<table border=\"1\" class=\"dataframe\">\n",
       "  <thead>\n",
       "    <tr style=\"text-align: right;\">\n",
       "      <th></th>\n",
       "      <th>CustomerID</th>\n",
       "      <th>country_norm</th>\n",
       "      <th>age</th>\n",
       "      <th>ltv_usd</th>\n",
       "      <th>is_adult</th>\n",
       "      <th>is_high_value</th>\n",
       "    </tr>\n",
       "  </thead>\n",
       "  <tbody>\n",
       "    <tr>\n",
       "      <th>0</th>\n",
       "      <td>C00000</td>\n",
       "      <td>SG</td>\n",
       "      <td>55</td>\n",
       "      <td>28.00</td>\n",
       "      <td>True</td>\n",
       "      <td>True</td>\n",
       "    </tr>\n",
       "    <tr>\n",
       "      <th>1</th>\n",
       "      <td>C00001</td>\n",
       "      <td>USA</td>\n",
       "      <td>65</td>\n",
       "      <td>18.32</td>\n",
       "      <td>True</td>\n",
       "      <td>True</td>\n",
       "    </tr>\n",
       "    <tr>\n",
       "      <th>2</th>\n",
       "      <td>C00002</td>\n",
       "      <td>SG</td>\n",
       "      <td>63</td>\n",
       "      <td>5.58</td>\n",
       "      <td>True</td>\n",
       "      <td>True</td>\n",
       "    </tr>\n",
       "    <tr>\n",
       "      <th>3</th>\n",
       "      <td>C00003</td>\n",
       "      <td>DE</td>\n",
       "      <td>24</td>\n",
       "      <td>38.47</td>\n",
       "      <td>True</td>\n",
       "      <td>True</td>\n",
       "    </tr>\n",
       "    <tr>\n",
       "      <th>4</th>\n",
       "      <td>C00004</td>\n",
       "      <td>USA</td>\n",
       "      <td>68</td>\n",
       "      <td>13.15</td>\n",
       "      <td>True</td>\n",
       "      <td>True</td>\n",
       "    </tr>\n",
       "  </tbody>\n",
       "</table>\n",
       "</div>"
      ],
      "text/plain": [
       "  CustomerID country_norm age  ltv_usd  is_adult  is_high_value\n",
       "0     C00000           SG  55    28.00      True           True\n",
       "1     C00001          USA  65    18.32      True           True\n",
       "2     C00002           SG  63     5.58      True           True\n",
       "3     C00003           DE  24    38.47      True           True\n",
       "4     C00004          USA  68    13.15      True           True"
      ]
     },
     "execution_count": 3,
     "metadata": {},
     "output_type": "execute_result"
    }
   ],
   "source": [
    "broken = users2.copy()\n",
    "# 1) Structural drift: age becomes string for some rows\n",
    "broken.loc[broken.index[:20], 'age'] = broken.loc[broken.index[:20], 'age'].astype(str)\n",
    "# 2) Semantic drift: country label out of policy\n",
    "broken.loc[10:15, 'country_norm'] = ['U.S.A.','United States','usa','US','USA','USA']\n",
    "# 3) Range drift: negative ltv sneaks in\n",
    "broken.loc[50:55, 'ltv_usd'] = [-10, -5, -1, 0, 1, 2]\n",
    "broken.head()"
   ]
  },
  {
   "cell_type": "markdown",
   "id": "e6ff0daf",
   "metadata": {},
   "source": [
    "## Part B — Minimal Pandera schema as a gate\n",
    "\n",
    "We'll define a small DataFrame schema to catch the above."
   ]
  },
  {
   "cell_type": "code",
   "execution_count": 13,
   "id": "fdbb09c8",
   "metadata": {},
   "outputs": [
    {
     "name": "stderr",
     "output_type": "stream",
     "text": [
      "774.19s - pydevd: Sending message related to process being replaced timed-out after 5 seconds\n"
     ]
    },
    {
     "name": "stdout",
     "output_type": "stream",
     "text": [
      "Requirement already satisfied: pandera in /home/sysadmin/llm_venv/lib/python3.13/site-packages (0.26.1)\n",
      "Requirement already satisfied: packaging>=20.0 in /home/sysadmin/llm_venv/lib/python3.13/site-packages (from pandera) (25.0)\n",
      "Requirement already satisfied: pydantic in /home/sysadmin/llm_venv/lib/python3.13/site-packages (from pandera) (2.12.3)\n",
      "Requirement already satisfied: typeguard in /home/sysadmin/llm_venv/lib/python3.13/site-packages (from pandera) (4.4.4)\n",
      "Requirement already satisfied: typing_extensions in /home/sysadmin/llm_venv/lib/python3.13/site-packages (from pandera) (4.15.0)\n",
      "Requirement already satisfied: typing_inspect>=0.6.0 in /home/sysadmin/llm_venv/lib/python3.13/site-packages (from pandera) (0.9.0)\n",
      "Requirement already satisfied: mypy-extensions>=0.3.0 in /home/sysadmin/llm_venv/lib/python3.13/site-packages (from typing_inspect>=0.6.0->pandera) (1.1.0)\n",
      "Requirement already satisfied: annotated-types>=0.6.0 in /home/sysadmin/llm_venv/lib/python3.13/site-packages (from pydantic->pandera) (0.7.0)\n",
      "Requirement already satisfied: pydantic-core==2.41.4 in /home/sysadmin/llm_venv/lib/python3.13/site-packages (from pydantic->pandera) (2.41.4)\n",
      "Requirement already satisfied: typing-inspection>=0.4.2 in /home/sysadmin/llm_venv/lib/python3.13/site-packages (from pydantic->pandera) (0.4.2)\n",
      "\n",
      "\u001b[1m[\u001b[0m\u001b[34;49mnotice\u001b[0m\u001b[1;39;49m]\u001b[0m\u001b[39;49m A new release of pip is available: \u001b[0m\u001b[31;49m25.2\u001b[0m\u001b[39;49m -> \u001b[0m\u001b[32;49m25.3\u001b[0m\n",
      "\u001b[1m[\u001b[0m\u001b[34;49mnotice\u001b[0m\u001b[1;39;49m]\u001b[0m\u001b[39;49m To update, run: \u001b[0m\u001b[32;49mpip install --upgrade pip\u001b[0m\n",
      "Note: you may need to restart the kernel to use updated packages.\n"
     ]
    }
   ],
   "source": [
    "%pip install pandera\n",
    "\n",
    "import pandera.pandas as pa\n",
    "from pandera import Column, Check\n",
    "\n",
    "Schema = pa.DataFrameSchema({\n",
    "    'CustomerID': Column(object, nullable=False),\n",
    "    'country_norm': Column(object, Check.isin(['USA','DE','SG','BR']), nullable=False),\n",
    "    'age': Column(pa.Int64, Check.in_range(0, 120), nullable=False),\n",
    "    'ltv_usd': Column(float, Check.ge(0), nullable=False),\n",
    "    'is_adult': Column(bool, nullable=False),\n",
    "    'is_high_value': Column(bool, nullable=False),\n",
    "})"
   ]
  },
  {
   "cell_type": "markdown",
   "id": "77462d51",
   "metadata": {},
   "source": [
    "### B1. Validate clean vs broken"
   ]
  },
  {
   "cell_type": "code",
   "execution_count": 21,
   "id": "9ae2d39b",
   "metadata": {},
   "outputs": [
    {
     "name": "stdout",
     "output_type": "stream",
     "text": [
      "clean rows: 300\n",
      "  schema_context        column                            check  check_number  \\\n",
      "0         Column  country_norm  isin(['USA', 'DE', 'SG', 'BR'])           0.0   \n",
      "1         Column  country_norm  isin(['USA', 'DE', 'SG', 'BR'])           0.0   \n",
      "2         Column  country_norm  isin(['USA', 'DE', 'SG', 'BR'])           0.0   \n",
      "3         Column  country_norm  isin(['USA', 'DE', 'SG', 'BR'])           0.0   \n",
      "4         Column       ltv_usd      greater_than_or_equal_to(0)           0.0   \n",
      "5         Column       ltv_usd      greater_than_or_equal_to(0)           0.0   \n",
      "6         Column       ltv_usd      greater_than_or_equal_to(0)           0.0   \n",
      "7         Column           age                   dtype('int64')           NaN   \n",
      "8         Column           age                 in_range(0, 120)           0.0   \n",
      "\n",
      "                                        failure_case index  \n",
      "0                                             U.S.A.    10  \n",
      "1                                      United States    11  \n",
      "2                                                usa    12  \n",
      "3                                                 US    13  \n",
      "4                                              -10.0    50  \n",
      "5                                               -5.0    51  \n",
      "6                                               -1.0    52  \n",
      "7                                             object  None  \n",
      "8  TypeError(\"'>=' not supported between instance...  None  \n"
     ]
    }
   ],
   "source": [
    "# Clean should pass\n",
    "ok = Schema.validate(users2, lazy=True)\n",
    "print('clean rows:', len(ok))\n",
    "\n",
    "# Broken should fail with a report\n",
    "try:\n",
    "    Schema.validate(broken, lazy=True)\n",
    "except pa.errors.SchemaErrors as err:\n",
    "    report = err.failure_cases\n",
    "    print(report.head(10))"
   ]
  },
  {
   "cell_type": "markdown",
   "id": "358594fd",
   "metadata": {},
   "source": [
    "**Checkpoint:** Inspect `report` to see: wrong dtype (`age`), out‑of‑set categories (`country_norm`), and negative values (`ltv_usd`).\n",
    "\n",
    "### B2. Actionable messages for CI / logs"
   ]
  },
  {
   "cell_type": "code",
   "execution_count": 22,
   "id": "6d2bf2c2",
   "metadata": {},
   "outputs": [
    {
     "data": {
      "application/vnd.microsoft.datawrangler.viewer.v0+json": {
       "columns": [
        {
         "name": "index",
         "rawType": "int64",
         "type": "integer"
        },
        {
         "name": "column",
         "rawType": "object",
         "type": "string"
        },
        {
         "name": "check",
         "rawType": "object",
         "type": "string"
        },
        {
         "name": "failures",
         "rawType": "int64",
         "type": "integer"
        }
       ],
       "ref": "ff4a26cf-4f69-4167-bbcd-1f5cb799ae96",
       "rows": [
        [
         "2",
         "country_norm",
         "isin(['USA', 'DE', 'SG', 'BR'])",
         "4"
        ],
        [
         "3",
         "ltv_usd",
         "greater_than_or_equal_to(0)",
         "3"
        ],
        [
         "1",
         "age",
         "in_range(0, 120)",
         "1"
        ],
        [
         "0",
         "age",
         "dtype('int64')",
         "1"
        ]
       ],
       "shape": {
        "columns": 3,
        "rows": 4
       }
      },
      "text/html": [
       "<div>\n",
       "<style scoped>\n",
       "    .dataframe tbody tr th:only-of-type {\n",
       "        vertical-align: middle;\n",
       "    }\n",
       "\n",
       "    .dataframe tbody tr th {\n",
       "        vertical-align: top;\n",
       "    }\n",
       "\n",
       "    .dataframe thead th {\n",
       "        text-align: right;\n",
       "    }\n",
       "</style>\n",
       "<table border=\"1\" class=\"dataframe\">\n",
       "  <thead>\n",
       "    <tr style=\"text-align: right;\">\n",
       "      <th></th>\n",
       "      <th>column</th>\n",
       "      <th>check</th>\n",
       "      <th>failures</th>\n",
       "    </tr>\n",
       "  </thead>\n",
       "  <tbody>\n",
       "    <tr>\n",
       "      <th>2</th>\n",
       "      <td>country_norm</td>\n",
       "      <td>isin(['USA', 'DE', 'SG', 'BR'])</td>\n",
       "      <td>4</td>\n",
       "    </tr>\n",
       "    <tr>\n",
       "      <th>3</th>\n",
       "      <td>ltv_usd</td>\n",
       "      <td>greater_than_or_equal_to(0)</td>\n",
       "      <td>3</td>\n",
       "    </tr>\n",
       "    <tr>\n",
       "      <th>1</th>\n",
       "      <td>age</td>\n",
       "      <td>in_range(0, 120)</td>\n",
       "      <td>1</td>\n",
       "    </tr>\n",
       "    <tr>\n",
       "      <th>0</th>\n",
       "      <td>age</td>\n",
       "      <td>dtype('int64')</td>\n",
       "      <td>1</td>\n",
       "    </tr>\n",
       "  </tbody>\n",
       "</table>\n",
       "</div>"
      ],
      "text/plain": [
       "         column                            check  failures\n",
       "2  country_norm  isin(['USA', 'DE', 'SG', 'BR'])         4\n",
       "3       ltv_usd      greater_than_or_equal_to(0)         3\n",
       "1           age                 in_range(0, 120)         1\n",
       "0           age                   dtype('int64')         1"
      ]
     },
     "execution_count": 22,
     "metadata": {},
     "output_type": "execute_result"
    }
   ],
   "source": [
    "# Summarize by column + failure type\n",
    "summary = (report\n",
    "           .groupby(['column', 'check'])\n",
    "           .size()\n",
    "           .reset_index(name='failures')\n",
    "           .sort_values('failures', ascending=False))\n",
    "summary"
   ]
  },
  {
   "cell_type": "markdown",
   "id": "7d5efa45",
   "metadata": {},
   "source": [
    "> **Interpretation:** This summary is what you'd attach to a CI artifact or Slack alert."
   ]
  },
  {
   "cell_type": "markdown",
   "id": "da89d0e7",
   "metadata": {},
   "source": [
    "## Part C — Row‑level validation with Pydantic (optional)\n",
    "\n",
    "Use Pydantic models when you're validating **per‑row payloads** (e.g., API messages) or writing contracts across services."
   ]
  },
  {
   "cell_type": "code",
   "execution_count": 25,
   "id": "3314dac5",
   "metadata": {},
   "outputs": [
    {
     "name": "stderr",
     "output_type": "stream",
     "text": [
      "3074.65s - pydevd: Sending message related to process being replaced timed-out after 5 seconds\n"
     ]
    },
    {
     "name": "stdout",
     "output_type": "stream",
     "text": [
      "Requirement already satisfied: pydantic in /home/sysadmin/llm_venv/lib/python3.13/site-packages (2.12.3)\n",
      "Requirement already satisfied: annotated-types>=0.6.0 in /home/sysadmin/llm_venv/lib/python3.13/site-packages (from pydantic) (0.7.0)\n",
      "Requirement already satisfied: pydantic-core==2.41.4 in /home/sysadmin/llm_venv/lib/python3.13/site-packages (from pydantic) (2.41.4)\n",
      "Requirement already satisfied: typing-extensions>=4.14.1 in /home/sysadmin/llm_venv/lib/python3.13/site-packages (from pydantic) (4.15.0)\n",
      "Requirement already satisfied: typing-inspection>=0.4.2 in /home/sysadmin/llm_venv/lib/python3.13/site-packages (from pydantic) (0.4.2)\n",
      "\n",
      "\u001b[1m[\u001b[0m\u001b[34;49mnotice\u001b[0m\u001b[1;39;49m]\u001b[0m\u001b[39;49m A new release of pip is available: \u001b[0m\u001b[31;49m25.2\u001b[0m\u001b[39;49m -> \u001b[0m\u001b[32;49m25.3\u001b[0m\n",
      "\u001b[1m[\u001b[0m\u001b[34;49mnotice\u001b[0m\u001b[1;39;49m]\u001b[0m\u001b[39;49m To update, run: \u001b[0m\u001b[32;49mpip install --upgrade pip\u001b[0m\n",
      "Note: you may need to restart the kernel to use updated packages.\n"
     ]
    },
    {
     "data": {
      "text/plain": [
       "CustomerRow(CustomerID='C00000', country_norm='SG', age=55, ltv_usd=28.0, is_adult=True, is_high_value=True)"
      ]
     },
     "execution_count": 25,
     "metadata": {},
     "output_type": "execute_result"
    }
   ],
   "source": [
    "%pip install pydantic\n",
    "\n",
    "from pydantic import BaseModel, Field, ValidationError\n",
    "from typing import Literal\n",
    "\n",
    "class CustomerRow(BaseModel):\n",
    "    CustomerID: str\n",
    "    country_norm: Literal['USA','DE','SG','BR']\n",
    "    age: int = Field(ge=0, le=120)\n",
    "    ltv_usd: float = Field(ge=0)\n",
    "    is_adult: bool\n",
    "    is_high_value: bool\n",
    "\n",
    "row = users2.iloc[0].to_dict()\n",
    "CustomerRow(**row)"
   ]
  },
  {
   "cell_type": "code",
   "execution_count": 26,
   "id": "7f1da8b2",
   "metadata": {},
   "outputs": [
    {
     "name": "stdout",
     "output_type": "stream",
     "text": [
      "1 validation error for CustomerRow\n",
      "country_norm\n",
      "  Input should be 'USA', 'DE', 'SG' or 'BR' [type=literal_error, input_value='usa', input_type=str]\n",
      "    For further information visit https://errors.pydantic.dev/2.12/v/literal_error\n"
     ]
    }
   ],
   "source": [
    "try:\n",
    "    CustomerRow(**broken.iloc[12].to_dict())\n",
    "except ValidationError as e:\n",
    "    print(e)"
   ]
  },
  {
   "cell_type": "markdown",
   "id": "e72c5cd1",
   "metadata": {},
   "source": [
    "**When to prefer Pydantic:** API boundaries, message queues, microservices. **When to prefer Pandera:** bulk DataFrame validation in ETL/ELT."
   ]
  },
  {
   "cell_type": "markdown",
   "id": "1d01a7d5",
   "metadata": {},
   "source": [
    "## Part D — Pre‑flight gate function + fail‑fast\n",
    "\n",
    "Wrap the schema check in a reusable function that raises a concise, friendly error and writes a CSV report for triage."
   ]
  },
  {
   "cell_type": "code",
   "execution_count": 27,
   "id": "f5288ce4",
   "metadata": {},
   "outputs": [],
   "source": [
    "from pathlib import Path\n",
    "\n",
    "def validate_or_raise(df: pd.DataFrame, schema: pa.DataFrameSchema, name: str, out_dir: str = 'artifacts/validation') -> pd.DataFrame:\n",
    "    Path(out_dir).mkdir(parents=True, exist_ok=True)\n",
    "    try:\n",
    "        return schema.validate(df, lazy=True)\n",
    "    except pa.errors.SchemaErrors as err:\n",
    "        rep = err.failure_cases\n",
    "        dest = Path(out_dir) / f'{name}_schema_failures.csv'\n",
    "        rep.to_csv(dest, index=False)\n",
    "        # compact message for logs/CI\n",
    "        top = (rep.groupby(['column','check']).size().reset_index(name='n')\n",
    "                 .sort_values('n', ascending=False).head(5).to_dict(orient='records'))\n",
    "        raise RuntimeError(f\"Validation failed for {name}. Top issues: {top}. See {dest}\")"
   ]
  },
  {
   "cell_type": "code",
   "execution_count": 28,
   "id": "fa81d694",
   "metadata": {},
   "outputs": [
    {
     "name": "stdout",
     "output_type": "stream",
     "text": [
      "\n",
      "GATE BLOCKED -> Validation failed for users2_broken. Top issues: [{'column': 'country_norm', 'check': \"isin(['USA', 'DE', 'SG', 'BR'])\", 'n': 4}, {'column': 'ltv_usd', 'check': 'greater_than_or_equal_to(0)', 'n': 3}, {'column': 'age', 'check': 'in_range(0, 120)', 'n': 1}, {'column': 'age', 'check': \"dtype('int64')\", 'n': 1}]. See artifacts/validation/users2_broken_schema_failures.csv\n"
     ]
    }
   ],
   "source": [
    "# Example usage\n",
    "_ = validate_or_raise(users2, Schema, name='users2_clean')\n",
    "try:\n",
    "    _ = validate_or_raise(broken, Schema, name='users2_broken')\n",
    "except RuntimeError as e:\n",
    "    print('\\nGATE BLOCKED ->', e)"
   ]
  },
  {
   "cell_type": "markdown",
   "id": "5dc5bc44",
   "metadata": {},
   "source": [
    "## Part E — Wrap‑Up\n",
    "\n",
    "Add a markdown cell and answer:\n",
    "\n",
    "1. Name one structural and one semantic drift you simulated. How would each impact an LLM component downstream?  \n",
    "2. Paste the top 3 failure types from your summary and propose a remediation (fix in source vs transform rule).  \n",
    "3. Where would you place this validation gate in your Day‑1/Day‑2 pipeline, and why?"
   ]
  },
  {
   "cell_type": "markdown",
   "id": "44128b5a",
   "metadata": {},
   "source": [
    "### Your answers here:\n",
    "\n",
    "**1. Structural and Semantic Drift:**\n",
    "\n",
    "- **Structural drift:** Age column changed from Int64 to string for some rows. This would break downstream operations like numerical aggregations, comparisons, or ML model features that expect numeric input.\n",
    "- **Semantic drift:** Country labels changed to non-standard values ('U.S.A.', 'United States', 'usa', 'US'). This would cause category splits in LLM prompts, create duplicate embeddings for the same entity, and inflate token usage unnecessarily.\n",
    "\n",
    "**2. Top 3 Failure Types:**\n",
    "\n",
    "*(Fill in based on your actual output)*\n",
    "\n",
    "Example:\n",
    "- `age` dtype mismatch: Fix at source by enforcing integer type constraints in upstream system\n",
    "- `country_norm` out of allowed set: Add transform rule to normalize variants before validation\n",
    "- `ltv_usd` negative values: Fix at source by adding database constraint or API validation\n",
    "\n",
    "**3. Validation Gate Placement:**\n",
    "\n",
    "I would place this validation gate:\n",
    "- **Immediately after data ingestion** (Day-1) to fail fast before any transformation or enrichment\n",
    "- **Before feature engineering** (Day-2) to protect ML/LLM components from corrupted inputs\n",
    "- **As a CI/CD check** before promoting data to production storage\n",
    "\n",
    "Why: Early detection minimizes wasted processing, prevents cascading errors, and provides clear diagnostic information at the point of failure."
   ]
  },
  {
   "cell_type": "markdown",
   "id": "4c660596",
   "metadata": {},
   "source": [
    "---\n",
    "\n",
    "**Common pitfalls:** Using `object` dtypes everywhere; not distinguishing `structural` vs `semantic` drift; over‑fitting schemas (too strict for expected evolution)."
   ]
  },
  {
   "cell_type": "markdown",
   "id": "c0982abe",
   "metadata": {},
   "source": [
    "## Solution Snippets (reference)\n",
    "\n",
    "**Quick failure roll‑up:**"
   ]
  },
  {
   "cell_type": "code",
   "execution_count": 29,
   "id": "7b33a0d1",
   "metadata": {},
   "outputs": [
    {
     "data": {
      "application/vnd.microsoft.datawrangler.viewer.v0+json": {
       "columns": [
        {
         "name": "index",
         "rawType": "int64",
         "type": "integer"
        },
        {
         "name": "column",
         "rawType": "object",
         "type": "string"
        },
        {
         "name": "check",
         "rawType": "object",
         "type": "string"
        },
        {
         "name": "failures",
         "rawType": "int64",
         "type": "integer"
        }
       ],
       "ref": "c04a0e18-c91f-45e1-a1c5-0437327eb73a",
       "rows": [
        [
         "2",
         "country_norm",
         "isin(['USA', 'DE', 'SG', 'BR'])",
         "4"
        ],
        [
         "3",
         "ltv_usd",
         "greater_than_or_equal_to(0)",
         "3"
        ],
        [
         "1",
         "age",
         "in_range(0, 120)",
         "1"
        ],
        [
         "0",
         "age",
         "dtype('int64')",
         "1"
        ]
       ],
       "shape": {
        "columns": 3,
        "rows": 4
       }
      },
      "text/html": [
       "<div>\n",
       "<style scoped>\n",
       "    .dataframe tbody tr th:only-of-type {\n",
       "        vertical-align: middle;\n",
       "    }\n",
       "\n",
       "    .dataframe tbody tr th {\n",
       "        vertical-align: top;\n",
       "    }\n",
       "\n",
       "    .dataframe thead th {\n",
       "        text-align: right;\n",
       "    }\n",
       "</style>\n",
       "<table border=\"1\" class=\"dataframe\">\n",
       "  <thead>\n",
       "    <tr style=\"text-align: right;\">\n",
       "      <th></th>\n",
       "      <th>column</th>\n",
       "      <th>check</th>\n",
       "      <th>failures</th>\n",
       "    </tr>\n",
       "  </thead>\n",
       "  <tbody>\n",
       "    <tr>\n",
       "      <th>2</th>\n",
       "      <td>country_norm</td>\n",
       "      <td>isin(['USA', 'DE', 'SG', 'BR'])</td>\n",
       "      <td>4</td>\n",
       "    </tr>\n",
       "    <tr>\n",
       "      <th>3</th>\n",
       "      <td>ltv_usd</td>\n",
       "      <td>greater_than_or_equal_to(0)</td>\n",
       "      <td>3</td>\n",
       "    </tr>\n",
       "    <tr>\n",
       "      <th>1</th>\n",
       "      <td>age</td>\n",
       "      <td>in_range(0, 120)</td>\n",
       "      <td>1</td>\n",
       "    </tr>\n",
       "    <tr>\n",
       "      <th>0</th>\n",
       "      <td>age</td>\n",
       "      <td>dtype('int64')</td>\n",
       "      <td>1</td>\n",
       "    </tr>\n",
       "  </tbody>\n",
       "</table>\n",
       "</div>"
      ],
      "text/plain": [
       "         column                            check  failures\n",
       "2  country_norm  isin(['USA', 'DE', 'SG', 'BR'])         4\n",
       "3       ltv_usd      greater_than_or_equal_to(0)         3\n",
       "1           age                 in_range(0, 120)         1\n",
       "0           age                   dtype('int64')         1"
      ]
     },
     "execution_count": 29,
     "metadata": {},
     "output_type": "execute_result"
    }
   ],
   "source": [
    "summary = (report.groupby(['column','check'])\n",
    "           .size().reset_index(name='failures')\n",
    "           .sort_values('failures', ascending=False))\n",
    "summary.head()"
   ]
  },
  {
   "cell_type": "markdown",
   "id": "b837c8ad",
   "metadata": {},
   "source": [
    "**CI‑style assert:**"
   ]
  },
  {
   "cell_type": "code",
   "execution_count": 30,
   "id": "e0cc881a",
   "metadata": {},
   "outputs": [],
   "source": [
    "assert Schema.validate(users2, lazy=True) is not None"
   ]
  },
  {
   "cell_type": "markdown",
   "id": "6fb0b730",
   "metadata": {},
   "source": [
    "**Lightweight allow‑list for categories:**"
   ]
  },
  {
   "cell_type": "code",
   "execution_count": 31,
   "id": "dea31c66",
   "metadata": {},
   "outputs": [
    {
     "data": {
      "text/plain": [
       "{'U.S.A.', 'US', 'United States', 'usa'}"
      ]
     },
     "execution_count": 31,
     "metadata": {},
     "output_type": "execute_result"
    }
   ],
   "source": [
    "allowed = {'USA','DE','SG','BR'}\n",
    "viol = set(broken['country_norm']) - allowed\n",
    "viol"
   ]
  }
 ],
 "metadata": {
  "kernelspec": {
   "display_name": "llm_venv",
   "language": "python",
   "name": "python3"
  },
  "language_info": {
   "codemirror_mode": {
    "name": "ipython",
    "version": 3
   },
   "file_extension": ".py",
   "mimetype": "text/x-python",
   "name": "python",
   "nbconvert_exporter": "python",
   "pygments_lexer": "ipython3",
   "version": "3.13.8"
  }
 },
 "nbformat": 4,
 "nbformat_minor": 5
}
