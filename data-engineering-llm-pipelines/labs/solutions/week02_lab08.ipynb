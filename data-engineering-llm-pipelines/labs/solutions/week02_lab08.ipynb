{
 "cells": [
  {
   "cell_type": "markdown",
   "id": "147224ee",
   "metadata": {},
   "source": [
    "# Lab 08 — Why Schema Validation in ML/LLM Pipelines\n",
    "\n",
    "**Focus Area:** Why schema validation — catching upstream drift; protecting training/eval\n",
    "\n",
    "> This lab is the *why* and *show‑me* for validation. You'll simulate upstream changes (types, ranges, unexpected categories) and see how a light schema gate prevents bad data from reaching LLM‑adjacent stages.\n",
    "\n",
    "---\n",
    "\n",
    "## Outcomes\n",
    "\n",
    "By the end of this lab, you will be able to:\n",
    "\n",
    "1. Explain the difference between **structural drift** (columns/types) and **semantic drift** (values/ranges/categories), and why each harms LLM workflows.\n",
    "2. Add a **pre‑flight validation gate** that fails fast with actionable messages.\n",
    "3. Use a **minimal Pandera schema** (or Pydantic model per row) to enforce types, ranges, and categorical sets.\n",
    "4. Capture **human‑readable failure reports** for debugging, CI, and incident triage."
   ]
  },
  {
   "cell_type": "markdown",
   "id": "9859bf74",
   "metadata": {},
   "source": [
    "## Prerequisites & Setup\n",
    "\n",
    "- Python 3.13 with `pandas`, `numpy`, `pandera`, `pydantic`, `pyarrow` installed.  \n",
    "- JupyterLab or VS Code with Jupyter extension.\n",
    "- Artifacts from previous labs (optional but recommended): `artifacts/clean/per_customer_enriched.parquet` or `users2_clean.parquet`  \n",
    "\n",
    "**Start a notebook:** `week02_lab08.ipynb`\n",
    "\n",
    "If you don't have prior artifacts, synthesize a small frame now:"
   ]
  },
  {
   "cell_type": "code",
   "execution_count": null,
   "id": "91b34a32",
   "metadata": {},
   "outputs": [],
   "source": [
    "import numpy as np, pandas as pd\n",
    "rng = np.random.default_rng(42)\n",
    "users2 = pd.DataFrame({\n",
    "    'CustomerID': [f'C{i:05d}' for i in range(300)],\n",
    "    'country_norm': rng.choice(['USA','DE','SG','BR'], size=300, p=[.55,.2,.15,.1]),\n",
    "    'age': rng.integers(16, 80, size=300).astype('Int64'),\n",
    "    'ltv_usd': np.round(np.clip(rng.lognormal(3.0, 0.7, size=300), 0, 5e4), 2),\n",
    "    'is_adult': (rng.integers(16, 80, size=300) >= 18),\n",
    "    'is_high_value': rng.random(300) > 0.85,\n",
    "})\n",
    "users2.head()"
   ]
  },
  {
   "cell_type": "markdown",
   "id": "c70a8da9",
   "metadata": {},
   "source": [
    "## Part A — What can go wrong, concretely?\n",
    "\n",
    "In LLM/ML pipelines, silent data drift can:\n",
    "\n",
    "- **Break transforms** (e.g., `to_datetime` fails after a type flip from string→int).\n",
    "- **Bias metrics** (e.g., new country labels split a cohort: `U.S.A.` appears again).\n",
    "- **Explode tokens/costs** (e.g., unexpectedly long text fields; numeric → string inflation).\n",
    "- **Poison eval/train** (e.g., negative prices; out‑of‑range ages; missing required keys).\n",
    "\n",
    "**Exercise:** Create 3 synthetic drifts."
   ]
  },
  {
   "cell_type": "code",
   "execution_count": null,
   "id": "b37a157b",
   "metadata": {},
   "outputs": [],
   "source": [
    "broken = users2.copy()\n",
    "# 1) Structural drift: age becomes string for some rows\n",
    "broken.loc[broken.index[:20], 'age'] = broken.loc[broken.index[:20], 'age'].astype(str)\n",
    "# 2) Semantic drift: country label out of policy\n",
    "broken.loc[10:15, 'country_norm'] = ['U.S.A.','United States','usa','US','USA','USA']\n",
    "# 3) Range drift: negative ltv sneaks in\n",
    "broken.loc[50:55, 'ltv_usd'] = [-10, -5, -1, 0, 1, 2]\n",
    "broken.head()"
   ]
  },
  {
   "cell_type": "markdown",
   "id": "e6ff0daf",
   "metadata": {},
   "source": [
    "## Part B — Minimal Pandera schema as a gate\n",
    "\n",
    "We'll define a small DataFrame schema to catch the above."
   ]
  },
  {
   "cell_type": "code",
   "execution_count": null,
   "id": "fdbb09c8",
   "metadata": {},
   "outputs": [],
   "source": [
    "import pandera as pa\n",
    "from pandera import Column, Check\n",
    "\n",
    "Schema = pa.DataFrameSchema({\n",
    "    'CustomerID': Column(object, nullable=False),\n",
    "    'country_norm': Column(object, Check.isin(['USA','DE','SG','BR']), nullable=False),\n",
    "    'age': Column(pa.Int64, Check.in_range(0, 120), nullable=False),\n",
    "    'ltv_usd': Column(float, Check.ge(0), nullable=False),\n",
    "    'is_adult': Column(bool, nullable=False),\n",
    "    'is_high_value': Column(bool, nullable=False),\n",
    "})"
   ]
  },
  {
   "cell_type": "markdown",
   "id": "77462d51",
   "metadata": {},
   "source": [
    "### B1. Validate clean vs broken"
   ]
  },
  {
   "cell_type": "code",
   "execution_count": null,
   "id": "9ae2d39b",
   "metadata": {},
   "outputs": [],
   "source": [
    "# Clean should pass\n",
    "ok = Schema.validate(users2, lazy=True)\n",
    "print('clean rows:', len(ok))\n",
    "\n",
    "# Broken should fail with a report\n",
    "try:\n",
    "    Schema.validate(broken, lazy=True)\n",
    "except pa.errors.SchemaErrors as err:\n",
    "    report = err.failure_cases\n",
    "    report.head(10)"
   ]
  },
  {
   "cell_type": "markdown",
   "id": "358594fd",
   "metadata": {},
   "source": [
    "**Checkpoint:** Inspect `report` to see: wrong dtype (`age`), out‑of‑set categories (`country_norm`), and negative values (`ltv_usd`).\n",
    "\n",
    "### B2. Actionable messages for CI / logs"
   ]
  },
  {
   "cell_type": "code",
   "execution_count": null,
   "id": "6d2bf2c2",
   "metadata": {},
   "outputs": [],
   "source": [
    "# Summarize by column + failure type\n",
    "summary = (report\n",
    "           .groupby(['column', 'check'])\n",
    "           .size()\n",
    "           .reset_index(name='failures')\n",
    "           .sort_values('failures', ascending=False))\n",
    "summary"
   ]
  },
  {
   "cell_type": "markdown",
   "id": "7d5efa45",
   "metadata": {},
   "source": [
    "> **Interpretation:** This summary is what you'd attach to a CI artifact or Slack alert."
   ]
  },
  {
   "cell_type": "markdown",
   "id": "da89d0e7",
   "metadata": {},
   "source": [
    "## Part C — Row‑level validation with Pydantic (optional)\n",
    "\n",
    "Use Pydantic models when you're validating **per‑row payloads** (e.g., API messages) or writing contracts across services."
   ]
  },
  {
   "cell_type": "code",
   "execution_count": null,
   "id": "3314dac5",
   "metadata": {},
   "outputs": [],
   "source": [
    "from pydantic import BaseModel, Field, ValidationError\n",
    "from typing import Literal\n",
    "\n",
    "class CustomerRow(BaseModel):\n",
    "    CustomerID: str\n",
    "    country_norm: Literal['USA','DE','SG','BR']\n",
    "    age: int = Field(ge=0, le=120)\n",
    "    ltv_usd: float = Field(ge=0)\n",
    "    is_adult: bool\n",
    "    is_high_value: bool\n",
    "\n",
    "row = users2.iloc[0].to_dict()\n",
    "CustomerRow(**row)"
   ]
  },
  {
   "cell_type": "code",
   "execution_count": null,
   "id": "7f1da8b2",
   "metadata": {},
   "outputs": [],
   "source": [
    "try:\n",
    "    CustomerRow(**broken.iloc[12].to_dict())\n",
    "except ValidationError as e:\n",
    "    print(e)"
   ]
  },
  {
   "cell_type": "markdown",
   "id": "e72c5cd1",
   "metadata": {},
   "source": [
    "**When to prefer Pydantic:** API boundaries, message queues, microservices. **When to prefer Pandera:** bulk DataFrame validation in ETL/ELT."
   ]
  },
  {
   "cell_type": "markdown",
   "id": "1d01a7d5",
   "metadata": {},
   "source": [
    "## Part D — Pre‑flight gate function + fail‑fast\n",
    "\n",
    "Wrap the schema check in a reusable function that raises a concise, friendly error and writes a CSV report for triage."
   ]
  },
  {
   "cell_type": "code",
   "execution_count": null,
   "id": "f5288ce4",
   "metadata": {},
   "outputs": [],
   "source": [
    "from pathlib import Path\n",
    "\n",
    "def validate_or_raise(df: pd.DataFrame, schema: pa.DataFrameSchema, name: str, out_dir: str = 'artifacts/validation') -> pd.DataFrame:\n",
    "    Path(out_dir).mkdir(parents=True, exist_ok=True)\n",
    "    try:\n",
    "        return schema.validate(df, lazy=True)\n",
    "    except pa.errors.SchemaErrors as err:\n",
    "        rep = err.failure_cases\n",
    "        dest = Path(out_dir) / f'{name}_schema_failures.csv'\n",
    "        rep.to_csv(dest, index=False)\n",
    "        # compact message for logs/CI\n",
    "        top = (rep.groupby(['column','check']).size().reset_index(name='n')\n",
    "                 .sort_values('n', ascending=False).head(5).to_dict(orient='records'))\n",
    "        raise RuntimeError(f\"Validation failed for {name}. Top issues: {top}. See {dest}\")"
   ]
  },
  {
   "cell_type": "code",
   "execution_count": null,
   "id": "fa81d694",
   "metadata": {},
   "outputs": [],
   "source": [
    "# Example usage\n",
    "_ = validate_or_raise(users2, Schema, name='users2_clean')\n",
    "try:\n",
    "    _ = validate_or_raise(broken, Schema, name='users2_broken')\n",
    "except RuntimeError as e:\n",
    "    print('\\nGATE BLOCKED ->', e)"
   ]
  },
  {
   "cell_type": "markdown",
   "id": "5dc5bc44",
   "metadata": {},
   "source": [
    "## Part E — Wrap‑Up\n",
    "\n",
    "Add a markdown cell and answer:\n",
    "\n",
    "1. Name one structural and one semantic drift you simulated. How would each impact an LLM component downstream?  \n",
    "2. Paste the top 3 failure types from your summary and propose a remediation (fix in source vs transform rule).  \n",
    "3. Where would you place this validation gate in your Day‑1/Day‑2 pipeline, and why?"
   ]
  },
  {
   "cell_type": "markdown",
   "id": "44128b5a",
   "metadata": {},
   "source": [
    "### Your answers here:\n",
    "\n",
    "**1. Structural and Semantic Drift:**\n",
    "\n",
    "- **Structural drift:** Age column changed from Int64 to string for some rows. This would break downstream operations like numerical aggregations, comparisons, or ML model features that expect numeric input.\n",
    "- **Semantic drift:** Country labels changed to non-standard values ('U.S.A.', 'United States', 'usa', 'US'). This would cause category splits in LLM prompts, create duplicate embeddings for the same entity, and inflate token usage unnecessarily.\n",
    "\n",
    "**2. Top 3 Failure Types:**\n",
    "\n",
    "*(Fill in based on your actual output)*\n",
    "\n",
    "Example:\n",
    "- `age` dtype mismatch: Fix at source by enforcing integer type constraints in upstream system\n",
    "- `country_norm` out of allowed set: Add transform rule to normalize variants before validation\n",
    "- `ltv_usd` negative values: Fix at source by adding database constraint or API validation\n",
    "\n",
    "**3. Validation Gate Placement:**\n",
    "\n",
    "I would place this validation gate:\n",
    "- **Immediately after data ingestion** (Day-1) to fail fast before any transformation or enrichment\n",
    "- **Before feature engineering** (Day-2) to protect ML/LLM components from corrupted inputs\n",
    "- **As a CI/CD check** before promoting data to production storage\n",
    "\n",
    "Why: Early detection minimizes wasted processing, prevents cascading errors, and provides clear diagnostic information at the point of failure."
   ]
  },
  {
   "cell_type": "markdown",
   "id": "4c660596",
   "metadata": {},
   "source": [
    "---\n",
    "\n",
    "**Common pitfalls:** Using `object` dtypes everywhere; not distinguishing `structural` vs `semantic` drift; over‑fitting schemas (too strict for expected evolution)."
   ]
  },
  {
   "cell_type": "markdown",
   "id": "c0982abe",
   "metadata": {},
   "source": [
    "## Solution Snippets (reference)\n",
    "\n",
    "**Quick failure roll‑up:**"
   ]
  },
  {
   "cell_type": "code",
   "execution_count": null,
   "id": "7b33a0d1",
   "metadata": {},
   "outputs": [],
   "source": [
    "summary = (report.groupby(['column','check'])\n",
    "           .size().reset_index(name='failures')\n",
    "           .sort_values('failures', ascending=False))\n",
    "summary.head()"
   ]
  },
  {
   "cell_type": "markdown",
   "id": "b837c8ad",
   "metadata": {},
   "source": [
    "**CI‑style assert:**"
   ]
  },
  {
   "cell_type": "code",
   "execution_count": null,
   "id": "e0cc881a",
   "metadata": {},
   "outputs": [],
   "source": [
    "assert Schema.validate(users2, lazy=True) is not None"
   ]
  },
  {
   "cell_type": "markdown",
   "id": "6fb0b730",
   "metadata": {},
   "source": [
    "**Lightweight allow‑list for categories:**"
   ]
  },
  {
   "cell_type": "code",
   "execution_count": null,
   "id": "dea31c66",
   "metadata": {},
   "outputs": [],
   "source": [
    "allowed = {'USA','DE','SG','BR'}\n",
    "viol = set(broken['country_norm']) - allowed\n",
    "viol"
   ]
  }
 ],
 "metadata": {
  "language_info": {
   "name": "python"
  }
 },
 "nbformat": 4,
 "nbformat_minor": 5
}
